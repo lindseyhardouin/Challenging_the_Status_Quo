{
 "cells": [
  {
   "cell_type": "markdown",
   "metadata": {},
   "source": [
    "# Real Estate Portfolio Analysis"
   ]
  },
  {
   "cell_type": "markdown",
   "metadata": {},
   "source": [
    "## Notebook Initialization and Configuration"
   ]
  },
  {
   "cell_type": "markdown",
   "metadata": {},
   "source": [
    "### Add imports"
   ]
  },
  {
   "cell_type": "code",
   "execution_count": 15,
   "metadata": {},
   "outputs": [],
   "source": [
    "import os\n",
    "import pandas as pd\n",
    "import alpaca_trade_api as tradeapi\n",
    "from pathlib import Path\n",
    "from dotenv import load_dotenv\n"
   ]
  },
  {
   "cell_type": "markdown",
   "metadata": {},
   "source": [
    "### Add Configuration"
   ]
  },
  {
   "cell_type": "code",
   "execution_count": 16,
   "metadata": {},
   "outputs": [],
   "source": [
    "NUM_TRADING_DAYS = 252\n",
    "NUM_SIMULATIONS = 500\n",
    "Z_SCORE_NORMAL_95 = 1.96\n",
    "TICKERS = ['AMT', 'PLD', 'CCI', 'EQIX', 'PSA']\n",
    "TIMEFRAME = '1D'\n",
    "START_DATE_ET = '2018-11-04'\n",
    "END_DATE_ET = '2021-11-04'"
   ]
  },
  {
   "cell_type": "markdown",
   "metadata": {},
   "source": [
    "## Retrieve, Prepare, and Store Data"
   ]
  },
  {
   "cell_type": "markdown",
   "metadata": {},
   "source": [
    "### Intialize Alpaca Trading API Client"
   ]
  },
  {
   "cell_type": "code",
   "execution_count": 17,
   "metadata": {},
   "outputs": [],
   "source": [
    "# NOTE: Must have the APCA_API_KEY_ID and APCA_API_SECRET_KEY\n",
    "# environment variables configured in the OS or in a .env file.\n",
    "# Environment variables with this name are looked up by default\n",
    "# by Alpaca.\n",
    "load_dotenv()\n",
    "alpaca = tradeapi.REST()"
   ]
  },
  {
   "cell_type": "markdown",
   "metadata": {},
   "source": [
    "### Retrieve and store raw data"
   ]
  },
  {
   "cell_type": "code",
   "execution_count": 19,
   "metadata": {},
   "outputs": [],
   "source": [
    "start_date = pd.Timestamp(START_DATE_ET, tz='America/New_York').isoformat()\n",
    "end_date = pd.Timestamp(END_DATE_ET, tz='America/New_York').isoformat()\n",
    "\n",
    "closing_prices_df = alpaca.get_barset(\n",
    "                        symbols=TICKERS,\n",
    "                        timeframe=TIMEFRAME,\n",
    "                        start=start_date,\n",
    "                        end=end_date).df\n",
    "\n",
    "closing_prices_df = closing_prices_df.xs('close',axis='columns',level=1)\n",
    "closing_prices_df.to_csv(Path('../data/real_estate_raw.csv'))"
   ]
  },
  {
   "cell_type": "markdown",
   "metadata": {},
   "source": [
    "### Clean and store data"
   ]
  },
  {
   "cell_type": "code",
   "execution_count": 24,
   "metadata": {},
   "outputs": [
    {
     "data": {
      "text/plain": [
       "AMT     float64\n",
       "CCI     float64\n",
       "EQIX    float64\n",
       "PLD     float64\n",
       "PSA     float64\n",
       "dtype: object"
      ]
     },
     "metadata": {},
     "output_type": "display_data"
    },
    {
     "data": {
      "text/plain": [
       "AMT     0\n",
       "CCI     0\n",
       "EQIX    0\n",
       "PLD     0\n",
       "PSA     0\n",
       "dtype: int64"
      ]
     },
     "metadata": {},
     "output_type": "display_data"
    }
   ],
   "source": [
    "display(closing_prices_df.dtypes)\n",
    "display(closing_prices_df.isnull().sum())\n",
    "\n",
    "closing_prices_df.to_csv(Path('../data/real_estate_clean.csv'))"
   ]
  },
  {
   "cell_type": "markdown",
   "metadata": {},
   "source": [
    "### Calculate daily returns"
   ]
  },
  {
   "cell_type": "code",
   "execution_count": 26,
   "metadata": {},
   "outputs": [
    {
     "data": {
      "text/html": [
       "<div>\n",
       "<style scoped>\n",
       "    .dataframe tbody tr th:only-of-type {\n",
       "        vertical-align: middle;\n",
       "    }\n",
       "\n",
       "    .dataframe tbody tr th {\n",
       "        vertical-align: top;\n",
       "    }\n",
       "\n",
       "    .dataframe thead th {\n",
       "        text-align: right;\n",
       "    }\n",
       "</style>\n",
       "<table border=\"1\" class=\"dataframe\">\n",
       "  <thead>\n",
       "    <tr style=\"text-align: right;\">\n",
       "      <th></th>\n",
       "      <th>AMT</th>\n",
       "      <th>CCI</th>\n",
       "      <th>EQIX</th>\n",
       "      <th>PLD</th>\n",
       "      <th>PSA</th>\n",
       "    </tr>\n",
       "    <tr>\n",
       "      <th>time</th>\n",
       "      <th></th>\n",
       "      <th></th>\n",
       "      <th></th>\n",
       "      <th></th>\n",
       "      <th></th>\n",
       "    </tr>\n",
       "  </thead>\n",
       "  <tbody>\n",
       "    <tr>\n",
       "      <th>2021-06-17 00:00:00-04:00</th>\n",
       "      <td>0.011181</td>\n",
       "      <td>0.014952</td>\n",
       "      <td>0.007039</td>\n",
       "      <td>0.009885</td>\n",
       "      <td>0.011737</td>\n",
       "    </tr>\n",
       "    <tr>\n",
       "      <th>2021-06-18 00:00:00-04:00</th>\n",
       "      <td>-0.013172</td>\n",
       "      <td>-0.013258</td>\n",
       "      <td>0.008964</td>\n",
       "      <td>-0.024633</td>\n",
       "      <td>0.009132</td>\n",
       "    </tr>\n",
       "    <tr>\n",
       "      <th>2021-06-21 00:00:00-04:00</th>\n",
       "      <td>0.006693</td>\n",
       "      <td>0.017503</td>\n",
       "      <td>-0.000936</td>\n",
       "      <td>0.025088</td>\n",
       "      <td>0.017261</td>\n",
       "    </tr>\n",
       "    <tr>\n",
       "      <th>2021-06-22 00:00:00-04:00</th>\n",
       "      <td>-0.004258</td>\n",
       "      <td>-0.002682</td>\n",
       "      <td>0.000985</td>\n",
       "      <td>-0.004895</td>\n",
       "      <td>-0.003492</td>\n",
       "    </tr>\n",
       "    <tr>\n",
       "      <th>2021-06-23 00:00:00-04:00</th>\n",
       "      <td>-0.008890</td>\n",
       "      <td>-0.005580</td>\n",
       "      <td>-0.023408</td>\n",
       "      <td>-0.007214</td>\n",
       "      <td>0.004430</td>\n",
       "    </tr>\n",
       "  </tbody>\n",
       "</table>\n",
       "</div>"
      ],
      "text/plain": [
       "                                AMT       CCI      EQIX       PLD       PSA\n",
       "time                                                                       \n",
       "2021-06-17 00:00:00-04:00  0.011181  0.014952  0.007039  0.009885  0.011737\n",
       "2021-06-18 00:00:00-04:00 -0.013172 -0.013258  0.008964 -0.024633  0.009132\n",
       "2021-06-21 00:00:00-04:00  0.006693  0.017503 -0.000936  0.025088  0.017261\n",
       "2021-06-22 00:00:00-04:00 -0.004258 -0.002682  0.000985 -0.004895 -0.003492\n",
       "2021-06-23 00:00:00-04:00 -0.008890 -0.005580 -0.023408 -0.007214  0.004430"
      ]
     },
     "execution_count": 26,
     "metadata": {},
     "output_type": "execute_result"
    }
   ],
   "source": [
    "daily_returns_df = closing_prices_df.pct_change().dropna()\n",
    "\n",
    "daily_returns_df.head()"
   ]
  },
  {
   "cell_type": "markdown",
   "metadata": {},
   "source": [
    "## Analyze Data"
   ]
  },
  {
   "cell_type": "code",
   "execution_count": null,
   "metadata": {},
   "outputs": [],
   "source": []
  }
 ],
 "metadata": {
  "interpreter": {
   "hash": "bef54c74980556d07148641ac359163c49e1f45777192318d2eb82a4705776cb"
  },
  "kernelspec": {
   "display_name": "Python 3.7.10 64-bit ('dev': conda)",
   "language": "python",
   "name": "python3"
  },
  "language_info": {
   "codemirror_mode": {
    "name": "ipython",
    "version": 3
   },
   "file_extension": ".py",
   "mimetype": "text/x-python",
   "name": "python",
   "nbconvert_exporter": "python",
   "pygments_lexer": "ipython3",
   "version": "3.7.10"
  },
  "orig_nbformat": 4
 },
 "nbformat": 4,
 "nbformat_minor": 2
}
