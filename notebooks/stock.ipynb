{
 "cells": [
  {
   "cell_type": "markdown",
   "source": [
    "# Stock Portfolio Notebook"
   ],
   "metadata": {}
  },
  {
   "cell_type": "markdown",
   "source": [
    "## Set Up and Execute Alapaca SDK Request"
   ],
   "metadata": {}
  },
  {
   "cell_type": "markdown",
   "source": [
    "### Importing the Required Libraries"
   ],
   "metadata": {}
  },
  {
   "cell_type": "code",
   "execution_count": 15,
   "source": [
    "# Import Required Libraries\r\n",
    "\r\n",
    "import os\r\n",
    "import requests\r\n",
    "import pandas as pd\r\n",
    "from dotenv import load_dotenv\r\n",
    "import alpaca_trade_api as tradeapi\r\n",
    "from MCForecastTools import MCSimulation\r\n",
    "import numpy as np\r\n",
    "from pathlib import Path\r\n",
    "\r\n",
    "%matplotlib inline\r\n"
   ],
   "outputs": [],
   "metadata": {}
  },
  {
   "cell_type": "markdown",
   "source": [
    "### Loading the .env file"
   ],
   "metadata": {}
  },
  {
   "cell_type": "code",
   "execution_count": 2,
   "source": [
    "# Make sure dotenv is loaded\r\n",
    "load_dotenv()"
   ],
   "outputs": [
    {
     "output_type": "execute_result",
     "data": {
      "text/plain": [
       "True"
      ]
     },
     "metadata": {},
     "execution_count": 2
    }
   ],
   "metadata": {}
  },
  {
   "cell_type": "markdown",
   "source": [
    "### Alpaca API and Secret Key Variables"
   ],
   "metadata": {}
  },
  {
   "cell_type": "code",
   "execution_count": 3,
   "source": [
    "# Create Alpaca key variables to call from .env() file\r\n",
    "alpaca_api_key = os.getenv(\"ALPACA_API_KEY\")\r\n",
    "alpaca_secret_key = os.getenv(\"ALPACA_SECRET_KEY\")\r\n",
    "\r\n",
    "display(type(alpaca_api_key))\r\n",
    "display(type(alpaca_secret_key))"
   ],
   "outputs": [
    {
     "output_type": "display_data",
     "data": {
      "text/plain": [
       "str"
      ]
     },
     "metadata": {}
    },
    {
     "output_type": "display_data",
     "data": {
      "text/plain": [
       "str"
      ]
     },
     "metadata": {}
    }
   ],
   "metadata": {}
  },
  {
   "cell_type": "markdown",
   "source": [
    "### Create the ALpaca REST Object"
   ],
   "metadata": {}
  },
  {
   "cell_type": "code",
   "execution_count": 4,
   "source": [
    "# Create our Alpaca REST object\r\n",
    "alpaca = tradeapi.REST(\r\n",
    "  alpaca_api_key,\r\n",
    "  alpaca_secret_key,\r\n",
    "  api_version=\"v2\"\r\n",
    ")\r\n",
    "\r\n",
    "alpaca"
   ],
   "outputs": [
    {
     "output_type": "execute_result",
     "data": {
      "text/plain": [
       "<alpaca_trade_api.rest.REST at 0x1b4ee3212c8>"
      ]
     },
     "metadata": {},
     "execution_count": 4
    }
   ],
   "metadata": {}
  },
  {
   "cell_type": "markdown",
   "source": [
    "### Set the Start and End Dates"
   ],
   "metadata": {}
  },
  {
   "cell_type": "code",
   "execution_count": 5,
   "source": [
    "# Set the start and end dates for the information we want to pull from Alpaca\r\n",
    "start_date = pd.Timestamp(\"2018-01-01\", tz=\"America/New_York\").isoformat()\r\n",
    "end_date = pd.Timestamp(\"2021-11-05\", tz=\"America/New_York\").isoformat()"
   ],
   "outputs": [],
   "metadata": {}
  },
  {
   "cell_type": "markdown",
   "source": [
    "### Set the Tickers for Alpaca to Fetch"
   ],
   "metadata": {}
  },
  {
   "cell_type": "code",
   "execution_count": 6,
   "source": [
    "# Set the list of tickers we want the Alpaca request to fetch\r\n",
    "tickers = [\"FB\", \"AMZN\", \"PG\", \"XOM\", \"JPM\", \"JNJ\", \"HON\", \"LIN\", \"AMT\", \"AAPL\", \"NEE\"]"
   ],
   "outputs": [],
   "metadata": {}
  },
  {
   "cell_type": "markdown",
   "source": [
    "### Set the Timeframe for the Alpaca Request"
   ],
   "metadata": {}
  },
  {
   "cell_type": "code",
   "execution_count": 7,
   "source": [
    "# Set the timeframe of collection. We just need the a daily price point\r\n",
    "timeframe = \"1D\""
   ],
   "outputs": [],
   "metadata": {}
  },
  {
   "cell_type": "markdown",
   "source": [
    "### Create the Request for Alpaca Using get_barset()"
   ],
   "metadata": {}
  },
  {
   "cell_type": "code",
   "execution_count": 8,
   "source": [
    "# Create the request of the data to fetch via the Alpaca SDK\r\n",
    "stock_prices_df = alpaca.get_barset(\r\n",
    "  tickers,\r\n",
    "  timeframe,\r\n",
    "  limit=1000,\r\n",
    "  start=start_date,\r\n",
    "  end=end_date\r\n",
    ").df\r\n",
    "\r\n",
    "stock_prices_df"
   ],
   "outputs": [
    {
     "output_type": "execute_result",
     "data": {
      "text/html": [
       "<div>\n",
       "<style scoped>\n",
       "    .dataframe tbody tr th:only-of-type {\n",
       "        vertical-align: middle;\n",
       "    }\n",
       "\n",
       "    .dataframe tbody tr th {\n",
       "        vertical-align: top;\n",
       "    }\n",
       "\n",
       "    .dataframe thead tr th {\n",
       "        text-align: left;\n",
       "    }\n",
       "\n",
       "    .dataframe thead tr:last-of-type th {\n",
       "        text-align: right;\n",
       "    }\n",
       "</style>\n",
       "<table border=\"1\" class=\"dataframe\">\n",
       "  <thead>\n",
       "    <tr>\n",
       "      <th></th>\n",
       "      <th colspan=\"5\" halign=\"left\">AAPL</th>\n",
       "      <th colspan=\"5\" halign=\"left\">AMT</th>\n",
       "      <th>...</th>\n",
       "      <th colspan=\"5\" halign=\"left\">PG</th>\n",
       "      <th colspan=\"5\" halign=\"left\">XOM</th>\n",
       "    </tr>\n",
       "    <tr>\n",
       "      <th></th>\n",
       "      <th>open</th>\n",
       "      <th>high</th>\n",
       "      <th>low</th>\n",
       "      <th>close</th>\n",
       "      <th>volume</th>\n",
       "      <th>open</th>\n",
       "      <th>high</th>\n",
       "      <th>low</th>\n",
       "      <th>close</th>\n",
       "      <th>volume</th>\n",
       "      <th>...</th>\n",
       "      <th>open</th>\n",
       "      <th>high</th>\n",
       "      <th>low</th>\n",
       "      <th>close</th>\n",
       "      <th>volume</th>\n",
       "      <th>open</th>\n",
       "      <th>high</th>\n",
       "      <th>low</th>\n",
       "      <th>close</th>\n",
       "      <th>volume</th>\n",
       "    </tr>\n",
       "    <tr>\n",
       "      <th>time</th>\n",
       "      <th></th>\n",
       "      <th></th>\n",
       "      <th></th>\n",
       "      <th></th>\n",
       "      <th></th>\n",
       "      <th></th>\n",
       "      <th></th>\n",
       "      <th></th>\n",
       "      <th></th>\n",
       "      <th></th>\n",
       "      <th></th>\n",
       "      <th></th>\n",
       "      <th></th>\n",
       "      <th></th>\n",
       "      <th></th>\n",
       "      <th></th>\n",
       "      <th></th>\n",
       "      <th></th>\n",
       "      <th></th>\n",
       "      <th></th>\n",
       "      <th></th>\n",
       "    </tr>\n",
       "  </thead>\n",
       "  <tbody>\n",
       "    <tr>\n",
       "      <th>2018-01-02 00:00:00-05:00</th>\n",
       "      <td>170.160</td>\n",
       "      <td>172.30</td>\n",
       "      <td>169.26</td>\n",
       "      <td>172.26</td>\n",
       "      <td>20523941</td>\n",
       "      <td>143.11</td>\n",
       "      <td>143.22</td>\n",
       "      <td>140.910</td>\n",
       "      <td>141.105</td>\n",
       "      <td>1391810.0</td>\n",
       "      <td>...</td>\n",
       "      <td>91.92</td>\n",
       "      <td>91.93</td>\n",
       "      <td>90.550</td>\n",
       "      <td>90.66</td>\n",
       "      <td>5257189</td>\n",
       "      <td>83.820</td>\n",
       "      <td>85.1950</td>\n",
       "      <td>83.6600</td>\n",
       "      <td>85.0457</td>\n",
       "      <td>8932356</td>\n",
       "    </tr>\n",
       "    <tr>\n",
       "      <th>2018-01-03 00:00:00-05:00</th>\n",
       "      <td>172.530</td>\n",
       "      <td>174.55</td>\n",
       "      <td>171.96</td>\n",
       "      <td>172.18</td>\n",
       "      <td>23193409</td>\n",
       "      <td>141.05</td>\n",
       "      <td>142.50</td>\n",
       "      <td>140.860</td>\n",
       "      <td>141.570</td>\n",
       "      <td>1210542.0</td>\n",
       "      <td>...</td>\n",
       "      <td>90.98</td>\n",
       "      <td>91.09</td>\n",
       "      <td>90.515</td>\n",
       "      <td>90.57</td>\n",
       "      <td>3976843</td>\n",
       "      <td>85.160</td>\n",
       "      <td>86.9650</td>\n",
       "      <td>84.8200</td>\n",
       "      <td>86.7000</td>\n",
       "      <td>11158484</td>\n",
       "    </tr>\n",
       "    <tr>\n",
       "      <th>2018-01-04 00:00:00-05:00</th>\n",
       "      <td>172.540</td>\n",
       "      <td>173.47</td>\n",
       "      <td>172.08</td>\n",
       "      <td>173.02</td>\n",
       "      <td>17742231</td>\n",
       "      <td>141.44</td>\n",
       "      <td>141.96</td>\n",
       "      <td>139.580</td>\n",
       "      <td>139.630</td>\n",
       "      <td>1037487.0</td>\n",
       "      <td>...</td>\n",
       "      <td>90.83</td>\n",
       "      <td>91.77</td>\n",
       "      <td>90.610</td>\n",
       "      <td>91.18</td>\n",
       "      <td>4316526</td>\n",
       "      <td>86.780</td>\n",
       "      <td>87.2200</td>\n",
       "      <td>86.4300</td>\n",
       "      <td>86.8100</td>\n",
       "      <td>8186390</td>\n",
       "    </tr>\n",
       "    <tr>\n",
       "      <th>2018-01-05 00:00:00-05:00</th>\n",
       "      <td>173.440</td>\n",
       "      <td>175.37</td>\n",
       "      <td>173.05</td>\n",
       "      <td>174.96</td>\n",
       "      <td>18402859</td>\n",
       "      <td>140.23</td>\n",
       "      <td>140.70</td>\n",
       "      <td>139.590</td>\n",
       "      <td>140.490</td>\n",
       "      <td>1363577.0</td>\n",
       "      <td>...</td>\n",
       "      <td>91.15</td>\n",
       "      <td>91.30</td>\n",
       "      <td>90.570</td>\n",
       "      <td>91.19</td>\n",
       "      <td>3848619</td>\n",
       "      <td>86.750</td>\n",
       "      <td>86.8800</td>\n",
       "      <td>85.7050</td>\n",
       "      <td>86.6900</td>\n",
       "      <td>8326333</td>\n",
       "    </tr>\n",
       "    <tr>\n",
       "      <th>2018-01-08 00:00:00-05:00</th>\n",
       "      <td>174.310</td>\n",
       "      <td>175.61</td>\n",
       "      <td>173.93</td>\n",
       "      <td>174.34</td>\n",
       "      <td>15554212</td>\n",
       "      <td>140.66</td>\n",
       "      <td>143.24</td>\n",
       "      <td>140.660</td>\n",
       "      <td>142.030</td>\n",
       "      <td>1350838.0</td>\n",
       "      <td>...</td>\n",
       "      <td>90.93</td>\n",
       "      <td>91.77</td>\n",
       "      <td>90.930</td>\n",
       "      <td>91.71</td>\n",
       "      <td>3298886</td>\n",
       "      <td>86.700</td>\n",
       "      <td>87.1500</td>\n",
       "      <td>86.6034</td>\n",
       "      <td>87.0800</td>\n",
       "      <td>5989082</td>\n",
       "    </tr>\n",
       "    <tr>\n",
       "      <th>...</th>\n",
       "      <td>...</td>\n",
       "      <td>...</td>\n",
       "      <td>...</td>\n",
       "      <td>...</td>\n",
       "      <td>...</td>\n",
       "      <td>...</td>\n",
       "      <td>...</td>\n",
       "      <td>...</td>\n",
       "      <td>...</td>\n",
       "      <td>...</td>\n",
       "      <td>...</td>\n",
       "      <td>...</td>\n",
       "      <td>...</td>\n",
       "      <td>...</td>\n",
       "      <td>...</td>\n",
       "      <td>...</td>\n",
       "      <td>...</td>\n",
       "      <td>...</td>\n",
       "      <td>...</td>\n",
       "      <td>...</td>\n",
       "      <td>...</td>\n",
       "    </tr>\n",
       "    <tr>\n",
       "      <th>2021-11-01 00:00:00-04:00</th>\n",
       "      <td>148.985</td>\n",
       "      <td>149.70</td>\n",
       "      <td>147.80</td>\n",
       "      <td>148.99</td>\n",
       "      <td>57758481</td>\n",
       "      <td>282.83</td>\n",
       "      <td>283.16</td>\n",
       "      <td>276.410</td>\n",
       "      <td>282.120</td>\n",
       "      <td>1197575.0</td>\n",
       "      <td>...</td>\n",
       "      <td>143.36</td>\n",
       "      <td>143.80</td>\n",
       "      <td>142.490</td>\n",
       "      <td>142.65</td>\n",
       "      <td>3830443</td>\n",
       "      <td>65.070</td>\n",
       "      <td>66.0795</td>\n",
       "      <td>65.0200</td>\n",
       "      <td>65.6200</td>\n",
       "      <td>16748443</td>\n",
       "    </tr>\n",
       "    <tr>\n",
       "      <th>2021-11-02 00:00:00-04:00</th>\n",
       "      <td>148.670</td>\n",
       "      <td>151.57</td>\n",
       "      <td>148.65</td>\n",
       "      <td>150.00</td>\n",
       "      <td>61741508</td>\n",
       "      <td>282.81</td>\n",
       "      <td>285.29</td>\n",
       "      <td>279.510</td>\n",
       "      <td>282.650</td>\n",
       "      <td>1300858.0</td>\n",
       "      <td>...</td>\n",
       "      <td>142.72</td>\n",
       "      <td>144.58</td>\n",
       "      <td>142.280</td>\n",
       "      <td>144.06</td>\n",
       "      <td>8615444</td>\n",
       "      <td>65.030</td>\n",
       "      <td>65.4470</td>\n",
       "      <td>64.6600</td>\n",
       "      <td>64.8200</td>\n",
       "      <td>13844728</td>\n",
       "    </tr>\n",
       "    <tr>\n",
       "      <th>2021-11-03 00:00:00-04:00</th>\n",
       "      <td>150.370</td>\n",
       "      <td>151.97</td>\n",
       "      <td>149.82</td>\n",
       "      <td>151.49</td>\n",
       "      <td>44064848</td>\n",
       "      <td>283.72</td>\n",
       "      <td>285.42</td>\n",
       "      <td>276.465</td>\n",
       "      <td>280.660</td>\n",
       "      <td>901567.0</td>\n",
       "      <td>...</td>\n",
       "      <td>144.00</td>\n",
       "      <td>145.11</td>\n",
       "      <td>143.520</td>\n",
       "      <td>145.01</td>\n",
       "      <td>6435443</td>\n",
       "      <td>64.020</td>\n",
       "      <td>64.4500</td>\n",
       "      <td>63.6600</td>\n",
       "      <td>63.9300</td>\n",
       "      <td>13916440</td>\n",
       "    </tr>\n",
       "    <tr>\n",
       "      <th>2021-11-04 00:00:00-04:00</th>\n",
       "      <td>151.620</td>\n",
       "      <td>152.43</td>\n",
       "      <td>150.64</td>\n",
       "      <td>150.96</td>\n",
       "      <td>49782226</td>\n",
       "      <td>281.61</td>\n",
       "      <td>283.45</td>\n",
       "      <td>277.640</td>\n",
       "      <td>279.100</td>\n",
       "      <td>1204187.0</td>\n",
       "      <td>...</td>\n",
       "      <td>142.84</td>\n",
       "      <td>145.39</td>\n",
       "      <td>142.335</td>\n",
       "      <td>145.38</td>\n",
       "      <td>4899598</td>\n",
       "      <td>64.675</td>\n",
       "      <td>64.8900</td>\n",
       "      <td>63.8300</td>\n",
       "      <td>64.4200</td>\n",
       "      <td>15047956</td>\n",
       "    </tr>\n",
       "    <tr>\n",
       "      <th>2021-11-05 00:00:00-04:00</th>\n",
       "      <td>151.810</td>\n",
       "      <td>152.20</td>\n",
       "      <td>150.06</td>\n",
       "      <td>151.24</td>\n",
       "      <td>54619968</td>\n",
       "      <td>280.94</td>\n",
       "      <td>281.44</td>\n",
       "      <td>276.700</td>\n",
       "      <td>277.700</td>\n",
       "      <td>946849.0</td>\n",
       "      <td>...</td>\n",
       "      <td>145.44</td>\n",
       "      <td>146.37</td>\n",
       "      <td>144.800</td>\n",
       "      <td>146.03</td>\n",
       "      <td>4685846</td>\n",
       "      <td>65.050</td>\n",
       "      <td>65.3254</td>\n",
       "      <td>64.5600</td>\n",
       "      <td>65.0100</td>\n",
       "      <td>14251859</td>\n",
       "    </tr>\n",
       "  </tbody>\n",
       "</table>\n",
       "<p>970 rows × 55 columns</p>\n",
       "</div>"
      ],
      "text/plain": [
       "                              AAPL                                       AMT  \\\n",
       "                              open    high     low   close    volume    open   \n",
       "time                                                                           \n",
       "2018-01-02 00:00:00-05:00  170.160  172.30  169.26  172.26  20523941  143.11   \n",
       "2018-01-03 00:00:00-05:00  172.530  174.55  171.96  172.18  23193409  141.05   \n",
       "2018-01-04 00:00:00-05:00  172.540  173.47  172.08  173.02  17742231  141.44   \n",
       "2018-01-05 00:00:00-05:00  173.440  175.37  173.05  174.96  18402859  140.23   \n",
       "2018-01-08 00:00:00-05:00  174.310  175.61  173.93  174.34  15554212  140.66   \n",
       "...                            ...     ...     ...     ...       ...     ...   \n",
       "2021-11-01 00:00:00-04:00  148.985  149.70  147.80  148.99  57758481  282.83   \n",
       "2021-11-02 00:00:00-04:00  148.670  151.57  148.65  150.00  61741508  282.81   \n",
       "2021-11-03 00:00:00-04:00  150.370  151.97  149.82  151.49  44064848  283.72   \n",
       "2021-11-04 00:00:00-04:00  151.620  152.43  150.64  150.96  49782226  281.61   \n",
       "2021-11-05 00:00:00-04:00  151.810  152.20  150.06  151.24  54619968  280.94   \n",
       "\n",
       "                                                                ...      PG  \\\n",
       "                             high      low    close     volume  ...    open   \n",
       "time                                                            ...           \n",
       "2018-01-02 00:00:00-05:00  143.22  140.910  141.105  1391810.0  ...   91.92   \n",
       "2018-01-03 00:00:00-05:00  142.50  140.860  141.570  1210542.0  ...   90.98   \n",
       "2018-01-04 00:00:00-05:00  141.96  139.580  139.630  1037487.0  ...   90.83   \n",
       "2018-01-05 00:00:00-05:00  140.70  139.590  140.490  1363577.0  ...   91.15   \n",
       "2018-01-08 00:00:00-05:00  143.24  140.660  142.030  1350838.0  ...   90.93   \n",
       "...                           ...      ...      ...        ...  ...     ...   \n",
       "2021-11-01 00:00:00-04:00  283.16  276.410  282.120  1197575.0  ...  143.36   \n",
       "2021-11-02 00:00:00-04:00  285.29  279.510  282.650  1300858.0  ...  142.72   \n",
       "2021-11-03 00:00:00-04:00  285.42  276.465  280.660   901567.0  ...  144.00   \n",
       "2021-11-04 00:00:00-04:00  283.45  277.640  279.100  1204187.0  ...  142.84   \n",
       "2021-11-05 00:00:00-04:00  281.44  276.700  277.700   946849.0  ...  145.44   \n",
       "\n",
       "                                                                XOM           \\\n",
       "                             high      low   close   volume    open     high   \n",
       "time                                                                           \n",
       "2018-01-02 00:00:00-05:00   91.93   90.550   90.66  5257189  83.820  85.1950   \n",
       "2018-01-03 00:00:00-05:00   91.09   90.515   90.57  3976843  85.160  86.9650   \n",
       "2018-01-04 00:00:00-05:00   91.77   90.610   91.18  4316526  86.780  87.2200   \n",
       "2018-01-05 00:00:00-05:00   91.30   90.570   91.19  3848619  86.750  86.8800   \n",
       "2018-01-08 00:00:00-05:00   91.77   90.930   91.71  3298886  86.700  87.1500   \n",
       "...                           ...      ...     ...      ...     ...      ...   \n",
       "2021-11-01 00:00:00-04:00  143.80  142.490  142.65  3830443  65.070  66.0795   \n",
       "2021-11-02 00:00:00-04:00  144.58  142.280  144.06  8615444  65.030  65.4470   \n",
       "2021-11-03 00:00:00-04:00  145.11  143.520  145.01  6435443  64.020  64.4500   \n",
       "2021-11-04 00:00:00-04:00  145.39  142.335  145.38  4899598  64.675  64.8900   \n",
       "2021-11-05 00:00:00-04:00  146.37  144.800  146.03  4685846  65.050  65.3254   \n",
       "\n",
       "                                                       \n",
       "                               low    close    volume  \n",
       "time                                                   \n",
       "2018-01-02 00:00:00-05:00  83.6600  85.0457   8932356  \n",
       "2018-01-03 00:00:00-05:00  84.8200  86.7000  11158484  \n",
       "2018-01-04 00:00:00-05:00  86.4300  86.8100   8186390  \n",
       "2018-01-05 00:00:00-05:00  85.7050  86.6900   8326333  \n",
       "2018-01-08 00:00:00-05:00  86.6034  87.0800   5989082  \n",
       "...                            ...      ...       ...  \n",
       "2021-11-01 00:00:00-04:00  65.0200  65.6200  16748443  \n",
       "2021-11-02 00:00:00-04:00  64.6600  64.8200  13844728  \n",
       "2021-11-03 00:00:00-04:00  63.6600  63.9300  13916440  \n",
       "2021-11-04 00:00:00-04:00  63.8300  64.4200  15047956  \n",
       "2021-11-05 00:00:00-04:00  64.5600  65.0100  14251859  \n",
       "\n",
       "[970 rows x 55 columns]"
      ]
     },
     "metadata": {},
     "execution_count": 8
    }
   ],
   "metadata": {}
  },
  {
   "cell_type": "markdown",
   "source": [
    "## Calculate Closing Prices and Daily Prices/Plots"
   ],
   "metadata": {}
  },
  {
   "cell_type": "code",
   "execution_count": 9,
   "source": [
    "# Create a new empty DF that that holds only the closing prices of each stock\r\n",
    "stock_closing_prices_df = pd.DataFrame()"
   ],
   "outputs": [],
   "metadata": {}
  },
  {
   "cell_type": "markdown",
   "source": [
    "### For Loop to Access Closing Prices Only"
   ],
   "metadata": {}
  },
  {
   "cell_type": "code",
   "execution_count": 10,
   "source": [
    "# Using a for loop, for every ticker in the tickers list, select only the close price for each ticker in the prices_df DF\r\n",
    "for ticker in tickers:\r\n",
    "  stock_closing_prices_df[ticker] = stock_prices_df[ticker][\"close\"]\r\n",
    "\r\n",
    "stock_closing_prices_df"
   ],
   "outputs": [
    {
     "output_type": "execute_result",
     "data": {
      "text/html": [
       "<div>\n",
       "<style scoped>\n",
       "    .dataframe tbody tr th:only-of-type {\n",
       "        vertical-align: middle;\n",
       "    }\n",
       "\n",
       "    .dataframe tbody tr th {\n",
       "        vertical-align: top;\n",
       "    }\n",
       "\n",
       "    .dataframe thead th {\n",
       "        text-align: right;\n",
       "    }\n",
       "</style>\n",
       "<table border=\"1\" class=\"dataframe\">\n",
       "  <thead>\n",
       "    <tr style=\"text-align: right;\">\n",
       "      <th></th>\n",
       "      <th>FB</th>\n",
       "      <th>AMZN</th>\n",
       "      <th>PG</th>\n",
       "      <th>XOM</th>\n",
       "      <th>JPM</th>\n",
       "      <th>JNJ</th>\n",
       "      <th>HON</th>\n",
       "      <th>LIN</th>\n",
       "      <th>AMT</th>\n",
       "      <th>AAPL</th>\n",
       "      <th>NEE</th>\n",
       "    </tr>\n",
       "    <tr>\n",
       "      <th>time</th>\n",
       "      <th></th>\n",
       "      <th></th>\n",
       "      <th></th>\n",
       "      <th></th>\n",
       "      <th></th>\n",
       "      <th></th>\n",
       "      <th></th>\n",
       "      <th></th>\n",
       "      <th></th>\n",
       "      <th></th>\n",
       "      <th></th>\n",
       "    </tr>\n",
       "  </thead>\n",
       "  <tbody>\n",
       "    <tr>\n",
       "      <th>2018-01-02 00:00:00-05:00</th>\n",
       "      <td>181.430</td>\n",
       "      <td>1189.00</td>\n",
       "      <td>90.66</td>\n",
       "      <td>85.0457</td>\n",
       "      <td>108.00</td>\n",
       "      <td>139.2400</td>\n",
       "      <td>153.66</td>\n",
       "      <td>156.17</td>\n",
       "      <td>141.105</td>\n",
       "      <td>172.26</td>\n",
       "      <td>155.11</td>\n",
       "    </tr>\n",
       "    <tr>\n",
       "      <th>2018-01-03 00:00:00-05:00</th>\n",
       "      <td>184.480</td>\n",
       "      <td>1202.74</td>\n",
       "      <td>90.57</td>\n",
       "      <td>86.7000</td>\n",
       "      <td>108.04</td>\n",
       "      <td>140.5300</td>\n",
       "      <td>152.45</td>\n",
       "      <td>157.52</td>\n",
       "      <td>141.570</td>\n",
       "      <td>172.18</td>\n",
       "      <td>151.80</td>\n",
       "    </tr>\n",
       "    <tr>\n",
       "      <th>2018-01-04 00:00:00-05:00</th>\n",
       "      <td>184.320</td>\n",
       "      <td>1209.64</td>\n",
       "      <td>91.18</td>\n",
       "      <td>86.8100</td>\n",
       "      <td>109.05</td>\n",
       "      <td>140.5256</td>\n",
       "      <td>154.46</td>\n",
       "      <td>159.97</td>\n",
       "      <td>139.630</td>\n",
       "      <td>173.02</td>\n",
       "      <td>150.93</td>\n",
       "    </tr>\n",
       "    <tr>\n",
       "      <th>2018-01-05 00:00:00-05:00</th>\n",
       "      <td>186.780</td>\n",
       "      <td>1229.07</td>\n",
       "      <td>91.19</td>\n",
       "      <td>86.6900</td>\n",
       "      <td>108.26</td>\n",
       "      <td>141.6600</td>\n",
       "      <td>155.47</td>\n",
       "      <td>161.27</td>\n",
       "      <td>140.490</td>\n",
       "      <td>174.96</td>\n",
       "      <td>151.71</td>\n",
       "    </tr>\n",
       "    <tr>\n",
       "      <th>2018-01-08 00:00:00-05:00</th>\n",
       "      <td>188.250</td>\n",
       "      <td>1246.95</td>\n",
       "      <td>91.71</td>\n",
       "      <td>87.0800</td>\n",
       "      <td>108.48</td>\n",
       "      <td>141.8500</td>\n",
       "      <td>154.73</td>\n",
       "      <td>161.25</td>\n",
       "      <td>142.030</td>\n",
       "      <td>174.34</td>\n",
       "      <td>152.98</td>\n",
       "    </tr>\n",
       "    <tr>\n",
       "      <th>...</th>\n",
       "      <td>...</td>\n",
       "      <td>...</td>\n",
       "      <td>...</td>\n",
       "      <td>...</td>\n",
       "      <td>...</td>\n",
       "      <td>...</td>\n",
       "      <td>...</td>\n",
       "      <td>...</td>\n",
       "      <td>...</td>\n",
       "      <td>...</td>\n",
       "      <td>...</td>\n",
       "    </tr>\n",
       "    <tr>\n",
       "      <th>2021-11-01 00:00:00-04:00</th>\n",
       "      <td>330.020</td>\n",
       "      <td>3317.99</td>\n",
       "      <td>142.65</td>\n",
       "      <td>65.6200</td>\n",
       "      <td>169.76</td>\n",
       "      <td>162.9900</td>\n",
       "      <td>219.78</td>\n",
       "      <td>322.94</td>\n",
       "      <td>282.120</td>\n",
       "      <td>148.99</td>\n",
       "      <td>85.59</td>\n",
       "    </tr>\n",
       "    <tr>\n",
       "      <th>2021-11-02 00:00:00-04:00</th>\n",
       "      <td>328.200</td>\n",
       "      <td>3313.17</td>\n",
       "      <td>144.06</td>\n",
       "      <td>64.8200</td>\n",
       "      <td>170.49</td>\n",
       "      <td>165.6000</td>\n",
       "      <td>221.21</td>\n",
       "      <td>327.63</td>\n",
       "      <td>282.650</td>\n",
       "      <td>150.00</td>\n",
       "      <td>85.43</td>\n",
       "    </tr>\n",
       "    <tr>\n",
       "      <th>2021-11-03 00:00:00-04:00</th>\n",
       "      <td>331.695</td>\n",
       "      <td>3384.00</td>\n",
       "      <td>145.01</td>\n",
       "      <td>63.9300</td>\n",
       "      <td>170.55</td>\n",
       "      <td>165.1200</td>\n",
       "      <td>222.80</td>\n",
       "      <td>328.42</td>\n",
       "      <td>280.660</td>\n",
       "      <td>151.49</td>\n",
       "      <td>85.23</td>\n",
       "    </tr>\n",
       "    <tr>\n",
       "      <th>2021-11-04 00:00:00-04:00</th>\n",
       "      <td>335.980</td>\n",
       "      <td>3477.04</td>\n",
       "      <td>145.38</td>\n",
       "      <td>64.4200</td>\n",
       "      <td>168.29</td>\n",
       "      <td>164.9200</td>\n",
       "      <td>222.49</td>\n",
       "      <td>331.63</td>\n",
       "      <td>279.100</td>\n",
       "      <td>150.96</td>\n",
       "      <td>84.76</td>\n",
       "    </tr>\n",
       "    <tr>\n",
       "      <th>2021-11-05 00:00:00-04:00</th>\n",
       "      <td>341.130</td>\n",
       "      <td>3516.64</td>\n",
       "      <td>146.03</td>\n",
       "      <td>65.0100</td>\n",
       "      <td>168.06</td>\n",
       "      <td>163.4200</td>\n",
       "      <td>226.08</td>\n",
       "      <td>331.96</td>\n",
       "      <td>277.700</td>\n",
       "      <td>151.24</td>\n",
       "      <td>85.52</td>\n",
       "    </tr>\n",
       "  </tbody>\n",
       "</table>\n",
       "<p>970 rows × 11 columns</p>\n",
       "</div>"
      ],
      "text/plain": [
       "                                FB     AMZN      PG      XOM     JPM  \\\n",
       "time                                                                   \n",
       "2018-01-02 00:00:00-05:00  181.430  1189.00   90.66  85.0457  108.00   \n",
       "2018-01-03 00:00:00-05:00  184.480  1202.74   90.57  86.7000  108.04   \n",
       "2018-01-04 00:00:00-05:00  184.320  1209.64   91.18  86.8100  109.05   \n",
       "2018-01-05 00:00:00-05:00  186.780  1229.07   91.19  86.6900  108.26   \n",
       "2018-01-08 00:00:00-05:00  188.250  1246.95   91.71  87.0800  108.48   \n",
       "...                            ...      ...     ...      ...     ...   \n",
       "2021-11-01 00:00:00-04:00  330.020  3317.99  142.65  65.6200  169.76   \n",
       "2021-11-02 00:00:00-04:00  328.200  3313.17  144.06  64.8200  170.49   \n",
       "2021-11-03 00:00:00-04:00  331.695  3384.00  145.01  63.9300  170.55   \n",
       "2021-11-04 00:00:00-04:00  335.980  3477.04  145.38  64.4200  168.29   \n",
       "2021-11-05 00:00:00-04:00  341.130  3516.64  146.03  65.0100  168.06   \n",
       "\n",
       "                                JNJ     HON     LIN      AMT    AAPL     NEE  \n",
       "time                                                                          \n",
       "2018-01-02 00:00:00-05:00  139.2400  153.66  156.17  141.105  172.26  155.11  \n",
       "2018-01-03 00:00:00-05:00  140.5300  152.45  157.52  141.570  172.18  151.80  \n",
       "2018-01-04 00:00:00-05:00  140.5256  154.46  159.97  139.630  173.02  150.93  \n",
       "2018-01-05 00:00:00-05:00  141.6600  155.47  161.27  140.490  174.96  151.71  \n",
       "2018-01-08 00:00:00-05:00  141.8500  154.73  161.25  142.030  174.34  152.98  \n",
       "...                             ...     ...     ...      ...     ...     ...  \n",
       "2021-11-01 00:00:00-04:00  162.9900  219.78  322.94  282.120  148.99   85.59  \n",
       "2021-11-02 00:00:00-04:00  165.6000  221.21  327.63  282.650  150.00   85.43  \n",
       "2021-11-03 00:00:00-04:00  165.1200  222.80  328.42  280.660  151.49   85.23  \n",
       "2021-11-04 00:00:00-04:00  164.9200  222.49  331.63  279.100  150.96   84.76  \n",
       "2021-11-05 00:00:00-04:00  163.4200  226.08  331.96  277.700  151.24   85.52  \n",
       "\n",
       "[970 rows x 11 columns]"
      ]
     },
     "metadata": {},
     "execution_count": 10
    }
   ],
   "metadata": {}
  },
  {
   "cell_type": "markdown",
   "source": [
    "### Calculate the Daily Returns Per Stock in our Stock Portfolio"
   ],
   "metadata": {}
  },
  {
   "cell_type": "code",
   "execution_count": 11,
   "source": [
    "# Calculate the daily returns for every stock in the Stock Portfolio\r\n",
    "per_stock_daily_returns = stock_closing_prices_df.pct_change().dropna()\r\n",
    "per_stock_daily_returns"
   ],
   "outputs": [
    {
     "output_type": "execute_result",
     "data": {
      "text/html": [
       "<div>\n",
       "<style scoped>\n",
       "    .dataframe tbody tr th:only-of-type {\n",
       "        vertical-align: middle;\n",
       "    }\n",
       "\n",
       "    .dataframe tbody tr th {\n",
       "        vertical-align: top;\n",
       "    }\n",
       "\n",
       "    .dataframe thead th {\n",
       "        text-align: right;\n",
       "    }\n",
       "</style>\n",
       "<table border=\"1\" class=\"dataframe\">\n",
       "  <thead>\n",
       "    <tr style=\"text-align: right;\">\n",
       "      <th></th>\n",
       "      <th>FB</th>\n",
       "      <th>AMZN</th>\n",
       "      <th>PG</th>\n",
       "      <th>XOM</th>\n",
       "      <th>JPM</th>\n",
       "      <th>JNJ</th>\n",
       "      <th>HON</th>\n",
       "      <th>LIN</th>\n",
       "      <th>AMT</th>\n",
       "      <th>AAPL</th>\n",
       "      <th>NEE</th>\n",
       "    </tr>\n",
       "    <tr>\n",
       "      <th>time</th>\n",
       "      <th></th>\n",
       "      <th></th>\n",
       "      <th></th>\n",
       "      <th></th>\n",
       "      <th></th>\n",
       "      <th></th>\n",
       "      <th></th>\n",
       "      <th></th>\n",
       "      <th></th>\n",
       "      <th></th>\n",
       "      <th></th>\n",
       "    </tr>\n",
       "  </thead>\n",
       "  <tbody>\n",
       "    <tr>\n",
       "      <th>2018-01-03 00:00:00-05:00</th>\n",
       "      <td>0.016811</td>\n",
       "      <td>0.011556</td>\n",
       "      <td>-0.000993</td>\n",
       "      <td>0.019452</td>\n",
       "      <td>0.000370</td>\n",
       "      <td>0.009265</td>\n",
       "      <td>-0.007875</td>\n",
       "      <td>0.008644</td>\n",
       "      <td>0.003295</td>\n",
       "      <td>-0.000464</td>\n",
       "      <td>-0.021340</td>\n",
       "    </tr>\n",
       "    <tr>\n",
       "      <th>2018-01-04 00:00:00-05:00</th>\n",
       "      <td>-0.000867</td>\n",
       "      <td>0.005737</td>\n",
       "      <td>0.006735</td>\n",
       "      <td>0.001269</td>\n",
       "      <td>0.009348</td>\n",
       "      <td>-0.000031</td>\n",
       "      <td>0.013185</td>\n",
       "      <td>0.015554</td>\n",
       "      <td>-0.013703</td>\n",
       "      <td>0.004879</td>\n",
       "      <td>-0.005731</td>\n",
       "    </tr>\n",
       "    <tr>\n",
       "      <th>2018-01-05 00:00:00-05:00</th>\n",
       "      <td>0.013346</td>\n",
       "      <td>0.016063</td>\n",
       "      <td>0.000110</td>\n",
       "      <td>-0.001382</td>\n",
       "      <td>-0.007244</td>\n",
       "      <td>0.008073</td>\n",
       "      <td>0.006539</td>\n",
       "      <td>0.008127</td>\n",
       "      <td>0.006159</td>\n",
       "      <td>0.011213</td>\n",
       "      <td>0.005168</td>\n",
       "    </tr>\n",
       "    <tr>\n",
       "      <th>2018-01-08 00:00:00-05:00</th>\n",
       "      <td>0.007870</td>\n",
       "      <td>0.014548</td>\n",
       "      <td>0.005702</td>\n",
       "      <td>0.004499</td>\n",
       "      <td>0.002032</td>\n",
       "      <td>0.001341</td>\n",
       "      <td>-0.004760</td>\n",
       "      <td>-0.000124</td>\n",
       "      <td>0.010962</td>\n",
       "      <td>-0.003544</td>\n",
       "      <td>0.008371</td>\n",
       "    </tr>\n",
       "    <tr>\n",
       "      <th>2018-01-09 00:00:00-05:00</th>\n",
       "      <td>-0.001859</td>\n",
       "      <td>0.004948</td>\n",
       "      <td>-0.006760</td>\n",
       "      <td>-0.003101</td>\n",
       "      <td>0.006914</td>\n",
       "      <td>0.016567</td>\n",
       "      <td>0.008596</td>\n",
       "      <td>0.010357</td>\n",
       "      <td>-0.007393</td>\n",
       "      <td>-0.000057</td>\n",
       "      <td>-0.007125</td>\n",
       "    </tr>\n",
       "    <tr>\n",
       "      <th>...</th>\n",
       "      <td>...</td>\n",
       "      <td>...</td>\n",
       "      <td>...</td>\n",
       "      <td>...</td>\n",
       "      <td>...</td>\n",
       "      <td>...</td>\n",
       "      <td>...</td>\n",
       "      <td>...</td>\n",
       "      <td>...</td>\n",
       "      <td>...</td>\n",
       "      <td>...</td>\n",
       "    </tr>\n",
       "    <tr>\n",
       "      <th>2021-11-01 00:00:00-04:00</th>\n",
       "      <td>0.019902</td>\n",
       "      <td>-0.016143</td>\n",
       "      <td>-0.002448</td>\n",
       "      <td>0.017838</td>\n",
       "      <td>-0.001059</td>\n",
       "      <td>0.000798</td>\n",
       "      <td>0.005306</td>\n",
       "      <td>0.011527</td>\n",
       "      <td>0.001455</td>\n",
       "      <td>-0.005407</td>\n",
       "      <td>0.003517</td>\n",
       "    </tr>\n",
       "    <tr>\n",
       "      <th>2021-11-02 00:00:00-04:00</th>\n",
       "      <td>-0.005515</td>\n",
       "      <td>-0.001453</td>\n",
       "      <td>0.009884</td>\n",
       "      <td>-0.012191</td>\n",
       "      <td>0.004300</td>\n",
       "      <td>0.016013</td>\n",
       "      <td>0.006507</td>\n",
       "      <td>0.014523</td>\n",
       "      <td>0.001879</td>\n",
       "      <td>0.006779</td>\n",
       "      <td>-0.001869</td>\n",
       "    </tr>\n",
       "    <tr>\n",
       "      <th>2021-11-03 00:00:00-04:00</th>\n",
       "      <td>0.010649</td>\n",
       "      <td>0.021378</td>\n",
       "      <td>0.006594</td>\n",
       "      <td>-0.013730</td>\n",
       "      <td>0.000352</td>\n",
       "      <td>-0.002899</td>\n",
       "      <td>0.007188</td>\n",
       "      <td>0.002411</td>\n",
       "      <td>-0.007041</td>\n",
       "      <td>0.009933</td>\n",
       "      <td>-0.002341</td>\n",
       "    </tr>\n",
       "    <tr>\n",
       "      <th>2021-11-04 00:00:00-04:00</th>\n",
       "      <td>0.012918</td>\n",
       "      <td>0.027494</td>\n",
       "      <td>0.002552</td>\n",
       "      <td>0.007665</td>\n",
       "      <td>-0.013251</td>\n",
       "      <td>-0.001211</td>\n",
       "      <td>-0.001391</td>\n",
       "      <td>0.009774</td>\n",
       "      <td>-0.005558</td>\n",
       "      <td>-0.003499</td>\n",
       "      <td>-0.005514</td>\n",
       "    </tr>\n",
       "    <tr>\n",
       "      <th>2021-11-05 00:00:00-04:00</th>\n",
       "      <td>0.015328</td>\n",
       "      <td>0.011389</td>\n",
       "      <td>0.004471</td>\n",
       "      <td>0.009159</td>\n",
       "      <td>-0.001367</td>\n",
       "      <td>-0.009095</td>\n",
       "      <td>0.016136</td>\n",
       "      <td>0.000995</td>\n",
       "      <td>-0.005016</td>\n",
       "      <td>0.001855</td>\n",
       "      <td>0.008966</td>\n",
       "    </tr>\n",
       "  </tbody>\n",
       "</table>\n",
       "<p>969 rows × 11 columns</p>\n",
       "</div>"
      ],
      "text/plain": [
       "                                 FB      AMZN        PG       XOM       JPM  \\\n",
       "time                                                                          \n",
       "2018-01-03 00:00:00-05:00  0.016811  0.011556 -0.000993  0.019452  0.000370   \n",
       "2018-01-04 00:00:00-05:00 -0.000867  0.005737  0.006735  0.001269  0.009348   \n",
       "2018-01-05 00:00:00-05:00  0.013346  0.016063  0.000110 -0.001382 -0.007244   \n",
       "2018-01-08 00:00:00-05:00  0.007870  0.014548  0.005702  0.004499  0.002032   \n",
       "2018-01-09 00:00:00-05:00 -0.001859  0.004948 -0.006760 -0.003101  0.006914   \n",
       "...                             ...       ...       ...       ...       ...   \n",
       "2021-11-01 00:00:00-04:00  0.019902 -0.016143 -0.002448  0.017838 -0.001059   \n",
       "2021-11-02 00:00:00-04:00 -0.005515 -0.001453  0.009884 -0.012191  0.004300   \n",
       "2021-11-03 00:00:00-04:00  0.010649  0.021378  0.006594 -0.013730  0.000352   \n",
       "2021-11-04 00:00:00-04:00  0.012918  0.027494  0.002552  0.007665 -0.013251   \n",
       "2021-11-05 00:00:00-04:00  0.015328  0.011389  0.004471  0.009159 -0.001367   \n",
       "\n",
       "                                JNJ       HON       LIN       AMT      AAPL  \\\n",
       "time                                                                          \n",
       "2018-01-03 00:00:00-05:00  0.009265 -0.007875  0.008644  0.003295 -0.000464   \n",
       "2018-01-04 00:00:00-05:00 -0.000031  0.013185  0.015554 -0.013703  0.004879   \n",
       "2018-01-05 00:00:00-05:00  0.008073  0.006539  0.008127  0.006159  0.011213   \n",
       "2018-01-08 00:00:00-05:00  0.001341 -0.004760 -0.000124  0.010962 -0.003544   \n",
       "2018-01-09 00:00:00-05:00  0.016567  0.008596  0.010357 -0.007393 -0.000057   \n",
       "...                             ...       ...       ...       ...       ...   \n",
       "2021-11-01 00:00:00-04:00  0.000798  0.005306  0.011527  0.001455 -0.005407   \n",
       "2021-11-02 00:00:00-04:00  0.016013  0.006507  0.014523  0.001879  0.006779   \n",
       "2021-11-03 00:00:00-04:00 -0.002899  0.007188  0.002411 -0.007041  0.009933   \n",
       "2021-11-04 00:00:00-04:00 -0.001211 -0.001391  0.009774 -0.005558 -0.003499   \n",
       "2021-11-05 00:00:00-04:00 -0.009095  0.016136  0.000995 -0.005016  0.001855   \n",
       "\n",
       "                                NEE  \n",
       "time                                 \n",
       "2018-01-03 00:00:00-05:00 -0.021340  \n",
       "2018-01-04 00:00:00-05:00 -0.005731  \n",
       "2018-01-05 00:00:00-05:00  0.005168  \n",
       "2018-01-08 00:00:00-05:00  0.008371  \n",
       "2018-01-09 00:00:00-05:00 -0.007125  \n",
       "...                             ...  \n",
       "2021-11-01 00:00:00-04:00  0.003517  \n",
       "2021-11-02 00:00:00-04:00 -0.001869  \n",
       "2021-11-03 00:00:00-04:00 -0.002341  \n",
       "2021-11-04 00:00:00-04:00 -0.005514  \n",
       "2021-11-05 00:00:00-04:00  0.008966  \n",
       "\n",
       "[969 rows x 11 columns]"
      ]
     },
     "metadata": {},
     "execution_count": 11
    }
   ],
   "metadata": {}
  },
  {
   "cell_type": "markdown",
   "source": [
    "### Calculate Aggregate Daily Returns for Portfolio"
   ],
   "metadata": {}
  },
  {
   "cell_type": "code",
   "execution_count": 12,
   "source": [
    "# Calculate the daily returns for of the Stock Portfolio\r\n",
    "stock_daily_returns_df = stock_closing_prices_df.sum(axis=1).pct_change().dropna()\r\n",
    "stock_daily_returns_df"
   ],
   "outputs": [
    {
     "output_type": "execute_result",
     "data": {
      "text/plain": [
       "time\n",
       "2018-01-03 00:00:00-05:00    0.006571\n",
       "2018-01-04 00:00:00-05:00    0.004232\n",
       "2018-01-05 00:00:00-05:00    0.010777\n",
       "2018-01-08 00:00:00-05:00    0.008411\n",
       "2018-01-09 00:00:00-05:00    0.003351\n",
       "                               ...   \n",
       "2021-11-01 00:00:00-04:00   -0.008034\n",
       "2021-11-02 00:00:00-04:00    0.000916\n",
       "2021-11-03 00:00:00-04:00    0.014400\n",
       "2021-11-04 00:00:00-04:00    0.018027\n",
       "2021-11-05 00:00:00-04:00    0.008815\n",
       "Length: 969, dtype: float64"
      ]
     },
     "metadata": {},
     "execution_count": 12
    }
   ],
   "metadata": {}
  },
  {
   "cell_type": "markdown",
   "source": [
    "### Plot the Aggregated Daily Returns"
   ],
   "metadata": {}
  },
  {
   "cell_type": "code",
   "execution_count": 13,
   "source": [
    "# Plot daily returns for the stocks portfolio\r\n",
    "stock_daily_returns_df.plot(figsize=(15,10), title=\"Daily Returns - Stocks Portfolio (Jan. 2018 - Nov. 2021)\")"
   ],
   "outputs": [
    {
     "output_type": "execute_result",
     "data": {
      "text/plain": [
       "<AxesSubplot:title={'center':'Daily Returns - Stocks Portfolio (Jan. 2018 - Nov. 2021)'}, xlabel='time'>"
      ]
     },
     "metadata": {},
     "execution_count": 13
    },
    {
     "output_type": "display_data",
     "data": {
      "image/png": "[encoded data removed]",
      "text/plain": [
       "<Figure size 1080x720 with 1 Axes>"
      ]
     },
     "metadata": {
      "needs_background": "light"
     }
    }
   ],
   "metadata": {}
  },
  {
   "cell_type": "markdown",
   "source": [
    "## Calculate the Cumulative Returns of the Portfolio"
   ],
   "metadata": {}
  },
  {
   "cell_type": "code",
   "execution_count": 14,
   "source": [
    "# Calculate Cumulative Returns for Stock Portfolio\r\n",
    "stock_cumulative_returns_df = (1 + stock_daily_returns_df).cumprod() - 1\r\n",
    "stock_cumulative_returns_df"
   ],
   "outputs": [
    {
     "output_type": "execute_result",
     "data": {
      "text/plain": [
       "time\n",
       "2018-01-03 00:00:00-05:00    0.006571\n",
       "2018-01-04 00:00:00-05:00    0.010831\n",
       "2018-01-05 00:00:00-05:00    0.021725\n",
       "2018-01-08 00:00:00-05:00    0.030318\n",
       "2018-01-09 00:00:00-05:00    0.033771\n",
       "                               ...   \n",
       "2021-11-01 00:00:00-04:00    1.040864\n",
       "2021-11-02 00:00:00-04:00    1.042734\n",
       "2021-11-03 00:00:00-04:00    1.072149\n",
       "2021-11-04 00:00:00-04:00    1.109504\n",
       "2021-11-05 00:00:00-04:00    1.128099\n",
       "Length: 969, dtype: float64"
      ]
     },
     "metadata": {},
     "execution_count": 14
    }
   ],
   "metadata": {}
  },
  {
   "cell_type": "markdown",
   "source": [
    "### Read the Cumulative Returns Series into a CSV"
   ],
   "metadata": {}
  },
  {
   "cell_type": "code",
   "execution_count": 16,
   "source": [
    "# Read the CUmulative Returns Series into a CSV\r\n",
    "stock_cumulative_returns_df.to_csv(Path(\"../data/cum_returns_stocks.csv\"))"
   ],
   "outputs": [],
   "metadata": {}
  },
  {
   "cell_type": "markdown",
   "source": [
    "### Plot Cumulative Returns for Portfolio"
   ],
   "metadata": {}
  },
  {
   "cell_type": "code",
   "execution_count": null,
   "source": [
    "# Plot Cumulative Returns for Stock Portfolio\r\n",
    "stock_cumulative_returns_df.plot(figsize=(15,10), title=\"Cumulative Returns - Stocks Portfolio (Jan. 2020 - Jan. 2021)\")"
   ],
   "outputs": [],
   "metadata": {}
  },
  {
   "cell_type": "markdown",
   "source": [
    "## Set Up and Run Monte Carlo Simulation for 10 Years"
   ],
   "metadata": {}
  },
  {
   "cell_type": "code",
   "execution_count": null,
   "source": [
    "# Set up Monte Carlo Simulation for a 10 year time period with a $10,000 initial investment\r\n",
    "MC_stock_ten_year = MCSimulation(\r\n",
    "  portfolio_data=stock_prices_df,\r\n",
    "  num_simulation=1000,\r\n",
    "  num_trading_days=252 * 10\r\n",
    ")\r\n",
    "\r\n",
    "MC_stock_ten_year.portfolio_data.head()"
   ],
   "outputs": [],
   "metadata": {}
  },
  {
   "cell_type": "markdown",
   "source": [
    "### Run the MC Simulation for 10 Years"
   ],
   "metadata": {}
  },
  {
   "cell_type": "code",
   "execution_count": null,
   "source": [
    "# Run the Monte Carlo simulation to forecast 10 years cumulative returns\r\n",
    "MC_stock_ten_year.calc_cumulative_return()"
   ],
   "outputs": [],
   "metadata": {}
  },
  {
   "cell_type": "markdown",
   "source": [
    "### Plot the MC 10 Year Simulation Visualization"
   ],
   "metadata": {}
  },
  {
   "cell_type": "code",
   "execution_count": null,
   "source": [
    "# Visualize the 10-year Monte Carlo simulation by creating an\r\n",
    "# overlay line plot\r\n",
    "MC_stock_ten_year.plot_simulation()"
   ],
   "outputs": [],
   "metadata": {}
  },
  {
   "cell_type": "markdown",
   "source": [
    "### Plot the MC 10 Year Simulation Distribution Visualization"
   ],
   "metadata": {}
  },
  {
   "cell_type": "code",
   "execution_count": null,
   "source": [
    "# Visualize the probability distribution of the 10-year Monte Carlo simulation \r\n",
    "# by plotting a histogram\r\n",
    "MC_stock_ten_year.plot_distribution()"
   ],
   "outputs": [],
   "metadata": {}
  },
  {
   "cell_type": "markdown",
   "source": [
    "### Generate MC 10 Year Simulation Summary Statistics"
   ],
   "metadata": {}
  },
  {
   "cell_type": "code",
   "execution_count": null,
   "source": [
    "# Generate summary statistics from the 10-year Monte Carlo simulation results\r\n",
    "# Save the results as a variable\r\n",
    "MC_stock_ten_year_summary_statistics = MC_stock_ten_year.summarize_cumulative_return()\r\n",
    "\r\n",
    "# Review the 30-year Monte Carlo summary statistics\r\n",
    "print(MC_stock_ten_year_summary_statistics)"
   ],
   "outputs": [],
   "metadata": {}
  },
  {
   "cell_type": "markdown",
   "source": [
    "### Calculate the Confidence Intervals to the 95% for the 10 year Simulation on a $10,000 initial investment"
   ],
   "metadata": {}
  },
  {
   "cell_type": "code",
   "execution_count": null,
   "source": [
    "# Calculate the 10-year confidence interval lower and upper projections for a $10,000 initial investment\r\n",
    "stock_ten_year_lower_ci = round(MC_stock_ten_year_summary_statistics[8]*10000, 2)\r\n",
    "stock_ten_year_upper_ci = round(MC_stock_ten_year_summary_statistics[9]*10000, 2)\r\n",
    "\r\n",
    "print(f\"With a 95% confidence interval, an initial investment of $10,000 in our Stocks Portfolio for 5 years, will be in the range of ${stock_ten_year_lower_ci} and ${stock_ten_year_upper_ci}\")"
   ],
   "outputs": [],
   "metadata": {}
  },
  {
   "cell_type": "markdown",
   "source": [
    "## Set Up and Run Monte Carlo Simulation for 30 Years"
   ],
   "metadata": {}
  },
  {
   "cell_type": "code",
   "execution_count": null,
   "source": [
    "# Set up Monte Carlo Simulation for a 30 year time period with a $10,000 initial investment\r\n",
    "MC_stock_thirty_year = MCSimulation(\r\n",
    "  portfolio_data=stock_prices_df,\r\n",
    "  num_simulation=1000,\r\n",
    "  num_trading_days=252 * 30\r\n",
    ")\r\n",
    "\r\n",
    "MC_stock_thirty_year.portfolio_data.head()"
   ],
   "outputs": [],
   "metadata": {}
  },
  {
   "cell_type": "markdown",
   "source": [
    "### Run the MC Simulation for 30 Years"
   ],
   "metadata": {}
  },
  {
   "cell_type": "code",
   "execution_count": null,
   "source": [
    "# Run the Monte Carlo simulation to forecast 10 years cumulative returns\r\n",
    "MC_stock_thirty_year.calc_cumulative_return()"
   ],
   "outputs": [],
   "metadata": {}
  },
  {
   "cell_type": "markdown",
   "source": [
    "### Plot the MC 30 Year Simulation Visualization"
   ],
   "metadata": {}
  },
  {
   "cell_type": "code",
   "execution_count": null,
   "source": [
    "# Visualize the 30-year Monte Carlo simulation by creating an\r\n",
    "# overlay line plot\r\n",
    "MC_stock_thirty_year.plot_simulation()"
   ],
   "outputs": [],
   "metadata": {}
  },
  {
   "cell_type": "markdown",
   "source": [
    "### Plot the MC 30 Year Simulation Distribution Visualization"
   ],
   "metadata": {}
  },
  {
   "cell_type": "code",
   "execution_count": null,
   "source": [
    "# Visualize the probability distribution of the 30-year Monte Carlo simulation \r\n",
    "# by plotting a histogram\r\n",
    "MC_stock_thirty_year.plot_distribution()"
   ],
   "outputs": [],
   "metadata": {}
  },
  {
   "cell_type": "markdown",
   "source": [
    "### Generate MC 30 Year Simulation Summary Statistics"
   ],
   "metadata": {}
  },
  {
   "cell_type": "code",
   "execution_count": null,
   "source": [
    "# Generate summary statistics from the 30-year Monte Carlo simulation results\r\n",
    "# Save the results as a variable\r\n",
    "MC_stock_thirty_year_summary_statistics = MC_stock_thirty_year.summarize_cumulative_return()\r\n",
    "\r\n",
    "# Review the 30-year Monte Carlo summary statistics\r\n",
    "print(MC_stock_thirty_year_summary_statistics)"
   ],
   "outputs": [],
   "metadata": {}
  },
  {
   "cell_type": "markdown",
   "source": [
    "### Calculate the Confidence Intervals to the 95% for the 30 year Simulation on a $10,000 initial investment"
   ],
   "metadata": {}
  },
  {
   "cell_type": "code",
   "execution_count": null,
   "source": [
    "# Calculate the 10-year confidence interval lower and upper projections for a $10,000 initial investment\r\n",
    "stock_thirty_year_lower_ci = round(MC_stock_thirty_year_summary_statistics[8]*10000, 2)\r\n",
    "stock_thirty_year_upper_ci = round(MC_stock_thirty_year_summary_statistics[9]*10000, 2)\r\n",
    "\r\n",
    "print(f\"With a 95% confidence interval, an initial investment of $10,000 in our Stocks Portfolio for 5 years, will be in the range of ${stock_thirty_year_lower_ci} and ${stock_thirty_year_upper_ci}\")"
   ],
   "outputs": [],
   "metadata": {}
  },
  {
   "cell_type": "markdown",
   "source": [
    "## Calculate the Standard Deviation & Annualized Standard Deviation for Our Stock Portfolio"
   ],
   "metadata": {}
  },
  {
   "cell_type": "code",
   "execution_count": null,
   "source": [
    "# Calculate Standard Deviation for our Stock Portfolio\r\n",
    "stock_standard_deviation = per_stock_daily_returns.std()\r\n",
    "stock_standard_deviation = stock_standard_deviation.sort_values()\r\n",
    "stock_standard_deviation"
   ],
   "outputs": [],
   "metadata": {}
  },
  {
   "cell_type": "markdown",
   "source": [
    "### Calculate Annualized Standard Deviation"
   ],
   "metadata": {}
  },
  {
   "cell_type": "code",
   "execution_count": null,
   "source": [
    "# Calculate Annualized Standard Deviation for our Stock Portfolio\r\n",
    "stock_annualized_standard_deviation = stock_standard_deviation * np.sqrt(252)\r\n",
    "stock_annualized_standard_deviation = stock_annualized_standard_deviation.sort_values()\r\n",
    "stock_annualized_standard_deviation"
   ],
   "outputs": [],
   "metadata": {}
  },
  {
   "cell_type": "markdown",
   "source": [
    "## Calculate the Sharpe Ratio for our Stock Portfolio"
   ],
   "metadata": {}
  },
  {
   "cell_type": "markdown",
   "source": [
    "### Calculate the Annualized Returns"
   ],
   "metadata": {}
  },
  {
   "cell_type": "code",
   "execution_count": null,
   "source": [
    "# Calculate the Annualized Returns for our Stock Portfolio \r\n",
    "stock_annualized_returns = per_stock_daily_returns.mean() * 252\r\n",
    "stock_annualized_returns = stock_annualized_returns.sort_values()\r\n",
    "stock_annualized_returns"
   ],
   "outputs": [],
   "metadata": {}
  },
  {
   "cell_type": "markdown",
   "source": [
    "### Calculate the Sharpe Ratio"
   ],
   "metadata": {}
  },
  {
   "cell_type": "code",
   "execution_count": null,
   "source": [
    "# Calculate the Sharpe Ratio for Our Stock Portfolio\r\n",
    "stock_portfolio_sharpe_ratio = stock_annualized_returns / stock_annualized_standard_deviation\r\n",
    "stock_portfolio_sharpe_ratio = stock_portfolio_sharpe_ratio.sort_values()\r\n",
    "stock_portfolio_sharpe_ratio"
   ],
   "outputs": [],
   "metadata": {}
  },
  {
   "cell_type": "markdown",
   "source": [
    "### Calculate the Overall Sharpe Ratio for our Stock Portfolio"
   ],
   "metadata": {}
  },
  {
   "cell_type": "code",
   "execution_count": null,
   "source": [
    "# Calculate the Average Sharpe Ratio for our Stock Portfolio\r\n",
    "stock_portfolio_average_sharpe_ratio = stock_portfolio_sharpe_ratio.mean()\r\n",
    "print(f\"{stock_portfolio_average_sharpe_ratio: .3f}\")"
   ],
   "outputs": [],
   "metadata": {}
  }
 ],
 "metadata": {
  "orig_nbformat": 4,
  "language_info": {
   "name": "python",
   "version": "3.7.10",
   "mimetype": "text/x-python",
   "codemirror_mode": {
    "name": "ipython",
    "version": 3
   },
   "pygments_lexer": "ipython3",
   "nbconvert_exporter": "python",
   "file_extension": ".py"
  },
  "kernelspec": {
   "name": "python3",
   "display_name": "Python 3.7.10 64-bit ('dev': conda)"
  },
  "interpreter": {
   "hash": "ad9fb37fa15c2fac4885b853501abc8587965d08b8586f67468c92fe4e3567d7"
  }
 },
 "nbformat": 4,
 "nbformat_minor": 2
}