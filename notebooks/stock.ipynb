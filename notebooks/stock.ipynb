{
 "cells": [
  {
   "cell_type": "markdown",
   "source": [
    "# Stock Portfolio Notebook"
   ],
   "metadata": {}
  },
  {
   "cell_type": "markdown",
   "source": [
    "## Set Up and Execute Alapaca SDK Request"
   ],
   "metadata": {}
  },
  {
   "cell_type": "markdown",
   "source": [
    "### Importing the Required Libraries"
   ],
   "metadata": {}
  },
  {
   "cell_type": "code",
   "execution_count": 1,
   "source": [
    "# Import Required Libraries\r\n",
    "\r\n",
    "import os\r\n",
    "import requests\r\n",
    "import pandas as pd\r\n",
    "from dotenv import load_dotenv\r\n",
    "import alpaca_trade_api as tradeapi\r\n",
    "from MCForecastTools import MCSimulation\r\n",
    "import numpy as np\r\n",
    "\r\n",
    "%matplotlib inline\r\n"
   ],
   "outputs": [],
   "metadata": {}
  },
  {
   "cell_type": "markdown",
   "source": [
    "### Loading the .env file"
   ],
   "metadata": {}
  },
  {
   "cell_type": "code",
   "execution_count": 2,
   "source": [
    "# Make sure dotenv is loaded\r\n",
    "load_dotenv()"
   ],
   "outputs": [
    {
     "output_type": "execute_result",
     "data": {
      "text/plain": [
       "True"
      ]
     },
     "metadata": {},
     "execution_count": 2
    }
   ],
   "metadata": {}
  },
  {
   "cell_type": "markdown",
   "source": [
    "### Alpaca API and Secret Key Variables"
   ],
   "metadata": {}
  },
  {
   "cell_type": "code",
   "execution_count": 3,
   "source": [
    "# Create Alpaca key variables to call from .env() file\r\n",
    "alpaca_api_key = os.getenv(\"ALPACA_API_KEY\")\r\n",
    "alpaca_secret_key = os.getenv(\"ALPACA_SECRET_KEY\")\r\n",
    "\r\n",
    "display(type(alpaca_api_key))\r\n",
    "display(type(alpaca_secret_key))"
   ],
   "outputs": [
    {
     "output_type": "display_data",
     "data": {
      "text/plain": [
       "str"
      ]
     },
     "metadata": {}
    },
    {
     "output_type": "display_data",
     "data": {
      "text/plain": [
       "str"
      ]
     },
     "metadata": {}
    }
   ],
   "metadata": {}
  },
  {
   "cell_type": "markdown",
   "source": [
    "### Create the ALpaca REST Object"
   ],
   "metadata": {}
  },
  {
   "cell_type": "code",
   "execution_count": 4,
   "source": [
    "# Create our Alpaca REST object\r\n",
    "alpaca = tradeapi.REST(\r\n",
    "  alpaca_api_key,\r\n",
    "  alpaca_secret_key,\r\n",
    "  api_version=\"v2\"\r\n",
    ")\r\n",
    "\r\n",
    "alpaca"
   ],
   "outputs": [
    {
     "output_type": "execute_result",
     "data": {
      "text/plain": [
       "<alpaca_trade_api.rest.REST at 0x1ef74b7ff88>"
      ]
     },
     "metadata": {},
     "execution_count": 4
    }
   ],
   "metadata": {}
  },
  {
   "cell_type": "markdown",
   "source": [
    "### Set the Start and End Dates"
   ],
   "metadata": {}
  },
  {
   "cell_type": "code",
   "execution_count": 5,
   "source": [
    "# Set the start and end dates for the information we want to pull from Alpaca\r\n",
    "start_date = pd.Timestamp(\"2020-01-02\", tz=\"America/New_York\").isoformat()\r\n",
    "end_date = pd.Timestamp(\"2021-01-02\", tz=\"America/New_York\").isoformat()"
   ],
   "outputs": [],
   "metadata": {}
  },
  {
   "cell_type": "markdown",
   "source": [
    "### Set the Tickers for Alpaca to Fetch"
   ],
   "metadata": {}
  },
  {
   "cell_type": "code",
   "execution_count": 6,
   "source": [
    "# Set the list of tickers we want the Alpaca request to fetch\r\n",
    "tickers = [\"FB\", \"AMZN\", \"PG\", \"XOM\", \"JPM\", \"JNJ\", \"HON\", \"LIN\", \"AMT\", \"AAPL\", \"NEE\"]"
   ],
   "outputs": [],
   "metadata": {}
  },
  {
   "cell_type": "markdown",
   "source": [
    "### Set the Timeframe for the Alpaca Request"
   ],
   "metadata": {}
  },
  {
   "cell_type": "code",
   "execution_count": 7,
   "source": [
    "# Set the timeframe of collection. We just need the a daily price point\r\n",
    "timeframe = \"1D\""
   ],
   "outputs": [],
   "metadata": {}
  },
  {
   "cell_type": "markdown",
   "source": [
    "### Create the Request for Alpaca Using get_barset()"
   ],
   "metadata": {}
  },
  {
   "cell_type": "code",
   "execution_count": 8,
   "source": [
    "# Create the request of the data to fetch via the Alpaca SDK\r\n",
    "stock_prices_df = alpaca.get_barset(\r\n",
    "  tickers,\r\n",
    "  timeframe,\r\n",
    "  limit=1000,\r\n",
    "  start=start_date,\r\n",
    "  end=end_date\r\n",
    ").df\r\n",
    "\r\n",
    "stock_prices_df"
   ],
   "outputs": [
    {
     "output_type": "execute_result",
     "data": {
      "text/html": [
       "<div>\n",
       "<style scoped>\n",
       "    .dataframe tbody tr th:only-of-type {\n",
       "        vertical-align: middle;\n",
       "    }\n",
       "\n",
       "    .dataframe tbody tr th {\n",
       "        vertical-align: top;\n",
       "    }\n",
       "\n",
       "    .dataframe thead tr th {\n",
       "        text-align: left;\n",
       "    }\n",
       "\n",
       "    .dataframe thead tr:last-of-type th {\n",
       "        text-align: right;\n",
       "    }\n",
       "</style>\n",
       "<table border=\"1\" class=\"dataframe\">\n",
       "  <thead>\n",
       "    <tr>\n",
       "      <th></th>\n",
       "      <th colspan=\"5\" halign=\"left\">AAPL</th>\n",
       "      <th colspan=\"5\" halign=\"left\">AMT</th>\n",
       "      <th>...</th>\n",
       "      <th colspan=\"5\" halign=\"left\">PG</th>\n",
       "      <th colspan=\"5\" halign=\"left\">XOM</th>\n",
       "    </tr>\n",
       "    <tr>\n",
       "      <th></th>\n",
       "      <th>open</th>\n",
       "      <th>high</th>\n",
       "      <th>low</th>\n",
       "      <th>close</th>\n",
       "      <th>volume</th>\n",
       "      <th>open</th>\n",
       "      <th>high</th>\n",
       "      <th>low</th>\n",
       "      <th>close</th>\n",
       "      <th>volume</th>\n",
       "      <th>...</th>\n",
       "      <th>open</th>\n",
       "      <th>high</th>\n",
       "      <th>low</th>\n",
       "      <th>close</th>\n",
       "      <th>volume</th>\n",
       "      <th>open</th>\n",
       "      <th>high</th>\n",
       "      <th>low</th>\n",
       "      <th>close</th>\n",
       "      <th>volume</th>\n",
       "    </tr>\n",
       "    <tr>\n",
       "      <th>time</th>\n",
       "      <th></th>\n",
       "      <th></th>\n",
       "      <th></th>\n",
       "      <th></th>\n",
       "      <th></th>\n",
       "      <th></th>\n",
       "      <th></th>\n",
       "      <th></th>\n",
       "      <th></th>\n",
       "      <th></th>\n",
       "      <th></th>\n",
       "      <th></th>\n",
       "      <th></th>\n",
       "      <th></th>\n",
       "      <th></th>\n",
       "      <th></th>\n",
       "      <th></th>\n",
       "      <th></th>\n",
       "      <th></th>\n",
       "      <th></th>\n",
       "      <th></th>\n",
       "    </tr>\n",
       "  </thead>\n",
       "  <tbody>\n",
       "    <tr>\n",
       "      <th>2020-01-02 00:00:00-05:00</th>\n",
       "      <td>296.24</td>\n",
       "      <td>300.6000</td>\n",
       "      <td>295.1900</td>\n",
       "      <td>300.58</td>\n",
       "      <td>30589026</td>\n",
       "      <td>229.68</td>\n",
       "      <td>231.1499</td>\n",
       "      <td>228.0051</td>\n",
       "      <td>228.50</td>\n",
       "      <td>1205047</td>\n",
       "      <td>...</td>\n",
       "      <td>124.50</td>\n",
       "      <td>124.7300</td>\n",
       "      <td>122.9400</td>\n",
       "      <td>123.41</td>\n",
       "      <td>5965498</td>\n",
       "      <td>70.24</td>\n",
       "      <td>71.020</td>\n",
       "      <td>70.2368</td>\n",
       "      <td>70.900</td>\n",
       "      <td>10586614</td>\n",
       "    </tr>\n",
       "    <tr>\n",
       "      <th>2020-01-03 00:00:00-05:00</th>\n",
       "      <td>297.15</td>\n",
       "      <td>300.5800</td>\n",
       "      <td>296.5000</td>\n",
       "      <td>297.38</td>\n",
       "      <td>31609363</td>\n",
       "      <td>227.56</td>\n",
       "      <td>229.8300</td>\n",
       "      <td>227.0000</td>\n",
       "      <td>228.63</td>\n",
       "      <td>1293710</td>\n",
       "      <td>...</td>\n",
       "      <td>122.16</td>\n",
       "      <td>123.5300</td>\n",
       "      <td>121.8600</td>\n",
       "      <td>122.53</td>\n",
       "      <td>5620548</td>\n",
       "      <td>71.34</td>\n",
       "      <td>71.370</td>\n",
       "      <td>70.1600</td>\n",
       "      <td>70.320</td>\n",
       "      <td>14148606</td>\n",
       "    </tr>\n",
       "    <tr>\n",
       "      <th>2020-01-06 00:00:00-05:00</th>\n",
       "      <td>293.79</td>\n",
       "      <td>299.9600</td>\n",
       "      <td>292.7500</td>\n",
       "      <td>299.78</td>\n",
       "      <td>27487207</td>\n",
       "      <td>228.48</td>\n",
       "      <td>230.0000</td>\n",
       "      <td>227.8922</td>\n",
       "      <td>228.51</td>\n",
       "      <td>1077776</td>\n",
       "      <td>...</td>\n",
       "      <td>122.57</td>\n",
       "      <td>123.1900</td>\n",
       "      <td>122.3787</td>\n",
       "      <td>122.75</td>\n",
       "      <td>4535596</td>\n",
       "      <td>70.32</td>\n",
       "      <td>71.355</td>\n",
       "      <td>70.2300</td>\n",
       "      <td>70.870</td>\n",
       "      <td>16859539</td>\n",
       "    </tr>\n",
       "    <tr>\n",
       "      <th>2020-01-07 00:00:00-05:00</th>\n",
       "      <td>299.84</td>\n",
       "      <td>300.9000</td>\n",
       "      <td>297.4800</td>\n",
       "      <td>298.27</td>\n",
       "      <td>23877417</td>\n",
       "      <td>227.13</td>\n",
       "      <td>227.5700</td>\n",
       "      <td>221.6200</td>\n",
       "      <td>223.68</td>\n",
       "      <td>1136756</td>\n",
       "      <td>...</td>\n",
       "      <td>122.88</td>\n",
       "      <td>123.2059</td>\n",
       "      <td>121.8700</td>\n",
       "      <td>122.01</td>\n",
       "      <td>4786221</td>\n",
       "      <td>70.50</td>\n",
       "      <td>70.520</td>\n",
       "      <td>69.5100</td>\n",
       "      <td>70.280</td>\n",
       "      <td>11583116</td>\n",
       "    </tr>\n",
       "    <tr>\n",
       "      <th>2020-01-08 00:00:00-05:00</th>\n",
       "      <td>297.16</td>\n",
       "      <td>304.4399</td>\n",
       "      <td>297.1560</td>\n",
       "      <td>303.15</td>\n",
       "      <td>29547763</td>\n",
       "      <td>223.48</td>\n",
       "      <td>226.4850</td>\n",
       "      <td>222.5200</td>\n",
       "      <td>225.56</td>\n",
       "      <td>971756</td>\n",
       "      <td>...</td>\n",
       "      <td>122.19</td>\n",
       "      <td>123.4299</td>\n",
       "      <td>122.0003</td>\n",
       "      <td>122.52</td>\n",
       "      <td>3652809</td>\n",
       "      <td>70.11</td>\n",
       "      <td>70.285</td>\n",
       "      <td>69.1700</td>\n",
       "      <td>69.235</td>\n",
       "      <td>12425686</td>\n",
       "    </tr>\n",
       "    <tr>\n",
       "      <th>...</th>\n",
       "      <td>...</td>\n",
       "      <td>...</td>\n",
       "      <td>...</td>\n",
       "      <td>...</td>\n",
       "      <td>...</td>\n",
       "      <td>...</td>\n",
       "      <td>...</td>\n",
       "      <td>...</td>\n",
       "      <td>...</td>\n",
       "      <td>...</td>\n",
       "      <td>...</td>\n",
       "      <td>...</td>\n",
       "      <td>...</td>\n",
       "      <td>...</td>\n",
       "      <td>...</td>\n",
       "      <td>...</td>\n",
       "      <td>...</td>\n",
       "      <td>...</td>\n",
       "      <td>...</td>\n",
       "      <td>...</td>\n",
       "      <td>...</td>\n",
       "    </tr>\n",
       "    <tr>\n",
       "      <th>2020-12-24 00:00:00-05:00</th>\n",
       "      <td>131.32</td>\n",
       "      <td>133.4600</td>\n",
       "      <td>131.1000</td>\n",
       "      <td>131.99</td>\n",
       "      <td>51675667</td>\n",
       "      <td>216.44</td>\n",
       "      <td>219.3900</td>\n",
       "      <td>216.1900</td>\n",
       "      <td>218.64</td>\n",
       "      <td>581627</td>\n",
       "      <td>...</td>\n",
       "      <td>136.20</td>\n",
       "      <td>138.1300</td>\n",
       "      <td>136.2000</td>\n",
       "      <td>137.81</td>\n",
       "      <td>2076306</td>\n",
       "      <td>41.65</td>\n",
       "      <td>41.850</td>\n",
       "      <td>41.3800</td>\n",
       "      <td>41.617</td>\n",
       "      <td>7579279</td>\n",
       "    </tr>\n",
       "    <tr>\n",
       "      <th>2020-12-28 00:00:00-05:00</th>\n",
       "      <td>133.99</td>\n",
       "      <td>137.3400</td>\n",
       "      <td>133.5100</td>\n",
       "      <td>136.73</td>\n",
       "      <td>116008068</td>\n",
       "      <td>218.87</td>\n",
       "      <td>221.4500</td>\n",
       "      <td>217.4300</td>\n",
       "      <td>221.04</td>\n",
       "      <td>1078952</td>\n",
       "      <td>...</td>\n",
       "      <td>138.15</td>\n",
       "      <td>139.3935</td>\n",
       "      <td>137.9450</td>\n",
       "      <td>138.72</td>\n",
       "      <td>2916003</td>\n",
       "      <td>41.69</td>\n",
       "      <td>42.550</td>\n",
       "      <td>41.5200</td>\n",
       "      <td>41.730</td>\n",
       "      <td>22892003</td>\n",
       "    </tr>\n",
       "    <tr>\n",
       "      <th>2020-12-29 00:00:00-05:00</th>\n",
       "      <td>138.05</td>\n",
       "      <td>138.7890</td>\n",
       "      <td>134.3409</td>\n",
       "      <td>134.93</td>\n",
       "      <td>114407189</td>\n",
       "      <td>222.21</td>\n",
       "      <td>223.4200</td>\n",
       "      <td>220.4200</td>\n",
       "      <td>220.48</td>\n",
       "      <td>1028791</td>\n",
       "      <td>...</td>\n",
       "      <td>139.22</td>\n",
       "      <td>139.9400</td>\n",
       "      <td>138.2000</td>\n",
       "      <td>138.45</td>\n",
       "      <td>3713102</td>\n",
       "      <td>42.04</td>\n",
       "      <td>42.120</td>\n",
       "      <td>41.2000</td>\n",
       "      <td>41.270</td>\n",
       "      <td>18764453</td>\n",
       "    </tr>\n",
       "    <tr>\n",
       "      <th>2020-12-30 00:00:00-05:00</th>\n",
       "      <td>135.58</td>\n",
       "      <td>135.9900</td>\n",
       "      <td>133.4000</td>\n",
       "      <td>133.72</td>\n",
       "      <td>87788124</td>\n",
       "      <td>220.51</td>\n",
       "      <td>221.5300</td>\n",
       "      <td>219.3500</td>\n",
       "      <td>220.52</td>\n",
       "      <td>1144758</td>\n",
       "      <td>...</td>\n",
       "      <td>138.60</td>\n",
       "      <td>138.9214</td>\n",
       "      <td>137.5500</td>\n",
       "      <td>137.80</td>\n",
       "      <td>2260510</td>\n",
       "      <td>41.33</td>\n",
       "      <td>42.420</td>\n",
       "      <td>41.2700</td>\n",
       "      <td>41.605</td>\n",
       "      <td>21557114</td>\n",
       "    </tr>\n",
       "    <tr>\n",
       "      <th>2020-12-31 00:00:00-05:00</th>\n",
       "      <td>134.08</td>\n",
       "      <td>134.7400</td>\n",
       "      <td>131.7200</td>\n",
       "      <td>132.58</td>\n",
       "      <td>86901528</td>\n",
       "      <td>219.76</td>\n",
       "      <td>224.6650</td>\n",
       "      <td>219.6000</td>\n",
       "      <td>224.30</td>\n",
       "      <td>1297773</td>\n",
       "      <td>...</td>\n",
       "      <td>138.31</td>\n",
       "      <td>139.2900</td>\n",
       "      <td>137.3900</td>\n",
       "      <td>139.00</td>\n",
       "      <td>2561486</td>\n",
       "      <td>41.47</td>\n",
       "      <td>41.680</td>\n",
       "      <td>40.9700</td>\n",
       "      <td>41.200</td>\n",
       "      <td>19673568</td>\n",
       "    </tr>\n",
       "  </tbody>\n",
       "</table>\n",
       "<p>253 rows × 55 columns</p>\n",
       "</div>"
      ],
      "text/plain": [
       "                             AAPL                                         \\\n",
       "                             open      high       low   close     volume   \n",
       "time                                                                       \n",
       "2020-01-02 00:00:00-05:00  296.24  300.6000  295.1900  300.58   30589026   \n",
       "2020-01-03 00:00:00-05:00  297.15  300.5800  296.5000  297.38   31609363   \n",
       "2020-01-06 00:00:00-05:00  293.79  299.9600  292.7500  299.78   27487207   \n",
       "2020-01-07 00:00:00-05:00  299.84  300.9000  297.4800  298.27   23877417   \n",
       "2020-01-08 00:00:00-05:00  297.16  304.4399  297.1560  303.15   29547763   \n",
       "...                           ...       ...       ...     ...        ...   \n",
       "2020-12-24 00:00:00-05:00  131.32  133.4600  131.1000  131.99   51675667   \n",
       "2020-12-28 00:00:00-05:00  133.99  137.3400  133.5100  136.73  116008068   \n",
       "2020-12-29 00:00:00-05:00  138.05  138.7890  134.3409  134.93  114407189   \n",
       "2020-12-30 00:00:00-05:00  135.58  135.9900  133.4000  133.72   87788124   \n",
       "2020-12-31 00:00:00-05:00  134.08  134.7400  131.7200  132.58   86901528   \n",
       "\n",
       "                              AMT                                       ...  \\\n",
       "                             open      high       low   close   volume  ...   \n",
       "time                                                                    ...   \n",
       "2020-01-02 00:00:00-05:00  229.68  231.1499  228.0051  228.50  1205047  ...   \n",
       "2020-01-03 00:00:00-05:00  227.56  229.8300  227.0000  228.63  1293710  ...   \n",
       "2020-01-06 00:00:00-05:00  228.48  230.0000  227.8922  228.51  1077776  ...   \n",
       "2020-01-07 00:00:00-05:00  227.13  227.5700  221.6200  223.68  1136756  ...   \n",
       "2020-01-08 00:00:00-05:00  223.48  226.4850  222.5200  225.56   971756  ...   \n",
       "...                           ...       ...       ...     ...      ...  ...   \n",
       "2020-12-24 00:00:00-05:00  216.44  219.3900  216.1900  218.64   581627  ...   \n",
       "2020-12-28 00:00:00-05:00  218.87  221.4500  217.4300  221.04  1078952  ...   \n",
       "2020-12-29 00:00:00-05:00  222.21  223.4200  220.4200  220.48  1028791  ...   \n",
       "2020-12-30 00:00:00-05:00  220.51  221.5300  219.3500  220.52  1144758  ...   \n",
       "2020-12-31 00:00:00-05:00  219.76  224.6650  219.6000  224.30  1297773  ...   \n",
       "\n",
       "                               PG                                         XOM  \\\n",
       "                             open      high       low   close   volume   open   \n",
       "time                                                                            \n",
       "2020-01-02 00:00:00-05:00  124.50  124.7300  122.9400  123.41  5965498  70.24   \n",
       "2020-01-03 00:00:00-05:00  122.16  123.5300  121.8600  122.53  5620548  71.34   \n",
       "2020-01-06 00:00:00-05:00  122.57  123.1900  122.3787  122.75  4535596  70.32   \n",
       "2020-01-07 00:00:00-05:00  122.88  123.2059  121.8700  122.01  4786221  70.50   \n",
       "2020-01-08 00:00:00-05:00  122.19  123.4299  122.0003  122.52  3652809  70.11   \n",
       "...                           ...       ...       ...     ...      ...    ...   \n",
       "2020-12-24 00:00:00-05:00  136.20  138.1300  136.2000  137.81  2076306  41.65   \n",
       "2020-12-28 00:00:00-05:00  138.15  139.3935  137.9450  138.72  2916003  41.69   \n",
       "2020-12-29 00:00:00-05:00  139.22  139.9400  138.2000  138.45  3713102  42.04   \n",
       "2020-12-30 00:00:00-05:00  138.60  138.9214  137.5500  137.80  2260510  41.33   \n",
       "2020-12-31 00:00:00-05:00  138.31  139.2900  137.3900  139.00  2561486  41.47   \n",
       "\n",
       "                                                              \n",
       "                             high      low   close    volume  \n",
       "time                                                          \n",
       "2020-01-02 00:00:00-05:00  71.020  70.2368  70.900  10586614  \n",
       "2020-01-03 00:00:00-05:00  71.370  70.1600  70.320  14148606  \n",
       "2020-01-06 00:00:00-05:00  71.355  70.2300  70.870  16859539  \n",
       "2020-01-07 00:00:00-05:00  70.520  69.5100  70.280  11583116  \n",
       "2020-01-08 00:00:00-05:00  70.285  69.1700  69.235  12425686  \n",
       "...                           ...      ...     ...       ...  \n",
       "2020-12-24 00:00:00-05:00  41.850  41.3800  41.617   7579279  \n",
       "2020-12-28 00:00:00-05:00  42.550  41.5200  41.730  22892003  \n",
       "2020-12-29 00:00:00-05:00  42.120  41.2000  41.270  18764453  \n",
       "2020-12-30 00:00:00-05:00  42.420  41.2700  41.605  21557114  \n",
       "2020-12-31 00:00:00-05:00  41.680  40.9700  41.200  19673568  \n",
       "\n",
       "[253 rows x 55 columns]"
      ]
     },
     "metadata": {},
     "execution_count": 8
    }
   ],
   "metadata": {}
  },
  {
   "cell_type": "markdown",
   "source": [
    "## Calculate Closing Prices and Daily Prices/Plots"
   ],
   "metadata": {}
  },
  {
   "cell_type": "code",
   "execution_count": 9,
   "source": [
    "# Create a new empty DF that that holds only the closing prices of each stock\r\n",
    "stock_closing_prices_df = pd.DataFrame()"
   ],
   "outputs": [],
   "metadata": {}
  },
  {
   "cell_type": "markdown",
   "source": [
    "### For Loop to Access Closing Prices Only"
   ],
   "metadata": {}
  },
  {
   "cell_type": "code",
   "execution_count": 10,
   "source": [
    "# Using a for loop, for every ticker in the tickers list, select only the close price for each ticker in the prices_df DF\r\n",
    "for ticker in tickers:\r\n",
    "  stock_closing_prices_df[ticker] = stock_prices_df[ticker][\"close\"]\r\n",
    "\r\n",
    "stock_closing_prices_df"
   ],
   "outputs": [
    {
     "output_type": "execute_result",
     "data": {
      "text/html": [
       "<div>\n",
       "<style scoped>\n",
       "    .dataframe tbody tr th:only-of-type {\n",
       "        vertical-align: middle;\n",
       "    }\n",
       "\n",
       "    .dataframe tbody tr th {\n",
       "        vertical-align: top;\n",
       "    }\n",
       "\n",
       "    .dataframe thead th {\n",
       "        text-align: right;\n",
       "    }\n",
       "</style>\n",
       "<table border=\"1\" class=\"dataframe\">\n",
       "  <thead>\n",
       "    <tr style=\"text-align: right;\">\n",
       "      <th></th>\n",
       "      <th>FB</th>\n",
       "      <th>AMZN</th>\n",
       "      <th>PG</th>\n",
       "      <th>XOM</th>\n",
       "      <th>JPM</th>\n",
       "      <th>JNJ</th>\n",
       "      <th>HON</th>\n",
       "      <th>LIN</th>\n",
       "      <th>AMT</th>\n",
       "      <th>AAPL</th>\n",
       "      <th>NEE</th>\n",
       "    </tr>\n",
       "    <tr>\n",
       "      <th>time</th>\n",
       "      <th></th>\n",
       "      <th></th>\n",
       "      <th></th>\n",
       "      <th></th>\n",
       "      <th></th>\n",
       "      <th></th>\n",
       "      <th></th>\n",
       "      <th></th>\n",
       "      <th></th>\n",
       "      <th></th>\n",
       "      <th></th>\n",
       "    </tr>\n",
       "  </thead>\n",
       "  <tbody>\n",
       "    <tr>\n",
       "      <th>2020-01-02 00:00:00-05:00</th>\n",
       "      <td>209.7800</td>\n",
       "      <td>1897.71</td>\n",
       "      <td>123.41</td>\n",
       "      <td>70.900</td>\n",
       "      <td>141.09</td>\n",
       "      <td>146.00</td>\n",
       "      <td>180.76</td>\n",
       "      <td>210.75</td>\n",
       "      <td>228.50</td>\n",
       "      <td>300.58</td>\n",
       "      <td>238.61</td>\n",
       "    </tr>\n",
       "    <tr>\n",
       "      <th>2020-01-03 00:00:00-05:00</th>\n",
       "      <td>208.5100</td>\n",
       "      <td>1874.93</td>\n",
       "      <td>122.53</td>\n",
       "      <td>70.320</td>\n",
       "      <td>138.28</td>\n",
       "      <td>144.22</td>\n",
       "      <td>178.86</td>\n",
       "      <td>205.26</td>\n",
       "      <td>228.63</td>\n",
       "      <td>297.38</td>\n",
       "      <td>240.21</td>\n",
       "    </tr>\n",
       "    <tr>\n",
       "      <th>2020-01-06 00:00:00-05:00</th>\n",
       "      <td>212.5855</td>\n",
       "      <td>1903.33</td>\n",
       "      <td>122.75</td>\n",
       "      <td>70.870</td>\n",
       "      <td>138.21</td>\n",
       "      <td>144.11</td>\n",
       "      <td>177.50</td>\n",
       "      <td>204.37</td>\n",
       "      <td>228.51</td>\n",
       "      <td>299.78</td>\n",
       "      <td>241.51</td>\n",
       "    </tr>\n",
       "    <tr>\n",
       "      <th>2020-01-07 00:00:00-05:00</th>\n",
       "      <td>213.0500</td>\n",
       "      <td>1906.86</td>\n",
       "      <td>122.01</td>\n",
       "      <td>70.280</td>\n",
       "      <td>135.87</td>\n",
       "      <td>144.99</td>\n",
       "      <td>177.62</td>\n",
       "      <td>204.83</td>\n",
       "      <td>223.68</td>\n",
       "      <td>298.27</td>\n",
       "      <td>241.33</td>\n",
       "    </tr>\n",
       "    <tr>\n",
       "      <th>2020-01-08 00:00:00-05:00</th>\n",
       "      <td>215.3000</td>\n",
       "      <td>1892.09</td>\n",
       "      <td>122.52</td>\n",
       "      <td>69.235</td>\n",
       "      <td>136.97</td>\n",
       "      <td>144.92</td>\n",
       "      <td>177.75</td>\n",
       "      <td>207.36</td>\n",
       "      <td>225.56</td>\n",
       "      <td>303.15</td>\n",
       "      <td>241.17</td>\n",
       "    </tr>\n",
       "    <tr>\n",
       "      <th>...</th>\n",
       "      <td>...</td>\n",
       "      <td>...</td>\n",
       "      <td>...</td>\n",
       "      <td>...</td>\n",
       "      <td>...</td>\n",
       "      <td>...</td>\n",
       "      <td>...</td>\n",
       "      <td>...</td>\n",
       "      <td>...</td>\n",
       "      <td>...</td>\n",
       "      <td>...</td>\n",
       "    </tr>\n",
       "    <tr>\n",
       "      <th>2020-12-24 00:00:00-05:00</th>\n",
       "      <td>267.3200</td>\n",
       "      <td>3171.16</td>\n",
       "      <td>137.81</td>\n",
       "      <td>41.617</td>\n",
       "      <td>124.56</td>\n",
       "      <td>152.53</td>\n",
       "      <td>209.54</td>\n",
       "      <td>256.93</td>\n",
       "      <td>218.64</td>\n",
       "      <td>131.99</td>\n",
       "      <td>74.96</td>\n",
       "    </tr>\n",
       "    <tr>\n",
       "      <th>2020-12-28 00:00:00-05:00</th>\n",
       "      <td>277.0000</td>\n",
       "      <td>3283.96</td>\n",
       "      <td>138.72</td>\n",
       "      <td>41.730</td>\n",
       "      <td>125.37</td>\n",
       "      <td>153.24</td>\n",
       "      <td>209.88</td>\n",
       "      <td>260.01</td>\n",
       "      <td>221.04</td>\n",
       "      <td>136.73</td>\n",
       "      <td>75.50</td>\n",
       "    </tr>\n",
       "    <tr>\n",
       "      <th>2020-12-29 00:00:00-05:00</th>\n",
       "      <td>276.7800</td>\n",
       "      <td>3320.71</td>\n",
       "      <td>138.45</td>\n",
       "      <td>41.270</td>\n",
       "      <td>125.02</td>\n",
       "      <td>154.24</td>\n",
       "      <td>209.13</td>\n",
       "      <td>259.34</td>\n",
       "      <td>220.48</td>\n",
       "      <td>134.93</td>\n",
       "      <td>75.36</td>\n",
       "    </tr>\n",
       "    <tr>\n",
       "      <th>2020-12-30 00:00:00-05:00</th>\n",
       "      <td>271.8800</td>\n",
       "      <td>3285.85</td>\n",
       "      <td>137.80</td>\n",
       "      <td>41.605</td>\n",
       "      <td>125.41</td>\n",
       "      <td>156.11</td>\n",
       "      <td>211.10</td>\n",
       "      <td>261.78</td>\n",
       "      <td>220.52</td>\n",
       "      <td>133.72</td>\n",
       "      <td>75.91</td>\n",
       "    </tr>\n",
       "    <tr>\n",
       "      <th>2020-12-31 00:00:00-05:00</th>\n",
       "      <td>273.2000</td>\n",
       "      <td>3256.41</td>\n",
       "      <td>139.00</td>\n",
       "      <td>41.200</td>\n",
       "      <td>126.97</td>\n",
       "      <td>157.23</td>\n",
       "      <td>212.65</td>\n",
       "      <td>263.38</td>\n",
       "      <td>224.30</td>\n",
       "      <td>132.58</td>\n",
       "      <td>77.07</td>\n",
       "    </tr>\n",
       "  </tbody>\n",
       "</table>\n",
       "<p>253 rows × 11 columns</p>\n",
       "</div>"
      ],
      "text/plain": [
       "                                 FB     AMZN      PG     XOM     JPM     JNJ  \\\n",
       "time                                                                           \n",
       "2020-01-02 00:00:00-05:00  209.7800  1897.71  123.41  70.900  141.09  146.00   \n",
       "2020-01-03 00:00:00-05:00  208.5100  1874.93  122.53  70.320  138.28  144.22   \n",
       "2020-01-06 00:00:00-05:00  212.5855  1903.33  122.75  70.870  138.21  144.11   \n",
       "2020-01-07 00:00:00-05:00  213.0500  1906.86  122.01  70.280  135.87  144.99   \n",
       "2020-01-08 00:00:00-05:00  215.3000  1892.09  122.52  69.235  136.97  144.92   \n",
       "...                             ...      ...     ...     ...     ...     ...   \n",
       "2020-12-24 00:00:00-05:00  267.3200  3171.16  137.81  41.617  124.56  152.53   \n",
       "2020-12-28 00:00:00-05:00  277.0000  3283.96  138.72  41.730  125.37  153.24   \n",
       "2020-12-29 00:00:00-05:00  276.7800  3320.71  138.45  41.270  125.02  154.24   \n",
       "2020-12-30 00:00:00-05:00  271.8800  3285.85  137.80  41.605  125.41  156.11   \n",
       "2020-12-31 00:00:00-05:00  273.2000  3256.41  139.00  41.200  126.97  157.23   \n",
       "\n",
       "                              HON     LIN     AMT    AAPL     NEE  \n",
       "time                                                               \n",
       "2020-01-02 00:00:00-05:00  180.76  210.75  228.50  300.58  238.61  \n",
       "2020-01-03 00:00:00-05:00  178.86  205.26  228.63  297.38  240.21  \n",
       "2020-01-06 00:00:00-05:00  177.50  204.37  228.51  299.78  241.51  \n",
       "2020-01-07 00:00:00-05:00  177.62  204.83  223.68  298.27  241.33  \n",
       "2020-01-08 00:00:00-05:00  177.75  207.36  225.56  303.15  241.17  \n",
       "...                           ...     ...     ...     ...     ...  \n",
       "2020-12-24 00:00:00-05:00  209.54  256.93  218.64  131.99   74.96  \n",
       "2020-12-28 00:00:00-05:00  209.88  260.01  221.04  136.73   75.50  \n",
       "2020-12-29 00:00:00-05:00  209.13  259.34  220.48  134.93   75.36  \n",
       "2020-12-30 00:00:00-05:00  211.10  261.78  220.52  133.72   75.91  \n",
       "2020-12-31 00:00:00-05:00  212.65  263.38  224.30  132.58   77.07  \n",
       "\n",
       "[253 rows x 11 columns]"
      ]
     },
     "metadata": {},
     "execution_count": 10
    }
   ],
   "metadata": {}
  },
  {
   "cell_type": "markdown",
   "source": [
    "### Calculate the Daily Returns Per Stock in our Stock Portfolio"
   ],
   "metadata": {}
  },
  {
   "cell_type": "code",
   "execution_count": 11,
   "source": [
    "# Calculate the daily returns for every stock in the Stock Portfolio\r\n",
    "per_stock_daily_returns = stock_closing_prices_df.pct_change().dropna()\r\n",
    "per_stock_daily_returns"
   ],
   "outputs": [
    {
     "output_type": "execute_result",
     "data": {
      "text/html": [
       "<div>\n",
       "<style scoped>\n",
       "    .dataframe tbody tr th:only-of-type {\n",
       "        vertical-align: middle;\n",
       "    }\n",
       "\n",
       "    .dataframe tbody tr th {\n",
       "        vertical-align: top;\n",
       "    }\n",
       "\n",
       "    .dataframe thead th {\n",
       "        text-align: right;\n",
       "    }\n",
       "</style>\n",
       "<table border=\"1\" class=\"dataframe\">\n",
       "  <thead>\n",
       "    <tr style=\"text-align: right;\">\n",
       "      <th></th>\n",
       "      <th>FB</th>\n",
       "      <th>AMZN</th>\n",
       "      <th>PG</th>\n",
       "      <th>XOM</th>\n",
       "      <th>JPM</th>\n",
       "      <th>JNJ</th>\n",
       "      <th>HON</th>\n",
       "      <th>LIN</th>\n",
       "      <th>AMT</th>\n",
       "      <th>AAPL</th>\n",
       "      <th>NEE</th>\n",
       "    </tr>\n",
       "    <tr>\n",
       "      <th>time</th>\n",
       "      <th></th>\n",
       "      <th></th>\n",
       "      <th></th>\n",
       "      <th></th>\n",
       "      <th></th>\n",
       "      <th></th>\n",
       "      <th></th>\n",
       "      <th></th>\n",
       "      <th></th>\n",
       "      <th></th>\n",
       "      <th></th>\n",
       "    </tr>\n",
       "  </thead>\n",
       "  <tbody>\n",
       "    <tr>\n",
       "      <th>2020-01-03 00:00:00-05:00</th>\n",
       "      <td>-0.006054</td>\n",
       "      <td>-0.012004</td>\n",
       "      <td>-0.007131</td>\n",
       "      <td>-0.008181</td>\n",
       "      <td>-0.019916</td>\n",
       "      <td>-0.012192</td>\n",
       "      <td>-0.010511</td>\n",
       "      <td>-0.026050</td>\n",
       "      <td>0.000569</td>\n",
       "      <td>-0.010646</td>\n",
       "      <td>0.006706</td>\n",
       "    </tr>\n",
       "    <tr>\n",
       "      <th>2020-01-06 00:00:00-05:00</th>\n",
       "      <td>0.019546</td>\n",
       "      <td>0.015147</td>\n",
       "      <td>0.001795</td>\n",
       "      <td>0.007821</td>\n",
       "      <td>-0.000506</td>\n",
       "      <td>-0.000763</td>\n",
       "      <td>-0.007604</td>\n",
       "      <td>-0.004336</td>\n",
       "      <td>-0.000525</td>\n",
       "      <td>0.008070</td>\n",
       "      <td>0.005412</td>\n",
       "    </tr>\n",
       "    <tr>\n",
       "      <th>2020-01-07 00:00:00-05:00</th>\n",
       "      <td>0.002185</td>\n",
       "      <td>0.001855</td>\n",
       "      <td>-0.006029</td>\n",
       "      <td>-0.008325</td>\n",
       "      <td>-0.016931</td>\n",
       "      <td>0.006106</td>\n",
       "      <td>0.000676</td>\n",
       "      <td>0.002251</td>\n",
       "      <td>-0.021137</td>\n",
       "      <td>-0.005037</td>\n",
       "      <td>-0.000745</td>\n",
       "    </tr>\n",
       "    <tr>\n",
       "      <th>2020-01-08 00:00:00-05:00</th>\n",
       "      <td>0.010561</td>\n",
       "      <td>-0.007746</td>\n",
       "      <td>0.004180</td>\n",
       "      <td>-0.014869</td>\n",
       "      <td>0.008096</td>\n",
       "      <td>-0.000483</td>\n",
       "      <td>0.000732</td>\n",
       "      <td>0.012352</td>\n",
       "      <td>0.008405</td>\n",
       "      <td>0.016361</td>\n",
       "      <td>-0.000663</td>\n",
       "    </tr>\n",
       "    <tr>\n",
       "      <th>2020-01-09 00:00:00-05:00</th>\n",
       "      <td>0.013980</td>\n",
       "      <td>0.004709</td>\n",
       "      <td>0.010855</td>\n",
       "      <td>0.007727</td>\n",
       "      <td>0.003431</td>\n",
       "      <td>0.003243</td>\n",
       "      <td>0.007370</td>\n",
       "      <td>0.007378</td>\n",
       "      <td>0.003946</td>\n",
       "      <td>0.021639</td>\n",
       "      <td>0.007712</td>\n",
       "    </tr>\n",
       "    <tr>\n",
       "      <th>...</th>\n",
       "      <td>...</td>\n",
       "      <td>...</td>\n",
       "      <td>...</td>\n",
       "      <td>...</td>\n",
       "      <td>...</td>\n",
       "      <td>...</td>\n",
       "      <td>...</td>\n",
       "      <td>...</td>\n",
       "      <td>...</td>\n",
       "      <td>...</td>\n",
       "      <td>...</td>\n",
       "    </tr>\n",
       "    <tr>\n",
       "      <th>2020-12-24 00:00:00-05:00</th>\n",
       "      <td>-0.002723</td>\n",
       "      <td>-0.004886</td>\n",
       "      <td>0.010708</td>\n",
       "      <td>-0.003663</td>\n",
       "      <td>-0.004236</td>\n",
       "      <td>0.003883</td>\n",
       "      <td>-0.001668</td>\n",
       "      <td>0.007213</td>\n",
       "      <td>0.004918</td>\n",
       "      <td>0.007865</td>\n",
       "      <td>0.008476</td>\n",
       "    </tr>\n",
       "    <tr>\n",
       "      <th>2020-12-28 00:00:00-05:00</th>\n",
       "      <td>0.036211</td>\n",
       "      <td>0.035571</td>\n",
       "      <td>0.006603</td>\n",
       "      <td>0.002715</td>\n",
       "      <td>0.006503</td>\n",
       "      <td>0.004655</td>\n",
       "      <td>0.001623</td>\n",
       "      <td>0.011988</td>\n",
       "      <td>0.010977</td>\n",
       "      <td>0.035912</td>\n",
       "      <td>0.007204</td>\n",
       "    </tr>\n",
       "    <tr>\n",
       "      <th>2020-12-29 00:00:00-05:00</th>\n",
       "      <td>-0.000794</td>\n",
       "      <td>0.011191</td>\n",
       "      <td>-0.001946</td>\n",
       "      <td>-0.011023</td>\n",
       "      <td>-0.002792</td>\n",
       "      <td>0.006526</td>\n",
       "      <td>-0.003573</td>\n",
       "      <td>-0.002577</td>\n",
       "      <td>-0.002533</td>\n",
       "      <td>-0.013165</td>\n",
       "      <td>-0.001854</td>\n",
       "    </tr>\n",
       "    <tr>\n",
       "      <th>2020-12-30 00:00:00-05:00</th>\n",
       "      <td>-0.017704</td>\n",
       "      <td>-0.010498</td>\n",
       "      <td>-0.004695</td>\n",
       "      <td>0.008117</td>\n",
       "      <td>0.003120</td>\n",
       "      <td>0.012124</td>\n",
       "      <td>0.009420</td>\n",
       "      <td>0.009408</td>\n",
       "      <td>0.000181</td>\n",
       "      <td>-0.008968</td>\n",
       "      <td>0.007298</td>\n",
       "    </tr>\n",
       "    <tr>\n",
       "      <th>2020-12-31 00:00:00-05:00</th>\n",
       "      <td>0.004855</td>\n",
       "      <td>-0.008960</td>\n",
       "      <td>0.008708</td>\n",
       "      <td>-0.009734</td>\n",
       "      <td>0.012439</td>\n",
       "      <td>0.007174</td>\n",
       "      <td>0.007342</td>\n",
       "      <td>0.006112</td>\n",
       "      <td>0.017141</td>\n",
       "      <td>-0.008525</td>\n",
       "      <td>0.015281</td>\n",
       "    </tr>\n",
       "  </tbody>\n",
       "</table>\n",
       "<p>252 rows × 11 columns</p>\n",
       "</div>"
      ],
      "text/plain": [
       "                                 FB      AMZN        PG       XOM       JPM  \\\n",
       "time                                                                          \n",
       "2020-01-03 00:00:00-05:00 -0.006054 -0.012004 -0.007131 -0.008181 -0.019916   \n",
       "2020-01-06 00:00:00-05:00  0.019546  0.015147  0.001795  0.007821 -0.000506   \n",
       "2020-01-07 00:00:00-05:00  0.002185  0.001855 -0.006029 -0.008325 -0.016931   \n",
       "2020-01-08 00:00:00-05:00  0.010561 -0.007746  0.004180 -0.014869  0.008096   \n",
       "2020-01-09 00:00:00-05:00  0.013980  0.004709  0.010855  0.007727  0.003431   \n",
       "...                             ...       ...       ...       ...       ...   \n",
       "2020-12-24 00:00:00-05:00 -0.002723 -0.004886  0.010708 -0.003663 -0.004236   \n",
       "2020-12-28 00:00:00-05:00  0.036211  0.035571  0.006603  0.002715  0.006503   \n",
       "2020-12-29 00:00:00-05:00 -0.000794  0.011191 -0.001946 -0.011023 -0.002792   \n",
       "2020-12-30 00:00:00-05:00 -0.017704 -0.010498 -0.004695  0.008117  0.003120   \n",
       "2020-12-31 00:00:00-05:00  0.004855 -0.008960  0.008708 -0.009734  0.012439   \n",
       "\n",
       "                                JNJ       HON       LIN       AMT      AAPL  \\\n",
       "time                                                                          \n",
       "2020-01-03 00:00:00-05:00 -0.012192 -0.010511 -0.026050  0.000569 -0.010646   \n",
       "2020-01-06 00:00:00-05:00 -0.000763 -0.007604 -0.004336 -0.000525  0.008070   \n",
       "2020-01-07 00:00:00-05:00  0.006106  0.000676  0.002251 -0.021137 -0.005037   \n",
       "2020-01-08 00:00:00-05:00 -0.000483  0.000732  0.012352  0.008405  0.016361   \n",
       "2020-01-09 00:00:00-05:00  0.003243  0.007370  0.007378  0.003946  0.021639   \n",
       "...                             ...       ...       ...       ...       ...   \n",
       "2020-12-24 00:00:00-05:00  0.003883 -0.001668  0.007213  0.004918  0.007865   \n",
       "2020-12-28 00:00:00-05:00  0.004655  0.001623  0.011988  0.010977  0.035912   \n",
       "2020-12-29 00:00:00-05:00  0.006526 -0.003573 -0.002577 -0.002533 -0.013165   \n",
       "2020-12-30 00:00:00-05:00  0.012124  0.009420  0.009408  0.000181 -0.008968   \n",
       "2020-12-31 00:00:00-05:00  0.007174  0.007342  0.006112  0.017141 -0.008525   \n",
       "\n",
       "                                NEE  \n",
       "time                                 \n",
       "2020-01-03 00:00:00-05:00  0.006706  \n",
       "2020-01-06 00:00:00-05:00  0.005412  \n",
       "2020-01-07 00:00:00-05:00 -0.000745  \n",
       "2020-01-08 00:00:00-05:00 -0.000663  \n",
       "2020-01-09 00:00:00-05:00  0.007712  \n",
       "...                             ...  \n",
       "2020-12-24 00:00:00-05:00  0.008476  \n",
       "2020-12-28 00:00:00-05:00  0.007204  \n",
       "2020-12-29 00:00:00-05:00 -0.001854  \n",
       "2020-12-30 00:00:00-05:00  0.007298  \n",
       "2020-12-31 00:00:00-05:00  0.015281  \n",
       "\n",
       "[252 rows x 11 columns]"
      ]
     },
     "metadata": {},
     "execution_count": 11
    }
   ],
   "metadata": {}
  },
  {
   "cell_type": "markdown",
   "source": [
    "### Calculate Aggregate Daily Returns for Portfolio"
   ],
   "metadata": {}
  },
  {
   "cell_type": "code",
   "execution_count": 12,
   "source": [
    "# Calculate the daily returns for of the Stock Portfolio\r\n",
    "stock_daily_returns_df = stock_closing_prices_df.sum(axis=1).pct_change().dropna()\r\n",
    "stock_daily_returns_df"
   ],
   "outputs": [
    {
     "output_type": "execute_result",
     "data": {
      "text/plain": [
       "time\n",
       "2020-01-03 00:00:00-05:00   -0.010395\n",
       "2020-01-06 00:00:00-05:00    0.009273\n",
       "2020-01-07 00:00:00-05:00   -0.001265\n",
       "2020-01-08 00:00:00-05:00   -0.000740\n",
       "2020-01-09 00:00:00-05:00    0.007193\n",
       "                               ...   \n",
       "2020-12-24 00:00:00-05:00   -0.002233\n",
       "2020-12-28 00:00:00-05:00    0.028436\n",
       "2020-12-29 00:00:00-05:00    0.006608\n",
       "2020-12-30 00:00:00-05:00   -0.006866\n",
       "2020-12-31 00:00:00-05:00   -0.003595\n",
       "Length: 252, dtype: float64"
      ]
     },
     "metadata": {},
     "execution_count": 12
    }
   ],
   "metadata": {}
  },
  {
   "cell_type": "markdown",
   "source": [
    "### Plot the Aggregated Daily Returns"
   ],
   "metadata": {}
  },
  {
   "cell_type": "code",
   "execution_count": 13,
   "source": [
    "# Plot daily returns for the stocks portfolio\r\n",
    "stock_daily_returns_df.plot(figsize=(15,10), title=\"Daily Returns - Stocks Portfolio (Jan. 2018 - Nov. 2021)\")"
   ],
   "outputs": [
    {
     "output_type": "execute_result",
     "data": {
      "text/plain": [
       "<AxesSubplot:title={'center':'Daily Returns - Stocks Portfolio (Jan. 2018 - Nov. 2021)'}, xlabel='time'>"
      ]
     },
     "metadata": {},
     "execution_count": 13
    },
    {
     "output_type": "display_data",
     "data": {
      "image/png": "[encoded data removed]",
      "text/plain": [
       "<Figure size 1080x720 with 1 Axes>"
      ]
     },
     "metadata": {
      "needs_background": "light"
     }
    }
   ],
   "metadata": {}
  },
  {
   "cell_type": "markdown",
   "source": [
    "## Calculate the Cumulative Returns of the Portfolio"
   ],
   "metadata": {}
  },
  {
   "cell_type": "code",
   "execution_count": 14,
   "source": [
    "stock_cumulative_returns_df = (1 + stock_daily_returns_df).cumprod() - 1\r\n",
    "stock_cumulative_returns_df"
   ],
   "outputs": [
    {
     "output_type": "execute_result",
     "data": {
      "text/plain": [
       "time\n",
       "2020-01-03 00:00:00-05:00   -0.010395\n",
       "2020-01-06 00:00:00-05:00   -0.001218\n",
       "2020-01-07 00:00:00-05:00   -0.002481\n",
       "2020-01-08 00:00:00-05:00   -0.003219\n",
       "2020-01-09 00:00:00-05:00    0.003951\n",
       "                               ...   \n",
       "2020-12-24 00:00:00-05:00    0.277199\n",
       "2020-12-28 00:00:00-05:00    0.313517\n",
       "2020-12-29 00:00:00-05:00    0.322196\n",
       "2020-12-30 00:00:00-05:00    0.313118\n",
       "2020-12-31 00:00:00-05:00    0.308397\n",
       "Length: 252, dtype: float64"
      ]
     },
     "metadata": {},
     "execution_count": 14
    }
   ],
   "metadata": {}
  },
  {
   "cell_type": "markdown",
   "source": [
    "### Plot Cumulative Returns for Portfolio"
   ],
   "metadata": {}
  },
  {
   "cell_type": "code",
   "execution_count": 15,
   "source": [
    "# Plot Cumulative Returns for Stock Portfolio\r\n",
    "stock_cumulative_returns_df.plot(figsize=(15,10), title=\"Cumulative Returns - Stocks Portfolio (Jan. 2018 - Jan. 2021)\")"
   ],
   "outputs": [
    {
     "output_type": "execute_result",
     "data": {
      "text/plain": [
       "<AxesSubplot:title={'center':'Cumulative Returns - Stocks Portfolio (Jan. 2018 - Jan. 2021)'}, xlabel='time'>"
      ]
     },
     "metadata": {},
     "execution_count": 15
    },
    {
     "output_type": "display_data",
     "data": {
      "image/png": "[encoded data removed]",
      "text/plain": [
       "<Figure size 1080x720 with 1 Axes>"
      ]
     },
     "metadata": {
      "needs_background": "light"
     }
    }
   ],
   "metadata": {}
  },
  {
   "cell_type": "markdown",
   "source": [
    "## Set Up and Run Monte Carlo Simulation for 10 Years"
   ],
   "metadata": {}
  },
  {
   "cell_type": "code",
   "execution_count": null,
   "source": [
    "# Set up Monte Carlo Simulation for a 10 year time period with a $10,000 initial investment\r\n",
    "MC_stock_ten_year = MCSimulation(\r\n",
    "  portfolio_data=stock_prices_df,\r\n",
    "  num_simulation=1000,\r\n",
    "  num_trading_days=252 * 10\r\n",
    ")\r\n",
    "\r\n",
    "MC_stock_ten_year.portfolio_data.head()"
   ],
   "outputs": [],
   "metadata": {}
  },
  {
   "cell_type": "markdown",
   "source": [
    "### Run the MC Simulation for 10 Years"
   ],
   "metadata": {}
  },
  {
   "cell_type": "code",
   "execution_count": null,
   "source": [
    "# Run the Monte Carlo simulation to forecast 10 years cumulative returns\r\n",
    "MC_stock_ten_year.calc_cumulative_return()"
   ],
   "outputs": [],
   "metadata": {}
  },
  {
   "cell_type": "markdown",
   "source": [
    "### Plot the MC 10 Year Simulation Visualization"
   ],
   "metadata": {}
  },
  {
   "cell_type": "code",
   "execution_count": null,
   "source": [
    "# Visualize the 10-year Monte Carlo simulation by creating an\r\n",
    "# overlay line plot\r\n",
    "MC_stock_ten_year.plot_simulation()"
   ],
   "outputs": [],
   "metadata": {}
  },
  {
   "cell_type": "markdown",
   "source": [
    "### Plot the MC 10 Year Simulation Distribution Visualization"
   ],
   "metadata": {}
  },
  {
   "cell_type": "code",
   "execution_count": null,
   "source": [
    "# Visualize the probability distribution of the 10-year Monte Carlo simulation \r\n",
    "# by plotting a histogram\r\n",
    "MC_stock_ten_year.plot_distribution()"
   ],
   "outputs": [],
   "metadata": {}
  },
  {
   "cell_type": "markdown",
   "source": [
    "### Generate MC 10 Year Simulation Summary Statistics"
   ],
   "metadata": {}
  },
  {
   "cell_type": "code",
   "execution_count": null,
   "source": [
    "# Generate summary statistics from the 10-year Monte Carlo simulation results\r\n",
    "# Save the results as a variable\r\n",
    "MC_stock_ten_year_summary_statistics = MC_stock_ten_year.summarize_cumulative_return()\r\n",
    "\r\n",
    "# Review the 30-year Monte Carlo summary statistics\r\n",
    "print(MC_stock_ten_year_summary_statistics)"
   ],
   "outputs": [],
   "metadata": {}
  },
  {
   "cell_type": "markdown",
   "source": [
    "### Calculate the Confidence Intervals to the 95% for the 10 year Simulation on a $10,000 initial investment"
   ],
   "metadata": {}
  },
  {
   "cell_type": "code",
   "execution_count": null,
   "source": [
    "# Calculate the 10-year confidence interval lower and upper projections for a $10,000 initial investment\r\n",
    "stock_ten_year_lower_ci = round(MC_stock_ten_year_summary_statistics[8]*10000, 2)\r\n",
    "stock_ten_year_upper_ci = round(MC_stock_ten_year_summary_statistics[9]*10000, 2)\r\n",
    "\r\n",
    "print(f\"With a 95% confidence interval, an initial investment of $10,000 in our Stocks Portfolio for 5 years, will be in the range of ${stock_ten_year_lower_ci} and ${stock_ten_year_upper_ci}\")"
   ],
   "outputs": [],
   "metadata": {}
  },
  {
   "cell_type": "markdown",
   "source": [
    "## Set Up and Run Monte Carlo Simulation for 30 Years"
   ],
   "metadata": {}
  },
  {
   "cell_type": "code",
   "execution_count": null,
   "source": [
    "# Set up Monte Carlo Simulation for a 30 year time period with a $10,000 initial investment\r\n",
    "MC_stock_thirty_year = MCSimulation(\r\n",
    "  portfolio_data=stock_prices_df,\r\n",
    "  num_simulation=1000,\r\n",
    "  num_trading_days=252 * 30\r\n",
    ")\r\n",
    "\r\n",
    "MC_stock_thirty_year.portfolio_data.head()"
   ],
   "outputs": [],
   "metadata": {}
  },
  {
   "cell_type": "markdown",
   "source": [
    "### Run the MC Simulation for 30 Years"
   ],
   "metadata": {}
  },
  {
   "cell_type": "code",
   "execution_count": null,
   "source": [
    "# Run the Monte Carlo simulation to forecast 10 years cumulative returns\r\n",
    "MC_stock_thirty_year.calc_cumulative_return()"
   ],
   "outputs": [],
   "metadata": {}
  },
  {
   "cell_type": "markdown",
   "source": [
    "### Plot the MC 30 Year Simulation Visualization"
   ],
   "metadata": {}
  },
  {
   "cell_type": "code",
   "execution_count": null,
   "source": [
    "# Visualize the 30-year Monte Carlo simulation by creating an\r\n",
    "# overlay line plot\r\n",
    "MC_stock_thirty_year.plot_simulation()"
   ],
   "outputs": [],
   "metadata": {}
  },
  {
   "cell_type": "markdown",
   "source": [
    "### Plot the MC 30 Year Simulation Distribution Visualization"
   ],
   "metadata": {}
  },
  {
   "cell_type": "code",
   "execution_count": null,
   "source": [
    "# Visualize the probability distribution of the 30-year Monte Carlo simulation \r\n",
    "# by plotting a histogram\r\n",
    "MC_stock_thirty_year.plot_distribution()"
   ],
   "outputs": [],
   "metadata": {}
  },
  {
   "cell_type": "markdown",
   "source": [
    "### Generate MC 30 Year Simulation Summary Statistics"
   ],
   "metadata": {}
  },
  {
   "cell_type": "code",
   "execution_count": null,
   "source": [
    "# Generate summary statistics from the 30-year Monte Carlo simulation results\r\n",
    "# Save the results as a variable\r\n",
    "MC_stock_thirty_year_summary_statistics = MC_stock_thirty_year.summarize_cumulative_return()\r\n",
    "\r\n",
    "# Review the 30-year Monte Carlo summary statistics\r\n",
    "print(MC_stock_thirty_year_summary_statistics)"
   ],
   "outputs": [],
   "metadata": {}
  },
  {
   "cell_type": "markdown",
   "source": [
    "### Calculate the Confidence Intervals to the 95% for the 30 year Simulation on a $10,000 initial investment"
   ],
   "metadata": {}
  },
  {
   "cell_type": "code",
   "execution_count": null,
   "source": [
    "# Calculate the 10-year confidence interval lower and upper projections for a $10,000 initial investment\r\n",
    "stock_thirty_year_lower_ci = round(MC_stock_thirty_year_summary_statistics[8]*10000, 2)\r\n",
    "stock_thirty_year_upper_ci = round(MC_stock_thirty_year_summary_statistics[9]*10000, 2)\r\n",
    "\r\n",
    "print(f\"With a 95% confidence interval, an initial investment of $10,000 in our Stocks Portfolio for 5 years, will be in the range of ${stock_thirty_year_lower_ci} and ${stock_thirty_year_upper_ci}\")"
   ],
   "outputs": [],
   "metadata": {}
  },
  {
   "cell_type": "markdown",
   "source": [
    "## Calculate the Standard Deviation & Annualized Standard Deviation for Our Stock Portfolio"
   ],
   "metadata": {}
  },
  {
   "cell_type": "code",
   "execution_count": null,
   "source": [
    "# Calculate Standard Deviation for our Stock Portfolio\r\n",
    "stock_standard_deviation = per_stock_daily_returns.std()\r\n",
    "stock_standard_deviation = stock_standard_deviation.sort_values()\r\n",
    "stock_standard_deviation"
   ],
   "outputs": [],
   "metadata": {}
  },
  {
   "cell_type": "markdown",
   "source": [
    "### Calculate Annualized Standard Deviation"
   ],
   "metadata": {}
  },
  {
   "cell_type": "code",
   "execution_count": null,
   "source": [
    "# Calculate Annualized Standard Deviation for our Stock Portfolio\r\n",
    "stock_annualized_standard_deviation = stock_standard_deviation * np.sqrt(252)\r\n",
    "stock_annualized_standard_deviation = stock_annualized_standard_deviation.sort_values()\r\n",
    "stock_annualized_standard_deviation"
   ],
   "outputs": [],
   "metadata": {}
  },
  {
   "cell_type": "markdown",
   "source": [
    "## Calculate the Sharpe Ratio for our Stock Portfolio"
   ],
   "metadata": {}
  },
  {
   "cell_type": "markdown",
   "source": [
    "### Calculate the Annualized Returns"
   ],
   "metadata": {}
  },
  {
   "cell_type": "code",
   "execution_count": null,
   "source": [
    "# Calculate the Annualized Returns for our Stock Portfolio \r\n",
    "stock_annualized_returns = per_stock_daily_returns.mean() * 252\r\n",
    "stock_annualized_returns = stock_annualized_returns.sort_values()\r\n",
    "stock_annualized_returns"
   ],
   "outputs": [],
   "metadata": {}
  },
  {
   "cell_type": "markdown",
   "source": [
    "### Calculate the Sharpe Ratio"
   ],
   "metadata": {}
  },
  {
   "cell_type": "code",
   "execution_count": null,
   "source": [
    "# Calculate the Sharpe Ratio for Our Stock Portfolio\r\n",
    "stock_portfolio_sharpe_ratio = stock_annualized_returns / stock_annualized_standard_deviation\r\n",
    "stock_portfolio_sharpe_ratio = stock_portfolio_sharpe_ratio.sort_values()\r\n",
    "stock_portfolio_sharpe_ratio"
   ],
   "outputs": [],
   "metadata": {}
  },
  {
   "cell_type": "markdown",
   "source": [
    "### Calculate the Overall Sharpe Ratio for our Stock Portfolio"
   ],
   "metadata": {}
  },
  {
   "cell_type": "code",
   "execution_count": null,
   "source": [
    "# Calculate the Average Sharpe Ratio for our Stock Portfolio\r\n",
    "stock_portfolio_average_sharpe_ratio = stock_portfolio_sharpe_ratio.mean()\r\n",
    "print(f\"{stock_portfolio_average_sharpe_ratio: .3f}\")"
   ],
   "outputs": [],
   "metadata": {}
  }
 ],
 "metadata": {
  "orig_nbformat": 4,
  "language_info": {
   "name": "python",
   "version": "3.7.10",
   "mimetype": "text/x-python",
   "codemirror_mode": {
    "name": "ipython",
    "version": 3
   },
   "pygments_lexer": "ipython3",
   "nbconvert_exporter": "python",
   "file_extension": ".py"
  },
  "kernelspec": {
   "name": "python3",
   "display_name": "Python 3.7.10 64-bit ('dev': conda)"
  },
  "interpreter": {
   "hash": "ad9fb37fa15c2fac4885b853501abc8587965d08b8586f67468c92fe4e3567d7"
  }
 },
 "nbformat": 4,
 "nbformat_minor": 2
}