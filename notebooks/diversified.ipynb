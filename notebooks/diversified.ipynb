{
 "cells": [
  {
   "cell_type": "markdown",
   "source": [
    "# Diversified Portfolio Notebook"
   ],
   "metadata": {}
  },
  {
   "cell_type": "markdown",
   "source": [
    "## Set Up and Execute Alapaca SDK Request"
   ],
   "metadata": {}
  },
  {
   "cell_type": "markdown",
   "source": [
    "### Importing the Required Libraries"
   ],
   "metadata": {}
  },
  {
   "cell_type": "code",
   "execution_count": 1,
   "source": [
    "# Import Required Libraries\r\n",
    "\r\n",
    "import os\r\n",
    "import requests\r\n",
    "import pandas as pd\r\n",
    "from dotenv import load_dotenv\r\n",
    "import alpaca_trade_api as tradeapi\r\n",
    "from MCForecastTools import MCSimulation\r\n",
    "import numpy as np\r\n",
    "from pathlib import Path\r\n",
    "\r\n",
    "%matplotlib inline"
   ],
   "outputs": [],
   "metadata": {}
  },
  {
   "cell_type": "markdown",
   "source": [
    "### Loading the .env file"
   ],
   "metadata": {}
  },
  {
   "cell_type": "code",
   "execution_count": 2,
   "source": [
    "# Make sure dotenv is loaded\r\n",
    "load_dotenv()"
   ],
   "outputs": [
    {
     "output_type": "execute_result",
     "data": {
      "text/plain": [
       "True"
      ]
     },
     "metadata": {},
     "execution_count": 2
    }
   ],
   "metadata": {}
  },
  {
   "cell_type": "markdown",
   "source": [
    "### Alpaca API and Secret Key Variables"
   ],
   "metadata": {}
  },
  {
   "cell_type": "code",
   "execution_count": 3,
   "source": [
    "# Create Alpaca key variables to call from .env() file\r\n",
    "alpaca_api_key = os.getenv(\"ALPACA_API_KEY\")\r\n",
    "alpaca_secret_key = os.getenv(\"ALPACA_SECRET_KEY\")\r\n",
    "\r\n",
    "display(type(alpaca_api_key))\r\n",
    "display(type(alpaca_secret_key))"
   ],
   "outputs": [
    {
     "output_type": "display_data",
     "data": {
      "text/plain": [
       "str"
      ]
     },
     "metadata": {}
    },
    {
     "output_type": "display_data",
     "data": {
      "text/plain": [
       "str"
      ]
     },
     "metadata": {}
    }
   ],
   "metadata": {}
  },
  {
   "cell_type": "markdown",
   "source": [
    "### Create the ALpaca REST Object"
   ],
   "metadata": {}
  },
  {
   "cell_type": "code",
   "execution_count": 4,
   "source": [
    "# Create our Alpaca REST object\r\n",
    "alpaca = tradeapi.REST(\r\n",
    "  alpaca_api_key,\r\n",
    "  alpaca_secret_key,\r\n",
    "  api_version=\"v2\"\r\n",
    ")\r\n",
    "\r\n",
    "alpaca"
   ],
   "outputs": [
    {
     "output_type": "execute_result",
     "data": {
      "text/plain": [
       "<alpaca_trade_api.rest.REST at 0x2ac2146d348>"
      ]
     },
     "metadata": {},
     "execution_count": 4
    }
   ],
   "metadata": {}
  },
  {
   "cell_type": "markdown",
   "source": [
    "### Set the Start and End Dates"
   ],
   "metadata": {}
  },
  {
   "cell_type": "code",
   "execution_count": 5,
   "source": [
    "# Set the start and end dates for the information we want to pull from Alpaca\r\n",
    "start_date = pd.Timestamp(\"2018-01-01\", tz=\"America/New_York\").isoformat()\r\n",
    "end_date = pd.Timestamp(\"2021-11-05\", tz=\"America/New_York\").isoformat()"
   ],
   "outputs": [],
   "metadata": {}
  },
  {
   "cell_type": "markdown",
   "source": [
    "### Set the Tickers for Alpaca to Fetch"
   ],
   "metadata": {}
  },
  {
   "cell_type": "code",
   "execution_count": 6,
   "source": [
    "# Set the list of tickers we want the Alpaca request to fetch\r\n",
    "tickers = [\"VOO\", \"MSFT\", \"AAPL\", \"BND\", \"AMT\", \"VUG\", \"TSLA\", \"AMZN\", \"EDV\", \"PLD\"]"
   ],
   "outputs": [],
   "metadata": {}
  },
  {
   "cell_type": "markdown",
   "source": [
    "### Set the Timeframe for the Alpaca Request"
   ],
   "metadata": {}
  },
  {
   "cell_type": "code",
   "execution_count": 7,
   "source": [
    "# Set the timeframe of collection. We just need the a daily price point\r\n",
    "timeframe = \"1D\""
   ],
   "outputs": [],
   "metadata": {}
  },
  {
   "cell_type": "markdown",
   "source": [
    "### Create the Request for Alpaca Using get_barset()"
   ],
   "metadata": {}
  },
  {
   "cell_type": "code",
   "execution_count": 8,
   "source": [
    "# Create the request of the data to fetch via the Alpaca SDK\r\n",
    "diversified_prices_df = alpaca.get_barset(\r\n",
    "  tickers,\r\n",
    "  timeframe,\r\n",
    "  limit=1000,\r\n",
    "  start=start_date,\r\n",
    "  end=end_date\r\n",
    ").df\r\n",
    "\r\n",
    "diversified_prices_df"
   ],
   "outputs": [
    {
     "output_type": "execute_result",
     "data": {
      "text/html": [
       "<div>\n",
       "<style scoped>\n",
       "    .dataframe tbody tr th:only-of-type {\n",
       "        vertical-align: middle;\n",
       "    }\n",
       "\n",
       "    .dataframe tbody tr th {\n",
       "        vertical-align: top;\n",
       "    }\n",
       "\n",
       "    .dataframe thead tr th {\n",
       "        text-align: left;\n",
       "    }\n",
       "\n",
       "    .dataframe thead tr:last-of-type th {\n",
       "        text-align: right;\n",
       "    }\n",
       "</style>\n",
       "<table border=\"1\" class=\"dataframe\">\n",
       "  <thead>\n",
       "    <tr>\n",
       "      <th></th>\n",
       "      <th colspan=\"5\" halign=\"left\">AAPL</th>\n",
       "      <th colspan=\"5\" halign=\"left\">AMT</th>\n",
       "      <th>...</th>\n",
       "      <th colspan=\"5\" halign=\"left\">VOO</th>\n",
       "      <th colspan=\"5\" halign=\"left\">VUG</th>\n",
       "    </tr>\n",
       "    <tr>\n",
       "      <th></th>\n",
       "      <th>open</th>\n",
       "      <th>high</th>\n",
       "      <th>low</th>\n",
       "      <th>close</th>\n",
       "      <th>volume</th>\n",
       "      <th>open</th>\n",
       "      <th>high</th>\n",
       "      <th>low</th>\n",
       "      <th>close</th>\n",
       "      <th>volume</th>\n",
       "      <th>...</th>\n",
       "      <th>open</th>\n",
       "      <th>high</th>\n",
       "      <th>low</th>\n",
       "      <th>close</th>\n",
       "      <th>volume</th>\n",
       "      <th>open</th>\n",
       "      <th>high</th>\n",
       "      <th>low</th>\n",
       "      <th>close</th>\n",
       "      <th>volume</th>\n",
       "    </tr>\n",
       "    <tr>\n",
       "      <th>time</th>\n",
       "      <th></th>\n",
       "      <th></th>\n",
       "      <th></th>\n",
       "      <th></th>\n",
       "      <th></th>\n",
       "      <th></th>\n",
       "      <th></th>\n",
       "      <th></th>\n",
       "      <th></th>\n",
       "      <th></th>\n",
       "      <th></th>\n",
       "      <th></th>\n",
       "      <th></th>\n",
       "      <th></th>\n",
       "      <th></th>\n",
       "      <th></th>\n",
       "      <th></th>\n",
       "      <th></th>\n",
       "      <th></th>\n",
       "      <th></th>\n",
       "      <th></th>\n",
       "    </tr>\n",
       "  </thead>\n",
       "  <tbody>\n",
       "    <tr>\n",
       "      <th>2018-01-02 00:00:00-05:00</th>\n",
       "      <td>170.160</td>\n",
       "      <td>172.30</td>\n",
       "      <td>169.26</td>\n",
       "      <td>172.26</td>\n",
       "      <td>20523941</td>\n",
       "      <td>143.11</td>\n",
       "      <td>143.22</td>\n",
       "      <td>140.910</td>\n",
       "      <td>141.105</td>\n",
       "      <td>1391810.0</td>\n",
       "      <td>...</td>\n",
       "      <td>246.15</td>\n",
       "      <td>247.03</td>\n",
       "      <td>245.7361</td>\n",
       "      <td>247.0300</td>\n",
       "      <td>2235294</td>\n",
       "      <td>141.29</td>\n",
       "      <td>142.2700</td>\n",
       "      <td>141.0524</td>\n",
       "      <td>142.25</td>\n",
       "      <td>984355.0</td>\n",
       "    </tr>\n",
       "    <tr>\n",
       "      <th>2018-01-03 00:00:00-05:00</th>\n",
       "      <td>172.530</td>\n",
       "      <td>174.55</td>\n",
       "      <td>171.96</td>\n",
       "      <td>172.18</td>\n",
       "      <td>23193409</td>\n",
       "      <td>141.05</td>\n",
       "      <td>142.50</td>\n",
       "      <td>140.860</td>\n",
       "      <td>141.570</td>\n",
       "      <td>1210542.0</td>\n",
       "      <td>...</td>\n",
       "      <td>247.19</td>\n",
       "      <td>248.70</td>\n",
       "      <td>247.1800</td>\n",
       "      <td>248.5600</td>\n",
       "      <td>2354148</td>\n",
       "      <td>142.40</td>\n",
       "      <td>143.6600</td>\n",
       "      <td>142.4000</td>\n",
       "      <td>143.56</td>\n",
       "      <td>653690.0</td>\n",
       "    </tr>\n",
       "    <tr>\n",
       "      <th>2018-01-04 00:00:00-05:00</th>\n",
       "      <td>172.540</td>\n",
       "      <td>173.47</td>\n",
       "      <td>172.08</td>\n",
       "      <td>173.02</td>\n",
       "      <td>17742231</td>\n",
       "      <td>141.44</td>\n",
       "      <td>141.96</td>\n",
       "      <td>139.580</td>\n",
       "      <td>139.630</td>\n",
       "      <td>1037487.0</td>\n",
       "      <td>...</td>\n",
       "      <td>249.27</td>\n",
       "      <td>250.12</td>\n",
       "      <td>249.1700</td>\n",
       "      <td>249.6300</td>\n",
       "      <td>2314943</td>\n",
       "      <td>144.07</td>\n",
       "      <td>144.3000</td>\n",
       "      <td>143.8548</td>\n",
       "      <td>143.95</td>\n",
       "      <td>703928.0</td>\n",
       "    </tr>\n",
       "    <tr>\n",
       "      <th>2018-01-05 00:00:00-05:00</th>\n",
       "      <td>173.440</td>\n",
       "      <td>175.37</td>\n",
       "      <td>173.05</td>\n",
       "      <td>174.96</td>\n",
       "      <td>18402859</td>\n",
       "      <td>140.23</td>\n",
       "      <td>140.70</td>\n",
       "      <td>139.590</td>\n",
       "      <td>140.490</td>\n",
       "      <td>1363577.0</td>\n",
       "      <td>...</td>\n",
       "      <td>250.46</td>\n",
       "      <td>251.40</td>\n",
       "      <td>249.9500</td>\n",
       "      <td>251.2500</td>\n",
       "      <td>1752711</td>\n",
       "      <td>144.37</td>\n",
       "      <td>145.2400</td>\n",
       "      <td>144.2899</td>\n",
       "      <td>145.20</td>\n",
       "      <td>1061025.0</td>\n",
       "    </tr>\n",
       "    <tr>\n",
       "      <th>2018-01-08 00:00:00-05:00</th>\n",
       "      <td>174.310</td>\n",
       "      <td>175.61</td>\n",
       "      <td>173.93</td>\n",
       "      <td>174.34</td>\n",
       "      <td>15554212</td>\n",
       "      <td>140.66</td>\n",
       "      <td>143.24</td>\n",
       "      <td>140.660</td>\n",
       "      <td>142.030</td>\n",
       "      <td>1350838.0</td>\n",
       "      <td>...</td>\n",
       "      <td>251.16</td>\n",
       "      <td>251.88</td>\n",
       "      <td>250.8700</td>\n",
       "      <td>251.7200</td>\n",
       "      <td>1929560</td>\n",
       "      <td>145.12</td>\n",
       "      <td>145.7300</td>\n",
       "      <td>145.0800</td>\n",
       "      <td>145.62</td>\n",
       "      <td>683662.0</td>\n",
       "    </tr>\n",
       "    <tr>\n",
       "      <th>...</th>\n",
       "      <td>...</td>\n",
       "      <td>...</td>\n",
       "      <td>...</td>\n",
       "      <td>...</td>\n",
       "      <td>...</td>\n",
       "      <td>...</td>\n",
       "      <td>...</td>\n",
       "      <td>...</td>\n",
       "      <td>...</td>\n",
       "      <td>...</td>\n",
       "      <td>...</td>\n",
       "      <td>...</td>\n",
       "      <td>...</td>\n",
       "      <td>...</td>\n",
       "      <td>...</td>\n",
       "      <td>...</td>\n",
       "      <td>...</td>\n",
       "      <td>...</td>\n",
       "      <td>...</td>\n",
       "      <td>...</td>\n",
       "      <td>...</td>\n",
       "    </tr>\n",
       "    <tr>\n",
       "      <th>2021-11-01 00:00:00-04:00</th>\n",
       "      <td>148.985</td>\n",
       "      <td>149.70</td>\n",
       "      <td>147.80</td>\n",
       "      <td>148.99</td>\n",
       "      <td>57758481</td>\n",
       "      <td>282.83</td>\n",
       "      <td>283.16</td>\n",
       "      <td>276.410</td>\n",
       "      <td>282.120</td>\n",
       "      <td>1197575.0</td>\n",
       "      <td>...</td>\n",
       "      <td>423.19</td>\n",
       "      <td>423.57</td>\n",
       "      <td>421.2800</td>\n",
       "      <td>423.0100</td>\n",
       "      <td>3544932</td>\n",
       "      <td>314.71</td>\n",
       "      <td>314.8500</td>\n",
       "      <td>312.6800</td>\n",
       "      <td>314.37</td>\n",
       "      <td>577782.0</td>\n",
       "    </tr>\n",
       "    <tr>\n",
       "      <th>2021-11-02 00:00:00-04:00</th>\n",
       "      <td>148.670</td>\n",
       "      <td>151.57</td>\n",
       "      <td>148.65</td>\n",
       "      <td>150.00</td>\n",
       "      <td>61741508</td>\n",
       "      <td>282.81</td>\n",
       "      <td>285.29</td>\n",
       "      <td>279.510</td>\n",
       "      <td>282.650</td>\n",
       "      <td>1300858.0</td>\n",
       "      <td>...</td>\n",
       "      <td>423.15</td>\n",
       "      <td>424.96</td>\n",
       "      <td>423.0100</td>\n",
       "      <td>424.6500</td>\n",
       "      <td>2754466</td>\n",
       "      <td>314.16</td>\n",
       "      <td>315.6700</td>\n",
       "      <td>314.0100</td>\n",
       "      <td>315.25</td>\n",
       "      <td>640526.0</td>\n",
       "    </tr>\n",
       "    <tr>\n",
       "      <th>2021-11-03 00:00:00-04:00</th>\n",
       "      <td>150.370</td>\n",
       "      <td>151.97</td>\n",
       "      <td>149.82</td>\n",
       "      <td>151.49</td>\n",
       "      <td>44064848</td>\n",
       "      <td>283.72</td>\n",
       "      <td>285.42</td>\n",
       "      <td>276.465</td>\n",
       "      <td>280.660</td>\n",
       "      <td>901567.0</td>\n",
       "      <td>...</td>\n",
       "      <td>424.14</td>\n",
       "      <td>427.66</td>\n",
       "      <td>423.6900</td>\n",
       "      <td>427.2682</td>\n",
       "      <td>3416764</td>\n",
       "      <td>315.47</td>\n",
       "      <td>317.7600</td>\n",
       "      <td>314.0300</td>\n",
       "      <td>317.47</td>\n",
       "      <td>652138.0</td>\n",
       "    </tr>\n",
       "    <tr>\n",
       "      <th>2021-11-04 00:00:00-04:00</th>\n",
       "      <td>151.620</td>\n",
       "      <td>152.43</td>\n",
       "      <td>150.64</td>\n",
       "      <td>150.96</td>\n",
       "      <td>49782226</td>\n",
       "      <td>281.61</td>\n",
       "      <td>283.45</td>\n",
       "      <td>277.640</td>\n",
       "      <td>279.100</td>\n",
       "      <td>1204187.0</td>\n",
       "      <td>...</td>\n",
       "      <td>427.84</td>\n",
       "      <td>429.37</td>\n",
       "      <td>427.5400</td>\n",
       "      <td>429.2900</td>\n",
       "      <td>4125822</td>\n",
       "      <td>318.30</td>\n",
       "      <td>321.4004</td>\n",
       "      <td>317.8000</td>\n",
       "      <td>321.03</td>\n",
       "      <td>943904.0</td>\n",
       "    </tr>\n",
       "    <tr>\n",
       "      <th>2021-11-05 00:00:00-04:00</th>\n",
       "      <td>151.810</td>\n",
       "      <td>152.20</td>\n",
       "      <td>150.06</td>\n",
       "      <td>151.24</td>\n",
       "      <td>54619968</td>\n",
       "      <td>280.94</td>\n",
       "      <td>281.44</td>\n",
       "      <td>276.700</td>\n",
       "      <td>277.700</td>\n",
       "      <td>946849.0</td>\n",
       "      <td>...</td>\n",
       "      <td>431.53</td>\n",
       "      <td>432.76</td>\n",
       "      <td>429.3000</td>\n",
       "      <td>430.7400</td>\n",
       "      <td>4582963</td>\n",
       "      <td>322.38</td>\n",
       "      <td>323.2300</td>\n",
       "      <td>320.1400</td>\n",
       "      <td>321.39</td>\n",
       "      <td>723947.0</td>\n",
       "    </tr>\n",
       "  </tbody>\n",
       "</table>\n",
       "<p>970 rows × 50 columns</p>\n",
       "</div>"
      ],
      "text/plain": [
       "                              AAPL                                       AMT  \\\n",
       "                              open    high     low   close    volume    open   \n",
       "time                                                                           \n",
       "2018-01-02 00:00:00-05:00  170.160  172.30  169.26  172.26  20523941  143.11   \n",
       "2018-01-03 00:00:00-05:00  172.530  174.55  171.96  172.18  23193409  141.05   \n",
       "2018-01-04 00:00:00-05:00  172.540  173.47  172.08  173.02  17742231  141.44   \n",
       "2018-01-05 00:00:00-05:00  173.440  175.37  173.05  174.96  18402859  140.23   \n",
       "2018-01-08 00:00:00-05:00  174.310  175.61  173.93  174.34  15554212  140.66   \n",
       "...                            ...     ...     ...     ...       ...     ...   \n",
       "2021-11-01 00:00:00-04:00  148.985  149.70  147.80  148.99  57758481  282.83   \n",
       "2021-11-02 00:00:00-04:00  148.670  151.57  148.65  150.00  61741508  282.81   \n",
       "2021-11-03 00:00:00-04:00  150.370  151.97  149.82  151.49  44064848  283.72   \n",
       "2021-11-04 00:00:00-04:00  151.620  152.43  150.64  150.96  49782226  281.61   \n",
       "2021-11-05 00:00:00-04:00  151.810  152.20  150.06  151.24  54619968  280.94   \n",
       "\n",
       "                                                                ...     VOO  \\\n",
       "                             high      low    close     volume  ...    open   \n",
       "time                                                            ...           \n",
       "2018-01-02 00:00:00-05:00  143.22  140.910  141.105  1391810.0  ...  246.15   \n",
       "2018-01-03 00:00:00-05:00  142.50  140.860  141.570  1210542.0  ...  247.19   \n",
       "2018-01-04 00:00:00-05:00  141.96  139.580  139.630  1037487.0  ...  249.27   \n",
       "2018-01-05 00:00:00-05:00  140.70  139.590  140.490  1363577.0  ...  250.46   \n",
       "2018-01-08 00:00:00-05:00  143.24  140.660  142.030  1350838.0  ...  251.16   \n",
       "...                           ...      ...      ...        ...  ...     ...   \n",
       "2021-11-01 00:00:00-04:00  283.16  276.410  282.120  1197575.0  ...  423.19   \n",
       "2021-11-02 00:00:00-04:00  285.29  279.510  282.650  1300858.0  ...  423.15   \n",
       "2021-11-03 00:00:00-04:00  285.42  276.465  280.660   901567.0  ...  424.14   \n",
       "2021-11-04 00:00:00-04:00  283.45  277.640  279.100  1204187.0  ...  427.84   \n",
       "2021-11-05 00:00:00-04:00  281.44  276.700  277.700   946849.0  ...  431.53   \n",
       "\n",
       "                                                                   VUG  \\\n",
       "                             high       low     close   volume    open   \n",
       "time                                                                     \n",
       "2018-01-02 00:00:00-05:00  247.03  245.7361  247.0300  2235294  141.29   \n",
       "2018-01-03 00:00:00-05:00  248.70  247.1800  248.5600  2354148  142.40   \n",
       "2018-01-04 00:00:00-05:00  250.12  249.1700  249.6300  2314943  144.07   \n",
       "2018-01-05 00:00:00-05:00  251.40  249.9500  251.2500  1752711  144.37   \n",
       "2018-01-08 00:00:00-05:00  251.88  250.8700  251.7200  1929560  145.12   \n",
       "...                           ...       ...       ...      ...     ...   \n",
       "2021-11-01 00:00:00-04:00  423.57  421.2800  423.0100  3544932  314.71   \n",
       "2021-11-02 00:00:00-04:00  424.96  423.0100  424.6500  2754466  314.16   \n",
       "2021-11-03 00:00:00-04:00  427.66  423.6900  427.2682  3416764  315.47   \n",
       "2021-11-04 00:00:00-04:00  429.37  427.5400  429.2900  4125822  318.30   \n",
       "2021-11-05 00:00:00-04:00  432.76  429.3000  430.7400  4582963  322.38   \n",
       "\n",
       "                                                                  \n",
       "                               high       low   close     volume  \n",
       "time                                                              \n",
       "2018-01-02 00:00:00-05:00  142.2700  141.0524  142.25   984355.0  \n",
       "2018-01-03 00:00:00-05:00  143.6600  142.4000  143.56   653690.0  \n",
       "2018-01-04 00:00:00-05:00  144.3000  143.8548  143.95   703928.0  \n",
       "2018-01-05 00:00:00-05:00  145.2400  144.2899  145.20  1061025.0  \n",
       "2018-01-08 00:00:00-05:00  145.7300  145.0800  145.62   683662.0  \n",
       "...                             ...       ...     ...        ...  \n",
       "2021-11-01 00:00:00-04:00  314.8500  312.6800  314.37   577782.0  \n",
       "2021-11-02 00:00:00-04:00  315.6700  314.0100  315.25   640526.0  \n",
       "2021-11-03 00:00:00-04:00  317.7600  314.0300  317.47   652138.0  \n",
       "2021-11-04 00:00:00-04:00  321.4004  317.8000  321.03   943904.0  \n",
       "2021-11-05 00:00:00-04:00  323.2300  320.1400  321.39   723947.0  \n",
       "\n",
       "[970 rows x 50 columns]"
      ]
     },
     "metadata": {},
     "execution_count": 8
    }
   ],
   "metadata": {}
  },
  {
   "cell_type": "markdown",
   "source": [
    "## Calculate Closing Prices and Daily Prices/Plots"
   ],
   "metadata": {}
  },
  {
   "cell_type": "code",
   "execution_count": 9,
   "source": [
    "# Create a new empty DF that that holds only the closing prices of each stock\r\n",
    "diversified_closing_prices_df = pd.DataFrame()"
   ],
   "outputs": [],
   "metadata": {}
  },
  {
   "cell_type": "markdown",
   "source": [
    "### For Loop to Access Closing Prices Only"
   ],
   "metadata": {}
  },
  {
   "cell_type": "code",
   "execution_count": 10,
   "source": [
    "# Using a for loop, for every ticker in the tickers list, select only the close price for each ticker in the prices_df DF\r\n",
    "for ticker in tickers:\r\n",
    "  diversified_closing_prices_df[ticker] = diversified_prices_df[ticker][\"close\"]\r\n",
    "\r\n",
    "diversified_closing_prices_df"
   ],
   "outputs": [
    {
     "output_type": "execute_result",
     "data": {
      "text/html": [
       "<div>\n",
       "<style scoped>\n",
       "    .dataframe tbody tr th:only-of-type {\n",
       "        vertical-align: middle;\n",
       "    }\n",
       "\n",
       "    .dataframe tbody tr th {\n",
       "        vertical-align: top;\n",
       "    }\n",
       "\n",
       "    .dataframe thead th {\n",
       "        text-align: right;\n",
       "    }\n",
       "</style>\n",
       "<table border=\"1\" class=\"dataframe\">\n",
       "  <thead>\n",
       "    <tr style=\"text-align: right;\">\n",
       "      <th></th>\n",
       "      <th>VOO</th>\n",
       "      <th>MSFT</th>\n",
       "      <th>AAPL</th>\n",
       "      <th>BND</th>\n",
       "      <th>AMT</th>\n",
       "      <th>VUG</th>\n",
       "      <th>TSLA</th>\n",
       "      <th>AMZN</th>\n",
       "      <th>EDV</th>\n",
       "      <th>PLD</th>\n",
       "    </tr>\n",
       "    <tr>\n",
       "      <th>time</th>\n",
       "      <th></th>\n",
       "      <th></th>\n",
       "      <th></th>\n",
       "      <th></th>\n",
       "      <th></th>\n",
       "      <th></th>\n",
       "      <th></th>\n",
       "      <th></th>\n",
       "      <th></th>\n",
       "      <th></th>\n",
       "    </tr>\n",
       "  </thead>\n",
       "  <tbody>\n",
       "    <tr>\n",
       "      <th>2018-01-02 00:00:00-05:00</th>\n",
       "      <td>247.0300</td>\n",
       "      <td>85.91</td>\n",
       "      <td>172.26</td>\n",
       "      <td>81.320</td>\n",
       "      <td>141.105</td>\n",
       "      <td>142.25</td>\n",
       "      <td>320.2900</td>\n",
       "      <td>1189.00</td>\n",
       "      <td>117.50</td>\n",
       "      <td>64.01</td>\n",
       "    </tr>\n",
       "    <tr>\n",
       "      <th>2018-01-03 00:00:00-05:00</th>\n",
       "      <td>248.5600</td>\n",
       "      <td>86.33</td>\n",
       "      <td>172.18</td>\n",
       "      <td>81.400</td>\n",
       "      <td>141.570</td>\n",
       "      <td>143.56</td>\n",
       "      <td>317.0100</td>\n",
       "      <td>1202.74</td>\n",
       "      <td>119.69</td>\n",
       "      <td>63.86</td>\n",
       "    </tr>\n",
       "    <tr>\n",
       "      <th>2018-01-04 00:00:00-05:00</th>\n",
       "      <td>249.6300</td>\n",
       "      <td>87.12</td>\n",
       "      <td>173.02</td>\n",
       "      <td>81.350</td>\n",
       "      <td>139.630</td>\n",
       "      <td>143.95</td>\n",
       "      <td>314.6200</td>\n",
       "      <td>1209.64</td>\n",
       "      <td>119.94</td>\n",
       "      <td>62.63</td>\n",
       "    </tr>\n",
       "    <tr>\n",
       "      <th>2018-01-05 00:00:00-05:00</th>\n",
       "      <td>251.2500</td>\n",
       "      <td>88.11</td>\n",
       "      <td>174.96</td>\n",
       "      <td>81.240</td>\n",
       "      <td>140.490</td>\n",
       "      <td>145.20</td>\n",
       "      <td>316.5500</td>\n",
       "      <td>1229.07</td>\n",
       "      <td>119.42</td>\n",
       "      <td>62.56</td>\n",
       "    </tr>\n",
       "    <tr>\n",
       "      <th>2018-01-08 00:00:00-05:00</th>\n",
       "      <td>251.7200</td>\n",
       "      <td>88.22</td>\n",
       "      <td>174.34</td>\n",
       "      <td>81.260</td>\n",
       "      <td>142.030</td>\n",
       "      <td>145.62</td>\n",
       "      <td>336.4100</td>\n",
       "      <td>1246.95</td>\n",
       "      <td>119.30</td>\n",
       "      <td>63.29</td>\n",
       "    </tr>\n",
       "    <tr>\n",
       "      <th>...</th>\n",
       "      <td>...</td>\n",
       "      <td>...</td>\n",
       "      <td>...</td>\n",
       "      <td>...</td>\n",
       "      <td>...</td>\n",
       "      <td>...</td>\n",
       "      <td>...</td>\n",
       "      <td>...</td>\n",
       "      <td>...</td>\n",
       "      <td>...</td>\n",
       "    </tr>\n",
       "    <tr>\n",
       "      <th>2021-11-01 00:00:00-04:00</th>\n",
       "      <td>423.0100</td>\n",
       "      <td>329.38</td>\n",
       "      <td>148.99</td>\n",
       "      <td>85.150</td>\n",
       "      <td>282.120</td>\n",
       "      <td>314.37</td>\n",
       "      <td>1209.4800</td>\n",
       "      <td>3317.99</td>\n",
       "      <td>138.15</td>\n",
       "      <td>144.74</td>\n",
       "    </tr>\n",
       "    <tr>\n",
       "      <th>2021-11-02 00:00:00-04:00</th>\n",
       "      <td>424.6500</td>\n",
       "      <td>333.26</td>\n",
       "      <td>150.00</td>\n",
       "      <td>85.335</td>\n",
       "      <td>282.650</td>\n",
       "      <td>315.25</td>\n",
       "      <td>1171.8500</td>\n",
       "      <td>3313.17</td>\n",
       "      <td>139.05</td>\n",
       "      <td>147.01</td>\n",
       "    </tr>\n",
       "    <tr>\n",
       "      <th>2021-11-03 00:00:00-04:00</th>\n",
       "      <td>427.2682</td>\n",
       "      <td>333.98</td>\n",
       "      <td>151.49</td>\n",
       "      <td>85.160</td>\n",
       "      <td>280.660</td>\n",
       "      <td>317.47</td>\n",
       "      <td>1213.6880</td>\n",
       "      <td>3384.00</td>\n",
       "      <td>137.16</td>\n",
       "      <td>147.68</td>\n",
       "    </tr>\n",
       "    <tr>\n",
       "      <th>2021-11-04 00:00:00-04:00</th>\n",
       "      <td>429.2900</td>\n",
       "      <td>336.46</td>\n",
       "      <td>150.96</td>\n",
       "      <td>85.460</td>\n",
       "      <td>279.100</td>\n",
       "      <td>321.03</td>\n",
       "      <td>1229.7300</td>\n",
       "      <td>3477.04</td>\n",
       "      <td>138.89</td>\n",
       "      <td>147.92</td>\n",
       "    </tr>\n",
       "    <tr>\n",
       "      <th>2021-11-05 00:00:00-04:00</th>\n",
       "      <td>430.7400</td>\n",
       "      <td>336.11</td>\n",
       "      <td>151.24</td>\n",
       "      <td>85.830</td>\n",
       "      <td>277.700</td>\n",
       "      <td>321.39</td>\n",
       "      <td>1221.4406</td>\n",
       "      <td>3516.64</td>\n",
       "      <td>141.55</td>\n",
       "      <td>146.70</td>\n",
       "    </tr>\n",
       "  </tbody>\n",
       "</table>\n",
       "<p>970 rows × 10 columns</p>\n",
       "</div>"
      ],
      "text/plain": [
       "                                VOO    MSFT    AAPL     BND      AMT     VUG  \\\n",
       "time                                                                           \n",
       "2018-01-02 00:00:00-05:00  247.0300   85.91  172.26  81.320  141.105  142.25   \n",
       "2018-01-03 00:00:00-05:00  248.5600   86.33  172.18  81.400  141.570  143.56   \n",
       "2018-01-04 00:00:00-05:00  249.6300   87.12  173.02  81.350  139.630  143.95   \n",
       "2018-01-05 00:00:00-05:00  251.2500   88.11  174.96  81.240  140.490  145.20   \n",
       "2018-01-08 00:00:00-05:00  251.7200   88.22  174.34  81.260  142.030  145.62   \n",
       "...                             ...     ...     ...     ...      ...     ...   \n",
       "2021-11-01 00:00:00-04:00  423.0100  329.38  148.99  85.150  282.120  314.37   \n",
       "2021-11-02 00:00:00-04:00  424.6500  333.26  150.00  85.335  282.650  315.25   \n",
       "2021-11-03 00:00:00-04:00  427.2682  333.98  151.49  85.160  280.660  317.47   \n",
       "2021-11-04 00:00:00-04:00  429.2900  336.46  150.96  85.460  279.100  321.03   \n",
       "2021-11-05 00:00:00-04:00  430.7400  336.11  151.24  85.830  277.700  321.39   \n",
       "\n",
       "                                TSLA     AMZN     EDV     PLD  \n",
       "time                                                           \n",
       "2018-01-02 00:00:00-05:00   320.2900  1189.00  117.50   64.01  \n",
       "2018-01-03 00:00:00-05:00   317.0100  1202.74  119.69   63.86  \n",
       "2018-01-04 00:00:00-05:00   314.6200  1209.64  119.94   62.63  \n",
       "2018-01-05 00:00:00-05:00   316.5500  1229.07  119.42   62.56  \n",
       "2018-01-08 00:00:00-05:00   336.4100  1246.95  119.30   63.29  \n",
       "...                              ...      ...     ...     ...  \n",
       "2021-11-01 00:00:00-04:00  1209.4800  3317.99  138.15  144.74  \n",
       "2021-11-02 00:00:00-04:00  1171.8500  3313.17  139.05  147.01  \n",
       "2021-11-03 00:00:00-04:00  1213.6880  3384.00  137.16  147.68  \n",
       "2021-11-04 00:00:00-04:00  1229.7300  3477.04  138.89  147.92  \n",
       "2021-11-05 00:00:00-04:00  1221.4406  3516.64  141.55  146.70  \n",
       "\n",
       "[970 rows x 10 columns]"
      ]
     },
     "metadata": {},
     "execution_count": 10
    }
   ],
   "metadata": {}
  },
  {
   "cell_type": "markdown",
   "source": [
    "### Calculate the Daily Returns Per Stock in our Stock Portfolio"
   ],
   "metadata": {}
  },
  {
   "cell_type": "code",
   "execution_count": 11,
   "source": [
    "# Calculate the daily returns for every stock in the Diversified Portfolio\r\n",
    "per_diversified_daily_returns = diversified_closing_prices_df.pct_change().dropna()\r\n",
    "per_diversified_daily_returns"
   ],
   "outputs": [
    {
     "output_type": "execute_result",
     "data": {
      "text/html": [
       "<div>\n",
       "<style scoped>\n",
       "    .dataframe tbody tr th:only-of-type {\n",
       "        vertical-align: middle;\n",
       "    }\n",
       "\n",
       "    .dataframe tbody tr th {\n",
       "        vertical-align: top;\n",
       "    }\n",
       "\n",
       "    .dataframe thead th {\n",
       "        text-align: right;\n",
       "    }\n",
       "</style>\n",
       "<table border=\"1\" class=\"dataframe\">\n",
       "  <thead>\n",
       "    <tr style=\"text-align: right;\">\n",
       "      <th></th>\n",
       "      <th>VOO</th>\n",
       "      <th>MSFT</th>\n",
       "      <th>AAPL</th>\n",
       "      <th>BND</th>\n",
       "      <th>AMT</th>\n",
       "      <th>VUG</th>\n",
       "      <th>TSLA</th>\n",
       "      <th>AMZN</th>\n",
       "      <th>EDV</th>\n",
       "      <th>PLD</th>\n",
       "    </tr>\n",
       "    <tr>\n",
       "      <th>time</th>\n",
       "      <th></th>\n",
       "      <th></th>\n",
       "      <th></th>\n",
       "      <th></th>\n",
       "      <th></th>\n",
       "      <th></th>\n",
       "      <th></th>\n",
       "      <th></th>\n",
       "      <th></th>\n",
       "      <th></th>\n",
       "    </tr>\n",
       "  </thead>\n",
       "  <tbody>\n",
       "    <tr>\n",
       "      <th>2018-01-03 00:00:00-05:00</th>\n",
       "      <td>0.006194</td>\n",
       "      <td>0.004889</td>\n",
       "      <td>-0.000464</td>\n",
       "      <td>0.000984</td>\n",
       "      <td>0.003295</td>\n",
       "      <td>0.009209</td>\n",
       "      <td>-0.010241</td>\n",
       "      <td>0.011556</td>\n",
       "      <td>0.018638</td>\n",
       "      <td>-0.002343</td>\n",
       "    </tr>\n",
       "    <tr>\n",
       "      <th>2018-01-04 00:00:00-05:00</th>\n",
       "      <td>0.004305</td>\n",
       "      <td>0.009151</td>\n",
       "      <td>0.004879</td>\n",
       "      <td>-0.000614</td>\n",
       "      <td>-0.013703</td>\n",
       "      <td>0.002717</td>\n",
       "      <td>-0.007539</td>\n",
       "      <td>0.005737</td>\n",
       "      <td>0.002089</td>\n",
       "      <td>-0.019261</td>\n",
       "    </tr>\n",
       "    <tr>\n",
       "      <th>2018-01-05 00:00:00-05:00</th>\n",
       "      <td>0.006490</td>\n",
       "      <td>0.011364</td>\n",
       "      <td>0.011213</td>\n",
       "      <td>-0.001352</td>\n",
       "      <td>0.006159</td>\n",
       "      <td>0.008684</td>\n",
       "      <td>0.006134</td>\n",
       "      <td>0.016063</td>\n",
       "      <td>-0.004336</td>\n",
       "      <td>-0.001118</td>\n",
       "    </tr>\n",
       "    <tr>\n",
       "      <th>2018-01-08 00:00:00-05:00</th>\n",
       "      <td>0.001871</td>\n",
       "      <td>0.001248</td>\n",
       "      <td>-0.003544</td>\n",
       "      <td>0.000246</td>\n",
       "      <td>0.010962</td>\n",
       "      <td>0.002893</td>\n",
       "      <td>0.062739</td>\n",
       "      <td>0.014548</td>\n",
       "      <td>-0.001005</td>\n",
       "      <td>0.011669</td>\n",
       "    </tr>\n",
       "    <tr>\n",
       "      <th>2018-01-09 00:00:00-05:00</th>\n",
       "      <td>0.002225</td>\n",
       "      <td>0.000113</td>\n",
       "      <td>-0.000057</td>\n",
       "      <td>-0.002892</td>\n",
       "      <td>-0.007393</td>\n",
       "      <td>0.002129</td>\n",
       "      <td>-0.008085</td>\n",
       "      <td>0.004948</td>\n",
       "      <td>-0.033697</td>\n",
       "      <td>-0.009954</td>\n",
       "    </tr>\n",
       "    <tr>\n",
       "      <th>...</th>\n",
       "      <td>...</td>\n",
       "      <td>...</td>\n",
       "      <td>...</td>\n",
       "      <td>...</td>\n",
       "      <td>...</td>\n",
       "      <td>...</td>\n",
       "      <td>...</td>\n",
       "      <td>...</td>\n",
       "      <td>...</td>\n",
       "      <td>...</td>\n",
       "    </tr>\n",
       "    <tr>\n",
       "      <th>2021-11-01 00:00:00-04:00</th>\n",
       "      <td>0.002061</td>\n",
       "      <td>-0.006815</td>\n",
       "      <td>-0.005407</td>\n",
       "      <td>-0.002225</td>\n",
       "      <td>0.001455</td>\n",
       "      <td>0.000573</td>\n",
       "      <td>0.085534</td>\n",
       "      <td>-0.016143</td>\n",
       "      <td>-0.010103</td>\n",
       "      <td>-0.000828</td>\n",
       "    </tr>\n",
       "    <tr>\n",
       "      <th>2021-11-02 00:00:00-04:00</th>\n",
       "      <td>0.003877</td>\n",
       "      <td>0.011780</td>\n",
       "      <td>0.006779</td>\n",
       "      <td>0.002173</td>\n",
       "      <td>0.001879</td>\n",
       "      <td>0.002799</td>\n",
       "      <td>-0.031113</td>\n",
       "      <td>-0.001453</td>\n",
       "      <td>0.006515</td>\n",
       "      <td>0.015683</td>\n",
       "    </tr>\n",
       "    <tr>\n",
       "      <th>2021-11-03 00:00:00-04:00</th>\n",
       "      <td>0.006166</td>\n",
       "      <td>0.002160</td>\n",
       "      <td>0.009933</td>\n",
       "      <td>-0.002051</td>\n",
       "      <td>-0.007041</td>\n",
       "      <td>0.007042</td>\n",
       "      <td>0.035703</td>\n",
       "      <td>0.021378</td>\n",
       "      <td>-0.013592</td>\n",
       "      <td>0.004558</td>\n",
       "    </tr>\n",
       "    <tr>\n",
       "      <th>2021-11-04 00:00:00-04:00</th>\n",
       "      <td>0.004732</td>\n",
       "      <td>0.007426</td>\n",
       "      <td>-0.003499</td>\n",
       "      <td>0.003523</td>\n",
       "      <td>-0.005558</td>\n",
       "      <td>0.011214</td>\n",
       "      <td>0.013218</td>\n",
       "      <td>0.027494</td>\n",
       "      <td>0.012613</td>\n",
       "      <td>0.001625</td>\n",
       "    </tr>\n",
       "    <tr>\n",
       "      <th>2021-11-05 00:00:00-04:00</th>\n",
       "      <td>0.003378</td>\n",
       "      <td>-0.001040</td>\n",
       "      <td>0.001855</td>\n",
       "      <td>0.004330</td>\n",
       "      <td>-0.005016</td>\n",
       "      <td>0.001121</td>\n",
       "      <td>-0.006741</td>\n",
       "      <td>0.011389</td>\n",
       "      <td>0.019152</td>\n",
       "      <td>-0.008248</td>\n",
       "    </tr>\n",
       "  </tbody>\n",
       "</table>\n",
       "<p>969 rows × 10 columns</p>\n",
       "</div>"
      ],
      "text/plain": [
       "                                VOO      MSFT      AAPL       BND       AMT  \\\n",
       "time                                                                          \n",
       "2018-01-03 00:00:00-05:00  0.006194  0.004889 -0.000464  0.000984  0.003295   \n",
       "2018-01-04 00:00:00-05:00  0.004305  0.009151  0.004879 -0.000614 -0.013703   \n",
       "2018-01-05 00:00:00-05:00  0.006490  0.011364  0.011213 -0.001352  0.006159   \n",
       "2018-01-08 00:00:00-05:00  0.001871  0.001248 -0.003544  0.000246  0.010962   \n",
       "2018-01-09 00:00:00-05:00  0.002225  0.000113 -0.000057 -0.002892 -0.007393   \n",
       "...                             ...       ...       ...       ...       ...   \n",
       "2021-11-01 00:00:00-04:00  0.002061 -0.006815 -0.005407 -0.002225  0.001455   \n",
       "2021-11-02 00:00:00-04:00  0.003877  0.011780  0.006779  0.002173  0.001879   \n",
       "2021-11-03 00:00:00-04:00  0.006166  0.002160  0.009933 -0.002051 -0.007041   \n",
       "2021-11-04 00:00:00-04:00  0.004732  0.007426 -0.003499  0.003523 -0.005558   \n",
       "2021-11-05 00:00:00-04:00  0.003378 -0.001040  0.001855  0.004330 -0.005016   \n",
       "\n",
       "                                VUG      TSLA      AMZN       EDV       PLD  \n",
       "time                                                                         \n",
       "2018-01-03 00:00:00-05:00  0.009209 -0.010241  0.011556  0.018638 -0.002343  \n",
       "2018-01-04 00:00:00-05:00  0.002717 -0.007539  0.005737  0.002089 -0.019261  \n",
       "2018-01-05 00:00:00-05:00  0.008684  0.006134  0.016063 -0.004336 -0.001118  \n",
       "2018-01-08 00:00:00-05:00  0.002893  0.062739  0.014548 -0.001005  0.011669  \n",
       "2018-01-09 00:00:00-05:00  0.002129 -0.008085  0.004948 -0.033697 -0.009954  \n",
       "...                             ...       ...       ...       ...       ...  \n",
       "2021-11-01 00:00:00-04:00  0.000573  0.085534 -0.016143 -0.010103 -0.000828  \n",
       "2021-11-02 00:00:00-04:00  0.002799 -0.031113 -0.001453  0.006515  0.015683  \n",
       "2021-11-03 00:00:00-04:00  0.007042  0.035703  0.021378 -0.013592  0.004558  \n",
       "2021-11-04 00:00:00-04:00  0.011214  0.013218  0.027494  0.012613  0.001625  \n",
       "2021-11-05 00:00:00-04:00  0.001121 -0.006741  0.011389  0.019152 -0.008248  \n",
       "\n",
       "[969 rows x 10 columns]"
      ]
     },
     "metadata": {},
     "execution_count": 11
    }
   ],
   "metadata": {}
  },
  {
   "cell_type": "markdown",
   "source": [
    "### Calculate Aggregate Daily Returns for Portfolio"
   ],
   "metadata": {}
  },
  {
   "cell_type": "code",
   "execution_count": 12,
   "source": [
    "# Calculate the daily returns for of the Stock Portfolio\r\n",
    "diversified_daily_returns_df = diversified_closing_prices_df.sum(axis=1).pct_change().dropna()\r\n",
    "diversified_daily_returns_df"
   ],
   "outputs": [
    {
     "output_type": "execute_result",
     "data": {
      "text/plain": [
       "time\n",
       "2018-01-03 00:00:00-05:00    0.006336\n",
       "2018-01-04 00:00:00-05:00    0.001797\n",
       "2018-01-05 00:00:00-05:00    0.010583\n",
       "2018-01-08 00:00:00-05:00    0.015444\n",
       "2018-01-09 00:00:00-05:00   -0.000610\n",
       "                               ...   \n",
       "2021-11-01 00:00:00-04:00    0.005905\n",
       "2021-11-02 00:00:00-04:00   -0.004873\n",
       "2021-11-03 00:00:00-04:00    0.018285\n",
       "2021-11-04 00:00:00-04:00    0.018110\n",
       "2021-11-05 00:00:00-04:00    0.005073\n",
       "Length: 969, dtype: float64"
      ]
     },
     "metadata": {},
     "execution_count": 12
    }
   ],
   "metadata": {}
  },
  {
   "cell_type": "markdown",
   "source": [
    "### Plot the Aggregated Daily Returns"
   ],
   "metadata": {}
  },
  {
   "cell_type": "code",
   "execution_count": 16,
   "source": [
    "# Plot daily returns for the stocks portfolio\r\n",
    "diversified_daily_returns_df.plot(figsize=(15,10), title=\"Daily Returns - Diversified Portfolio (Jan. 2018 - Nov. 2021)\")"
   ],
   "outputs": [
    {
     "output_type": "execute_result",
     "data": {
      "text/plain": [
       "<AxesSubplot:title={'center':'Daily Returns - Diversified Portfolio (Jan. 2018 - Nov. 2021)'}, xlabel='time'>"
      ]
     },
     "metadata": {},
     "execution_count": 16
    },
    {
     "output_type": "display_data",
     "data": {
      "image/png": "[encoded data removed]",
      "text/plain": [
       "<Figure size 1080x720 with 1 Axes>"
      ]
     },
     "metadata": {
      "needs_background": "light"
     }
    }
   ],
   "metadata": {}
  },
  {
   "cell_type": "markdown",
   "source": [
    "## Calculate the Cumulative Returns of the Portfolio"
   ],
   "metadata": {}
  },
  {
   "cell_type": "code",
   "execution_count": 14,
   "source": [
    "# Calculate Cumulative Returns for Diversified Portfolio\r\n",
    "diversified_cumulative_returns_df = (1 + diversified_daily_returns_df).cumprod() - 1\r\n",
    "diversified_cumulative_returns_df"
   ],
   "outputs": [
    {
     "output_type": "execute_result",
     "data": {
      "text/plain": [
       "time\n",
       "2018-01-03 00:00:00-05:00    0.006336\n",
       "2018-01-04 00:00:00-05:00    0.008144\n",
       "2018-01-05 00:00:00-05:00    0.018813\n",
       "2018-01-08 00:00:00-05:00    0.034548\n",
       "2018-01-09 00:00:00-05:00    0.033917\n",
       "                               ...   \n",
       "2021-11-01 00:00:00-04:00    1.496756\n",
       "2021-11-02 00:00:00-04:00    1.484589\n",
       "2021-11-03 00:00:00-04:00    1.530019\n",
       "2021-11-04 00:00:00-04:00    1.575836\n",
       "2021-11-05 00:00:00-04:00    1.588904\n",
       "Length: 969, dtype: float64"
      ]
     },
     "metadata": {},
     "execution_count": 14
    }
   ],
   "metadata": {}
  },
  {
   "cell_type": "markdown",
   "source": [
    "### Read the Cumulative Returns Series into a CSV"
   ],
   "metadata": {}
  },
  {
   "cell_type": "code",
   "execution_count": 15,
   "source": [
    "# Read the Cumulative Returns Series into a CSV\r\n",
    "diversified_cumulative_returns_df.to_csv(Path(\"../data/cum_returns_diversified.csv\"))"
   ],
   "outputs": [],
   "metadata": {}
  },
  {
   "cell_type": "markdown",
   "source": [
    "### Plot Cumulative Returns for Portfolio"
   ],
   "metadata": {}
  },
  {
   "cell_type": "code",
   "execution_count": null,
   "source": [
    "# Plot Cumulative Returns for Diversified Portfolio\r\n",
    "diversified_cumulative_returns_df.plot(figsize=(15,10), title=\"Cumulative Returns - Diversified Portfolio (Jan. 2020 - Jan. 2021)\")"
   ],
   "outputs": [],
   "metadata": {}
  },
  {
   "cell_type": "markdown",
   "source": [
    "## Set Up and Run Monte Carlo Simulation for 10 Years"
   ],
   "metadata": {}
  },
  {
   "cell_type": "code",
   "execution_count": null,
   "source": [
    "# Set up Monte Carlo Simulation for a 10 year time period with a $10,000 initial investment\r\n",
    "MC_diversified_ten_year = MCSimulation(\r\n",
    "  portfolio_data=diversified_prices_df,\r\n",
    "  num_simulation=1000,\r\n",
    "  num_trading_days=252 * 10\r\n",
    ")\r\n",
    "\r\n",
    "MC_diversified_ten_year.portfolio_data.head()"
   ],
   "outputs": [],
   "metadata": {}
  },
  {
   "cell_type": "markdown",
   "source": [
    "### Run the MC Simulation for 10 Years"
   ],
   "metadata": {}
  },
  {
   "cell_type": "code",
   "execution_count": null,
   "source": [
    "# Run the Monte Carlo simulation to forecast 10 years cumulative returns\r\n",
    "MC_diversified_ten_year.calc_cumulative_return()"
   ],
   "outputs": [],
   "metadata": {}
  },
  {
   "cell_type": "markdown",
   "source": [
    "### Plot the MC 10 Year Simulation Visualization"
   ],
   "metadata": {}
  },
  {
   "cell_type": "code",
   "execution_count": null,
   "source": [
    "# Visualize the 10-year Monte Carlo simulation by creating an\r\n",
    "# overlay line plot for the diversified portfolio\r\n",
    "MC_diversified_ten_year.plot_simulation()"
   ],
   "outputs": [],
   "metadata": {}
  },
  {
   "cell_type": "markdown",
   "source": [
    "### Plot the MC 10 Year Simulation Distribution Visualization "
   ],
   "metadata": {}
  },
  {
   "cell_type": "code",
   "execution_count": null,
   "source": [
    "# Visualize the probability distribution of the 10-year Monte Carlo simulation \r\n",
    "# by plotting a histogram\r\n",
    "MC_diversified_ten_year.plot_distribution()"
   ],
   "outputs": [],
   "metadata": {}
  },
  {
   "cell_type": "markdown",
   "source": [
    "### Generate MC 10 Year Simulation Summary Statistics"
   ],
   "metadata": {}
  },
  {
   "cell_type": "code",
   "execution_count": null,
   "source": [
    "# Generate summary statistics from the 10-year Monte Carlo simulation results\r\n",
    "# Save the results as a variable\r\n",
    "MC_diversified_ten_year_summary_statistics = MC_diversified_ten_year.summarize_cumulative_return()\r\n",
    "\r\n",
    "# Review the 30-year Monte Carlo summary statistics\r\n",
    "print(MC_diversified_ten_year_summary_statistics)"
   ],
   "outputs": [],
   "metadata": {}
  },
  {
   "cell_type": "markdown",
   "source": [
    "### Calculate the Confidence Intervals to the 95% for the 10 year Simulation on a $10,000 initial investment"
   ],
   "metadata": {}
  },
  {
   "cell_type": "code",
   "execution_count": null,
   "source": [
    "# Calculate the 10-year confidence interval lower and upper projections for a $10,000 initial investment\r\n",
    "diversified_ten_year_lower_ci = round(MC_diversified_ten_year_summary_statistics[8]*10000, 2)\r\n",
    "diversified_ten_year_upper_ci = round(MC_diversified_ten_year_summary_statistics[9]*10000, 2)\r\n",
    "\r\n",
    "print(f\"With a 95% confidence interval, an initial investment of $10,000 in our Stocks Portfolio for 5 years, will be in the range of ${diversified_ten_year_lower_ci} and ${diversified_ten_year_upper_ci}\")"
   ],
   "outputs": [],
   "metadata": {}
  },
  {
   "cell_type": "markdown",
   "source": [
    "## Set Up and Run Monte Carlo Simulation for 30 Years"
   ],
   "metadata": {}
  },
  {
   "cell_type": "code",
   "execution_count": null,
   "source": [
    "# Set up Monte Carlo Simulation for a 30 year time period with a $10,000 initial investment in our Diversified Portfolio\r\n",
    "MC_diversified_thirty_year = MCSimulation(\r\n",
    "  portfolio_data=diversified_prices_df,\r\n",
    "  num_simulation=1000,\r\n",
    "  num_trading_days=252 * 30\r\n",
    ")\r\n",
    "\r\n",
    "MC_diversified_thirty_year.portfolio_data.head()"
   ],
   "outputs": [],
   "metadata": {}
  },
  {
   "cell_type": "markdown",
   "source": [
    "### Run the MC Simulation for 30 Years"
   ],
   "metadata": {}
  },
  {
   "cell_type": "code",
   "execution_count": null,
   "source": [
    "# Run the Monte Carlo simulation to forecast 30 years cumulative returns for our Diversified Portfolio\r\n",
    "MC_diversified_thirty_year.calc_cumulative_return()"
   ],
   "outputs": [],
   "metadata": {}
  },
  {
   "cell_type": "markdown",
   "source": [
    "### Plot the MC 30 Year Simulation Visualization"
   ],
   "metadata": {}
  },
  {
   "cell_type": "code",
   "execution_count": null,
   "source": [
    "# Visualize the 30-year Monte Carlo simulation by creating an\r\n",
    "# overlay line plot\r\n",
    "MC_diversified_thirty_year.plot_simulation()"
   ],
   "outputs": [],
   "metadata": {}
  },
  {
   "cell_type": "markdown",
   "source": [
    "### Plot the MC 30 Year Simulation Distribution Visualization"
   ],
   "metadata": {}
  },
  {
   "cell_type": "code",
   "execution_count": null,
   "source": [
    "# Visualize the probability distribution of the 30-year Monte Carlo simulation \r\n",
    "# by plotting a histogram\r\n",
    "MC_diversified_thirty_year.plot_distribution()"
   ],
   "outputs": [],
   "metadata": {}
  },
  {
   "cell_type": "markdown",
   "source": [
    "### Generate MC 30 Year Simulation Summary Statistics"
   ],
   "metadata": {}
  },
  {
   "cell_type": "code",
   "execution_count": null,
   "source": [
    "# Generate summary statistics from the 30-year Monte Carlo simulation results\r\n",
    "# Save the results as a variable\r\n",
    "MC_diversified_thirty_year_summary_statistics = MC_diversified_thirty_year.summarize_cumulative_return()\r\n",
    "\r\n",
    "# Review the 30-year Monte Carlo summary statistics\r\n",
    "print(MC_diversified_thirty_year_summary_statistics)"
   ],
   "outputs": [],
   "metadata": {}
  },
  {
   "cell_type": "markdown",
   "source": [
    "### Calculate the Confidence Intervals to the 95% for the 30 year Simulation on a $10,000 initial investment"
   ],
   "metadata": {}
  },
  {
   "cell_type": "code",
   "execution_count": null,
   "source": [
    "# Calculate the 10-year confidence interval lower and upper projections for a $10,000 initial investment\r\n",
    "diversified_thirty_year_lower_ci = round(MC_diversified_thirty_year_summary_statistics[8]*10000, 2)\r\n",
    "diversified_thirty_year_upper_ci = round(MC_diversified_thirty_year_summary_statistics[9]*10000, 2)\r\n",
    "\r\n",
    "print(f\"With a 95% confidence interval, an initial investment of $10,000 in our Stocks Portfolio for 5 years, will be in the range of ${diversified_thirty_year_lower_ci} and ${diversified_thirty_year_upper_ci}\")"
   ],
   "outputs": [],
   "metadata": {}
  },
  {
   "cell_type": "markdown",
   "source": [
    "## Calculate the Standard Deviation & Annualized Standard Deviation for Our Stock Portfolio"
   ],
   "metadata": {}
  },
  {
   "cell_type": "code",
   "execution_count": null,
   "source": [
    "# Calculate Standard Deviation for our Stock Portfolio\r\n",
    "diversified_standard_deviation = per_diversified_daily_returns.std()\r\n",
    "diversified_standard_deviation = diversified_standard_deviation.sort_values()\r\n",
    "diversified_standard_deviation"
   ],
   "outputs": [],
   "metadata": {}
  },
  {
   "cell_type": "markdown",
   "source": [
    "### Calculate Annualized Standard Deviation"
   ],
   "metadata": {}
  },
  {
   "cell_type": "code",
   "execution_count": null,
   "source": [
    "# Calculate Annualized Standard Deviation for our Stock Portfolio\r\n",
    "diversified_annualized_standard_deviation = diversified_standard_deviation * np.sqrt(252)\r\n",
    "diversified_annualized_standard_deviation = diversified_annualized_standard_deviation.sort_values()\r\n",
    "diversified_annualized_standard_deviation"
   ],
   "outputs": [],
   "metadata": {}
  },
  {
   "cell_type": "markdown",
   "source": [
    "## Calculate the Sharpe Ratio for our Stock Portfolio"
   ],
   "metadata": {}
  },
  {
   "cell_type": "markdown",
   "source": [
    "### Calculate the Annualized Returns"
   ],
   "metadata": {}
  },
  {
   "cell_type": "code",
   "execution_count": null,
   "source": [
    "# Calculate the Annualized Returns for our Stock Portfolio \r\n",
    "diversified_annualized_returns = per_diversified_daily_returns.mean() * 252\r\n",
    "diversified_annualized_returns = diversified_annualized_returns.sort_values()\r\n",
    "diversified_annualized_returns"
   ],
   "outputs": [],
   "metadata": {}
  },
  {
   "cell_type": "markdown",
   "source": [
    "### Calculate the Sharpe Ratio"
   ],
   "metadata": {}
  },
  {
   "cell_type": "code",
   "execution_count": null,
   "source": [
    "# Calculate the Sharpe Ratio for Our Stock Portfolio\r\n",
    "diversified_portfolio_sharpe_ratio = diversified_annualized_returns / diversified_annualized_standard_deviation\r\n",
    "diversified_portfolio_sharpe_ratio = diversified_portfolio_sharpe_ratio.sort_values()\r\n",
    "diversified_portfolio_sharpe_ratio"
   ],
   "outputs": [],
   "metadata": {}
  },
  {
   "cell_type": "markdown",
   "source": [
    "### Calculate the Overall Sharpe Ratio for our Diversified Portfolio"
   ],
   "metadata": {}
  },
  {
   "cell_type": "code",
   "execution_count": null,
   "source": [
    "# Calculate the Average Sharpe Ratio for our Diversified Portfolio\r\n",
    "diversified_portfolio_average_sharpe_ratio = diversified_portfolio_sharpe_ratio.mean()\r\n",
    "print(f\"{diversified_portfolio_average_sharpe_ratio: .3f}\")"
   ],
   "outputs": [],
   "metadata": {}
  }
 ],
 "metadata": {
  "orig_nbformat": 4,
  "language_info": {
   "name": "python",
   "version": "3.7.10",
   "mimetype": "text/x-python",
   "codemirror_mode": {
    "name": "ipython",
    "version": 3
   },
   "pygments_lexer": "ipython3",
   "nbconvert_exporter": "python",
   "file_extension": ".py"
  },
  "kernelspec": {
   "name": "python3",
   "display_name": "Python 3.7.10 64-bit ('dev': conda)"
  },
  "interpreter": {
   "hash": "ad9fb37fa15c2fac4885b853501abc8587965d08b8586f67468c92fe4e3567d7"
  }
 },
 "nbformat": 4,
 "nbformat_minor": 2
}