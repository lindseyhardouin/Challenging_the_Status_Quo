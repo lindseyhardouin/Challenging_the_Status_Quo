{
 "cells": [
  {
   "cell_type": "markdown",
   "source": [
    "# Diversified Portfolio Notebook"
   ],
   "metadata": {}
  },
  {
   "cell_type": "markdown",
   "source": [
    "## Set Up and Execute Alapaca SDK Request"
   ],
   "metadata": {}
  },
  {
   "cell_type": "markdown",
   "source": [
    "### Importing the Required Libraries"
   ],
   "metadata": {}
  },
  {
   "cell_type": "code",
   "execution_count": null,
   "source": [
    "# Import Required Libraries\r\n",
    "\r\n",
    "import os\r\n",
    "import requests\r\n",
    "import pandas as pd\r\n",
    "from dotenv import load_dotenv\r\n",
    "import alpaca_trade_api as tradeapi\r\n",
    "from MCForecastTools import MCSimulation\r\n",
    "import numpy as np\r\n",
    "\r\n",
    "%matplotlib inline"
   ],
   "outputs": [],
   "metadata": {}
  },
  {
   "cell_type": "markdown",
   "source": [
    "### Loading the .env file"
   ],
   "metadata": {}
  },
  {
   "cell_type": "code",
   "execution_count": null,
   "source": [
    "# Make sure dotenv is loaded\r\n",
    "load_dotenv()"
   ],
   "outputs": [],
   "metadata": {}
  },
  {
   "cell_type": "markdown",
   "source": [
    "### Alpaca API and Secret Key Variables"
   ],
   "metadata": {}
  },
  {
   "cell_type": "code",
   "execution_count": null,
   "source": [
    "# Create Alpaca key variables to call from .env() file\r\n",
    "alpaca_api_key = os.getenv(\"ALPACA_API_KEY\")\r\n",
    "alpaca_secret_key = os.getenv(\"ALPACA_SECRET_KEY\")\r\n",
    "\r\n",
    "display(type(alpaca_api_key))\r\n",
    "display(type(alpaca_secret_key))"
   ],
   "outputs": [],
   "metadata": {}
  },
  {
   "cell_type": "markdown",
   "source": [
    "### Create the ALpaca REST Object"
   ],
   "metadata": {}
  },
  {
   "cell_type": "code",
   "execution_count": null,
   "source": [
    "# Create our Alpaca REST object\r\n",
    "alpaca = tradeapi.REST(\r\n",
    "  alpaca_api_key,\r\n",
    "  alpaca_secret_key,\r\n",
    "  api_version=\"v2\"\r\n",
    ")\r\n",
    "\r\n",
    "alpaca"
   ],
   "outputs": [],
   "metadata": {}
  },
  {
   "cell_type": "markdown",
   "source": [
    "### Set the Start and End Dates"
   ],
   "metadata": {}
  },
  {
   "cell_type": "code",
   "execution_count": null,
   "source": [
    "# Set the start and end dates for the information we want to pull from Alpaca\r\n",
    "start_date = pd.Timestamp(\"2020-01-02\", tz=\"America/New_York\").isoformat()\r\n",
    "end_date = pd.Timestamp(\"2021-11-02\", tz=\"America/New_York\").isoformat()"
   ],
   "outputs": [],
   "metadata": {}
  },
  {
   "cell_type": "markdown",
   "source": [
    "### Set the Tickers for Alpaca to Fetch"
   ],
   "metadata": {}
  },
  {
   "cell_type": "code",
   "execution_count": null,
   "source": [
    "# Set the list of tickers we want the Alpaca request to fetch\r\n",
    "tickers = [\"VOO\", \"MSFT\", \"AAPL\", \"BND\", \"AMT\", \"VUG\", \"TSLA\", \"AMZN\", \"EDV\", \"PLD\"]"
   ],
   "outputs": [],
   "metadata": {}
  },
  {
   "cell_type": "markdown",
   "source": [
    "### Set the Timeframe for the Alpaca Request"
   ],
   "metadata": {}
  },
  {
   "cell_type": "code",
   "execution_count": null,
   "source": [
    "# Set the timeframe of collection. We just need the a daily price point\r\n",
    "timeframe = \"1D\""
   ],
   "outputs": [],
   "metadata": {}
  },
  {
   "cell_type": "markdown",
   "source": [
    "### Create the Request for Alpaca Using get_barset()"
   ],
   "metadata": {}
  },
  {
   "cell_type": "code",
   "execution_count": null,
   "source": [
    "# Create the request of the data to fetch via the Alpaca SDK\r\n",
    "diversified_prices_df = alpaca.get_barset(\r\n",
    "  tickers,\r\n",
    "  timeframe,\r\n",
    "  limit=1000,\r\n",
    "  start=start_date,\r\n",
    "  end=end_date\r\n",
    ").df\r\n",
    "\r\n",
    "diversified_prices_df"
   ],
   "outputs": [],
   "metadata": {}
  },
  {
   "cell_type": "markdown",
   "source": [
    "## Calculate Closing Prices and Daily Prices/Plots"
   ],
   "metadata": {}
  },
  {
   "cell_type": "code",
   "execution_count": null,
   "source": [
    "# Create a new empty DF that that holds only the closing prices of each stock\r\n",
    "diversified_closing_prices_df = pd.DataFrame()"
   ],
   "outputs": [],
   "metadata": {}
  },
  {
   "cell_type": "markdown",
   "source": [
    "### For Loop to Access Closing Prices Only"
   ],
   "metadata": {}
  },
  {
   "cell_type": "code",
   "execution_count": null,
   "source": [
    "# Using a for loop, for every ticker in the tickers list, select only the close price for each ticker in the prices_df DF\r\n",
    "for ticker in tickers:\r\n",
    "  diversified_closing_prices_df[ticker] = diversified_prices_df[ticker][\"close\"]\r\n",
    "\r\n",
    "diversified_closing_prices_df"
   ],
   "outputs": [],
   "metadata": {}
  },
  {
   "cell_type": "markdown",
   "source": [
    "### Calculate Aggregate Daily Returns for Portfolio"
   ],
   "metadata": {}
  },
  {
   "cell_type": "code",
   "execution_count": null,
   "source": [
    "# Calculate the daily returns for of the Stock Portfolio\r\n",
    "diversified_daily_returns_df = diversified_closing_prices_df.sum(axis=1).pct_change().dropna()\r\n",
    "diversified_daily_returns_df"
   ],
   "outputs": [],
   "metadata": {}
  },
  {
   "cell_type": "markdown",
   "source": [
    "### Plot the Aggregated Daily Returns"
   ],
   "metadata": {}
  },
  {
   "cell_type": "code",
   "execution_count": null,
   "source": [
    "# Plot daily returns for the stocks portfolio\r\n",
    "diversified_daily_returns_df.plot(figsize=(15,10), title=\"Daily Returns - Diversified Portfolio (Jan. 2020 - Nov. 2021)\")"
   ],
   "outputs": [],
   "metadata": {}
  },
  {
   "cell_type": "markdown",
   "source": [
    "## Set Up and Run Monte Carlo Simulation for 10 Years"
   ],
   "metadata": {}
  },
  {
   "cell_type": "code",
   "execution_count": null,
   "source": [
    "# Set up Monte Carlo Simulation for a 10 year time period with a $10,000 initial investment\r\n",
    "MC_diversified_ten_year = MCSimulation(\r\n",
    "  portfolio_data=diversified_prices_df,\r\n",
    "  num_simulation=1000,\r\n",
    "  num_trading_days=252 * 10\r\n",
    ")\r\n",
    "\r\n",
    "MC_diversified_ten_year.portfolio_data.head()"
   ],
   "outputs": [],
   "metadata": {}
  },
  {
   "cell_type": "markdown",
   "source": [
    "### Run the MC Simulation for 10 Years"
   ],
   "metadata": {}
  },
  {
   "cell_type": "code",
   "execution_count": null,
   "source": [
    "# Run the Monte Carlo simulation to forecast 10 years cumulative returns\r\n",
    "MC_diversified_ten_year.calc_cumulative_return()"
   ],
   "outputs": [],
   "metadata": {}
  },
  {
   "cell_type": "markdown",
   "source": [
    "### Plot the MC 10 Year Simulation Visualization"
   ],
   "metadata": {}
  },
  {
   "cell_type": "code",
   "execution_count": null,
   "source": [
    "# Visualize the 10-year Monte Carlo simulation by creating an\r\n",
    "# overlay line plot for the diversified portfolio\r\n",
    "MC_diversified_ten_year.plot_simulation()"
   ],
   "outputs": [],
   "metadata": {}
  },
  {
   "cell_type": "markdown",
   "source": [
    "### Plot the MC 10 Year Simulation Distribution Visualization "
   ],
   "metadata": {}
  },
  {
   "cell_type": "code",
   "execution_count": null,
   "source": [
    "# Visualize the probability distribution of the 10-year Monte Carlo simulation \r\n",
    "# by plotting a histogram\r\n",
    "MC_diversified_ten_year.plot_distribution()"
   ],
   "outputs": [],
   "metadata": {}
  },
  {
   "cell_type": "markdown",
   "source": [
    "### Generate MC 10 Year Simulation Summary Statistics"
   ],
   "metadata": {}
  },
  {
   "cell_type": "code",
   "execution_count": null,
   "source": [
    "# Generate summary statistics from the 10-year Monte Carlo simulation results\r\n",
    "# Save the results as a variable\r\n",
    "MC_diversified_ten_year_summary_statistics = MC_diversified_ten_year.summarize_cumulative_return()\r\n",
    "\r\n",
    "# Review the 30-year Monte Carlo summary statistics\r\n",
    "print(MC_diversified_ten_year_summary_statistics)"
   ],
   "outputs": [],
   "metadata": {}
  },
  {
   "cell_type": "markdown",
   "source": [
    "### Calculate the Confidence Intervals to the 95% for the 10 year Simulation on a $10,000 initial investment"
   ],
   "metadata": {}
  },
  {
   "cell_type": "code",
   "execution_count": null,
   "source": [
    "# Calculate the 10-year confidence interval lower and upper projections for a $10,000 initial investment\r\n",
    "diversified_ten_year_lower_ci = round(MC_diversified_ten_year_summary_statistics[8]*10000, 2)\r\n",
    "diversified_ten_year_upper_ci = round(MC_diversified_ten_year_summary_statistics[9]*10000, 2)\r\n",
    "\r\n",
    "print(f\"With a 95% confidence interval, an initial investment of $10,000 in our Stocks Portfolio for 5 years, will be in the range of ${diversified_ten_year_lower_ci} and ${diversified_ten_year_upper_ci}\")"
   ],
   "outputs": [],
   "metadata": {}
  },
  {
   "cell_type": "code",
   "execution_count": null,
   "source": [
    "# Set up Monte Carlo Simulation for a 10 year time period with a $10,000 initial investment in our Diversified Portfolio\r\n",
    "MC_diversified_ten_year = MCSimulation(\r\n",
    "  portfolio_data=diversified_prices_df,\r\n",
    "  weights=[.1, .1, .1, .1, .1, .1, .1, .1, .1, .1],\r\n",
    "  num_simulation=1000,\r\n",
    "  num_trading_days=252 * 10\r\n",
    ")\r\n",
    "\r\n",
    "MC_diversified_ten_year.portfolio_data.head()"
   ],
   "outputs": [],
   "metadata": {}
  },
  {
   "cell_type": "code",
   "execution_count": null,
   "source": [
    "# Run the Monte Carlo simulation to forecast 10 years cumulative returns for our Diversified Portfolio\r\n",
    "MC_diversified_ten_year.calc_cumulative_return()"
   ],
   "outputs": [],
   "metadata": {}
  },
  {
   "cell_type": "code",
   "execution_count": null,
   "source": [],
   "outputs": [],
   "metadata": {}
  }
 ],
 "metadata": {
  "orig_nbformat": 4,
  "language_info": {
   "name": "python",
   "version": "3.7.10",
   "mimetype": "text/x-python",
   "codemirror_mode": {
    "name": "ipython",
    "version": 3
   },
   "pygments_lexer": "ipython3",
   "nbconvert_exporter": "python",
   "file_extension": ".py"
  },
  "kernelspec": {
   "name": "python3",
   "display_name": "Python 3.7.10 64-bit ('dev': conda)"
  },
  "interpreter": {
   "hash": "ad9fb37fa15c2fac4885b853501abc8587965d08b8586f67468c92fe4e3567d7"
  }
 },
 "nbformat": 4,
 "nbformat_minor": 2
}