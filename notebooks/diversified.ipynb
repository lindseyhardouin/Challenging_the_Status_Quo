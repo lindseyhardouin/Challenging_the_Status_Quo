{
 "cells": [
  {
   "cell_type": "markdown",
   "source": [
    "# Diversified Portfolio Notebook"
   ],
   "metadata": {}
  },
  {
   "cell_type": "markdown",
   "source": [
    "## Set Up and Execute Alapaca SDK Request"
   ],
   "metadata": {}
  },
  {
   "cell_type": "markdown",
   "source": [
    "### Importing the Required Libraries"
   ],
   "metadata": {}
  },
  {
   "cell_type": "code",
   "execution_count": 1,
   "source": [
    "# Import Required Libraries\r\n",
    "\r\n",
    "import os\r\n",
    "import requests\r\n",
    "import pandas as pd\r\n",
    "from dotenv import load_dotenv\r\n",
    "import alpaca_trade_api as tradeapi\r\n",
    "from MCForecastTools import MCSimulation\r\n",
    "import numpy as np\r\n",
    "\r\n",
    "%matplotlib inline"
   ],
   "outputs": [],
   "metadata": {}
  },
  {
   "cell_type": "markdown",
   "source": [
    "### Loading the .env file"
   ],
   "metadata": {}
  },
  {
   "cell_type": "code",
   "execution_count": 2,
   "source": [
    "# Make sure dotenv is loaded\r\n",
    "load_dotenv()"
   ],
   "outputs": [
    {
     "output_type": "execute_result",
     "data": {
      "text/plain": [
       "True"
      ]
     },
     "metadata": {},
     "execution_count": 2
    }
   ],
   "metadata": {}
  },
  {
   "cell_type": "markdown",
   "source": [
    "### Alpaca API and Secret Key Variables"
   ],
   "metadata": {}
  },
  {
   "cell_type": "code",
   "execution_count": 3,
   "source": [
    "# Create Alpaca key variables to call from .env() file\r\n",
    "alpaca_api_key = os.getenv(\"ALPACA_API_KEY\")\r\n",
    "alpaca_secret_key = os.getenv(\"ALPACA_SECRET_KEY\")\r\n",
    "\r\n",
    "display(type(alpaca_api_key))\r\n",
    "display(type(alpaca_secret_key))"
   ],
   "outputs": [
    {
     "output_type": "display_data",
     "data": {
      "text/plain": [
       "str"
      ]
     },
     "metadata": {}
    },
    {
     "output_type": "display_data",
     "data": {
      "text/plain": [
       "str"
      ]
     },
     "metadata": {}
    }
   ],
   "metadata": {}
  },
  {
   "cell_type": "markdown",
   "source": [
    "### Create the ALpaca REST Object"
   ],
   "metadata": {}
  },
  {
   "cell_type": "code",
   "execution_count": 4,
   "source": [
    "# Create our Alpaca REST object\r\n",
    "alpaca = tradeapi.REST(\r\n",
    "  alpaca_api_key,\r\n",
    "  alpaca_secret_key,\r\n",
    "  api_version=\"v2\"\r\n",
    ")\r\n",
    "\r\n",
    "alpaca"
   ],
   "outputs": [
    {
     "output_type": "execute_result",
     "data": {
      "text/plain": [
       "<alpaca_trade_api.rest.REST at 0x1ebd29d1d08>"
      ]
     },
     "metadata": {},
     "execution_count": 4
    }
   ],
   "metadata": {}
  },
  {
   "cell_type": "markdown",
   "source": [
    "### Set the Start and End Dates"
   ],
   "metadata": {}
  },
  {
   "cell_type": "code",
   "execution_count": 5,
   "source": [
    "# Set the start and end dates for the information we want to pull from Alpaca\r\n",
    "start_date = pd.Timestamp(\"2020-01-02\", tz=\"America/New_York\").isoformat()\r\n",
    "end_date = pd.Timestamp(\"2021-01-02\", tz=\"America/New_York\").isoformat()"
   ],
   "outputs": [],
   "metadata": {}
  },
  {
   "cell_type": "markdown",
   "source": [
    "### Set the Tickers for Alpaca to Fetch"
   ],
   "metadata": {}
  },
  {
   "cell_type": "code",
   "execution_count": 6,
   "source": [
    "# Set the list of tickers we want the Alpaca request to fetch\r\n",
    "tickers = [\"VOO\", \"MSFT\", \"AAPL\", \"BND\", \"AMT\", \"VUG\", \"TSLA\", \"AMZN\", \"EDV\", \"PLD\"]"
   ],
   "outputs": [],
   "metadata": {}
  },
  {
   "cell_type": "markdown",
   "source": [
    "### Set the Timeframe for the Alpaca Request"
   ],
   "metadata": {}
  },
  {
   "cell_type": "code",
   "execution_count": 7,
   "source": [
    "# Set the timeframe of collection. We just need the a daily price point\r\n",
    "timeframe = \"1D\""
   ],
   "outputs": [],
   "metadata": {}
  },
  {
   "cell_type": "markdown",
   "source": [
    "### Create the Request for Alpaca Using get_barset()"
   ],
   "metadata": {}
  },
  {
   "cell_type": "code",
   "execution_count": 8,
   "source": [
    "# Create the request of the data to fetch via the Alpaca SDK\r\n",
    "diversified_prices_df = alpaca.get_barset(\r\n",
    "  tickers,\r\n",
    "  timeframe,\r\n",
    "  limit=1000,\r\n",
    "  start=start_date,\r\n",
    "  end=end_date\r\n",
    ").df\r\n",
    "\r\n",
    "diversified_prices_df"
   ],
   "outputs": [
    {
     "output_type": "execute_result",
     "data": {
      "text/html": [
       "<div>\n",
       "<style scoped>\n",
       "    .dataframe tbody tr th:only-of-type {\n",
       "        vertical-align: middle;\n",
       "    }\n",
       "\n",
       "    .dataframe tbody tr th {\n",
       "        vertical-align: top;\n",
       "    }\n",
       "\n",
       "    .dataframe thead tr th {\n",
       "        text-align: left;\n",
       "    }\n",
       "\n",
       "    .dataframe thead tr:last-of-type th {\n",
       "        text-align: right;\n",
       "    }\n",
       "</style>\n",
       "<table border=\"1\" class=\"dataframe\">\n",
       "  <thead>\n",
       "    <tr>\n",
       "      <th></th>\n",
       "      <th colspan=\"5\" halign=\"left\">AAPL</th>\n",
       "      <th colspan=\"5\" halign=\"left\">AMT</th>\n",
       "      <th>...</th>\n",
       "      <th colspan=\"5\" halign=\"left\">VOO</th>\n",
       "      <th colspan=\"5\" halign=\"left\">VUG</th>\n",
       "    </tr>\n",
       "    <tr>\n",
       "      <th></th>\n",
       "      <th>open</th>\n",
       "      <th>high</th>\n",
       "      <th>low</th>\n",
       "      <th>close</th>\n",
       "      <th>volume</th>\n",
       "      <th>open</th>\n",
       "      <th>high</th>\n",
       "      <th>low</th>\n",
       "      <th>close</th>\n",
       "      <th>volume</th>\n",
       "      <th>...</th>\n",
       "      <th>open</th>\n",
       "      <th>high</th>\n",
       "      <th>low</th>\n",
       "      <th>close</th>\n",
       "      <th>volume</th>\n",
       "      <th>open</th>\n",
       "      <th>high</th>\n",
       "      <th>low</th>\n",
       "      <th>close</th>\n",
       "      <th>volume</th>\n",
       "    </tr>\n",
       "    <tr>\n",
       "      <th>time</th>\n",
       "      <th></th>\n",
       "      <th></th>\n",
       "      <th></th>\n",
       "      <th></th>\n",
       "      <th></th>\n",
       "      <th></th>\n",
       "      <th></th>\n",
       "      <th></th>\n",
       "      <th></th>\n",
       "      <th></th>\n",
       "      <th></th>\n",
       "      <th></th>\n",
       "      <th></th>\n",
       "      <th></th>\n",
       "      <th></th>\n",
       "      <th></th>\n",
       "      <th></th>\n",
       "      <th></th>\n",
       "      <th></th>\n",
       "      <th></th>\n",
       "      <th></th>\n",
       "    </tr>\n",
       "  </thead>\n",
       "  <tbody>\n",
       "    <tr>\n",
       "      <th>2020-01-02 00:00:00-05:00</th>\n",
       "      <td>296.24</td>\n",
       "      <td>300.6000</td>\n",
       "      <td>295.1900</td>\n",
       "      <td>300.58</td>\n",
       "      <td>30589026</td>\n",
       "      <td>229.68</td>\n",
       "      <td>231.1499</td>\n",
       "      <td>228.0051</td>\n",
       "      <td>228.50</td>\n",
       "      <td>1205047</td>\n",
       "      <td>...</td>\n",
       "      <td>297.29</td>\n",
       "      <td>298.45</td>\n",
       "      <td>296.3400</td>\n",
       "      <td>298.44</td>\n",
       "      <td>3098524</td>\n",
       "      <td>183.57</td>\n",
       "      <td>184.7600</td>\n",
       "      <td>183.0900</td>\n",
       "      <td>184.7600</td>\n",
       "      <td>1055649</td>\n",
       "    </tr>\n",
       "    <tr>\n",
       "      <th>2020-01-03 00:00:00-05:00</th>\n",
       "      <td>297.15</td>\n",
       "      <td>300.5800</td>\n",
       "      <td>296.5000</td>\n",
       "      <td>297.38</td>\n",
       "      <td>31609363</td>\n",
       "      <td>227.56</td>\n",
       "      <td>229.8300</td>\n",
       "      <td>227.0000</td>\n",
       "      <td>228.63</td>\n",
       "      <td>1293710</td>\n",
       "      <td>...</td>\n",
       "      <td>295.22</td>\n",
       "      <td>297.36</td>\n",
       "      <td>295.0400</td>\n",
       "      <td>296.25</td>\n",
       "      <td>2956475</td>\n",
       "      <td>182.50</td>\n",
       "      <td>184.4389</td>\n",
       "      <td>182.3700</td>\n",
       "      <td>183.6100</td>\n",
       "      <td>903194</td>\n",
       "    </tr>\n",
       "    <tr>\n",
       "      <th>2020-01-06 00:00:00-05:00</th>\n",
       "      <td>293.79</td>\n",
       "      <td>299.9600</td>\n",
       "      <td>292.7500</td>\n",
       "      <td>299.78</td>\n",
       "      <td>27487207</td>\n",
       "      <td>228.48</td>\n",
       "      <td>230.0000</td>\n",
       "      <td>227.8922</td>\n",
       "      <td>228.51</td>\n",
       "      <td>1077776</td>\n",
       "      <td>...</td>\n",
       "      <td>294.42</td>\n",
       "      <td>297.42</td>\n",
       "      <td>294.3500</td>\n",
       "      <td>297.36</td>\n",
       "      <td>2645636</td>\n",
       "      <td>182.33</td>\n",
       "      <td>184.7800</td>\n",
       "      <td>182.1700</td>\n",
       "      <td>184.7300</td>\n",
       "      <td>777690</td>\n",
       "    </tr>\n",
       "    <tr>\n",
       "      <th>2020-01-07 00:00:00-05:00</th>\n",
       "      <td>299.84</td>\n",
       "      <td>300.9000</td>\n",
       "      <td>297.4800</td>\n",
       "      <td>298.27</td>\n",
       "      <td>23877417</td>\n",
       "      <td>227.13</td>\n",
       "      <td>227.5700</td>\n",
       "      <td>221.6200</td>\n",
       "      <td>223.68</td>\n",
       "      <td>1136756</td>\n",
       "      <td>...</td>\n",
       "      <td>296.82</td>\n",
       "      <td>297.27</td>\n",
       "      <td>296.0611</td>\n",
       "      <td>296.52</td>\n",
       "      <td>1820121</td>\n",
       "      <td>184.69</td>\n",
       "      <td>185.2300</td>\n",
       "      <td>184.2150</td>\n",
       "      <td>184.6035</td>\n",
       "      <td>909187</td>\n",
       "    </tr>\n",
       "    <tr>\n",
       "      <th>2020-01-08 00:00:00-05:00</th>\n",
       "      <td>297.16</td>\n",
       "      <td>304.4399</td>\n",
       "      <td>297.1560</td>\n",
       "      <td>303.15</td>\n",
       "      <td>29547763</td>\n",
       "      <td>223.48</td>\n",
       "      <td>226.4850</td>\n",
       "      <td>222.5200</td>\n",
       "      <td>225.56</td>\n",
       "      <td>971756</td>\n",
       "      <td>...</td>\n",
       "      <td>296.71</td>\n",
       "      <td>299.31</td>\n",
       "      <td>296.4700</td>\n",
       "      <td>298.06</td>\n",
       "      <td>3454470</td>\n",
       "      <td>184.72</td>\n",
       "      <td>186.8500</td>\n",
       "      <td>184.5000</td>\n",
       "      <td>186.0300</td>\n",
       "      <td>641597</td>\n",
       "    </tr>\n",
       "    <tr>\n",
       "      <th>...</th>\n",
       "      <td>...</td>\n",
       "      <td>...</td>\n",
       "      <td>...</td>\n",
       "      <td>...</td>\n",
       "      <td>...</td>\n",
       "      <td>...</td>\n",
       "      <td>...</td>\n",
       "      <td>...</td>\n",
       "      <td>...</td>\n",
       "      <td>...</td>\n",
       "      <td>...</td>\n",
       "      <td>...</td>\n",
       "      <td>...</td>\n",
       "      <td>...</td>\n",
       "      <td>...</td>\n",
       "      <td>...</td>\n",
       "      <td>...</td>\n",
       "      <td>...</td>\n",
       "      <td>...</td>\n",
       "      <td>...</td>\n",
       "      <td>...</td>\n",
       "    </tr>\n",
       "    <tr>\n",
       "      <th>2020-12-24 00:00:00-05:00</th>\n",
       "      <td>131.32</td>\n",
       "      <td>133.4600</td>\n",
       "      <td>131.1000</td>\n",
       "      <td>131.99</td>\n",
       "      <td>51675667</td>\n",
       "      <td>216.44</td>\n",
       "      <td>219.3900</td>\n",
       "      <td>216.1900</td>\n",
       "      <td>218.64</td>\n",
       "      <td>581627</td>\n",
       "      <td>...</td>\n",
       "      <td>338.37</td>\n",
       "      <td>339.18</td>\n",
       "      <td>337.7700</td>\n",
       "      <td>339.17</td>\n",
       "      <td>1362634</td>\n",
       "      <td>250.56</td>\n",
       "      <td>251.6600</td>\n",
       "      <td>250.3700</td>\n",
       "      <td>251.1400</td>\n",
       "      <td>354140</td>\n",
       "    </tr>\n",
       "    <tr>\n",
       "      <th>2020-12-28 00:00:00-05:00</th>\n",
       "      <td>133.99</td>\n",
       "      <td>137.3400</td>\n",
       "      <td>133.5100</td>\n",
       "      <td>136.73</td>\n",
       "      <td>116008068</td>\n",
       "      <td>218.87</td>\n",
       "      <td>221.4500</td>\n",
       "      <td>217.4300</td>\n",
       "      <td>221.04</td>\n",
       "      <td>1078952</td>\n",
       "      <td>...</td>\n",
       "      <td>341.74</td>\n",
       "      <td>342.46</td>\n",
       "      <td>341.0900</td>\n",
       "      <td>342.08</td>\n",
       "      <td>2679636</td>\n",
       "      <td>253.39</td>\n",
       "      <td>254.0100</td>\n",
       "      <td>251.4800</td>\n",
       "      <td>253.4800</td>\n",
       "      <td>694612</td>\n",
       "    </tr>\n",
       "    <tr>\n",
       "      <th>2020-12-29 00:00:00-05:00</th>\n",
       "      <td>138.05</td>\n",
       "      <td>138.7890</td>\n",
       "      <td>134.3409</td>\n",
       "      <td>134.93</td>\n",
       "      <td>114407189</td>\n",
       "      <td>222.21</td>\n",
       "      <td>223.4200</td>\n",
       "      <td>220.4200</td>\n",
       "      <td>220.48</td>\n",
       "      <td>1028791</td>\n",
       "      <td>...</td>\n",
       "      <td>343.63</td>\n",
       "      <td>343.77</td>\n",
       "      <td>340.8700</td>\n",
       "      <td>341.45</td>\n",
       "      <td>2425900</td>\n",
       "      <td>254.87</td>\n",
       "      <td>255.1900</td>\n",
       "      <td>252.3917</td>\n",
       "      <td>252.9100</td>\n",
       "      <td>794116</td>\n",
       "    </tr>\n",
       "    <tr>\n",
       "      <th>2020-12-30 00:00:00-05:00</th>\n",
       "      <td>135.58</td>\n",
       "      <td>135.9900</td>\n",
       "      <td>133.4000</td>\n",
       "      <td>133.72</td>\n",
       "      <td>87788124</td>\n",
       "      <td>220.51</td>\n",
       "      <td>221.5300</td>\n",
       "      <td>219.3500</td>\n",
       "      <td>220.52</td>\n",
       "      <td>1144758</td>\n",
       "      <td>...</td>\n",
       "      <td>342.28</td>\n",
       "      <td>342.91</td>\n",
       "      <td>341.5650</td>\n",
       "      <td>341.86</td>\n",
       "      <td>1745448</td>\n",
       "      <td>254.00</td>\n",
       "      <td>254.3000</td>\n",
       "      <td>252.5600</td>\n",
       "      <td>252.8200</td>\n",
       "      <td>730689</td>\n",
       "    </tr>\n",
       "    <tr>\n",
       "      <th>2020-12-31 00:00:00-05:00</th>\n",
       "      <td>134.08</td>\n",
       "      <td>134.7400</td>\n",
       "      <td>131.7200</td>\n",
       "      <td>132.58</td>\n",
       "      <td>86901528</td>\n",
       "      <td>219.76</td>\n",
       "      <td>224.6650</td>\n",
       "      <td>219.6000</td>\n",
       "      <td>224.30</td>\n",
       "      <td>1297773</td>\n",
       "      <td>...</td>\n",
       "      <td>341.82</td>\n",
       "      <td>344.37</td>\n",
       "      <td>341.2300</td>\n",
       "      <td>343.62</td>\n",
       "      <td>2589798</td>\n",
       "      <td>253.09</td>\n",
       "      <td>253.7600</td>\n",
       "      <td>251.7315</td>\n",
       "      <td>253.3000</td>\n",
       "      <td>670115</td>\n",
       "    </tr>\n",
       "  </tbody>\n",
       "</table>\n",
       "<p>253 rows × 50 columns</p>\n",
       "</div>"
      ],
      "text/plain": [
       "                             AAPL                                         \\\n",
       "                             open      high       low   close     volume   \n",
       "time                                                                       \n",
       "2020-01-02 00:00:00-05:00  296.24  300.6000  295.1900  300.58   30589026   \n",
       "2020-01-03 00:00:00-05:00  297.15  300.5800  296.5000  297.38   31609363   \n",
       "2020-01-06 00:00:00-05:00  293.79  299.9600  292.7500  299.78   27487207   \n",
       "2020-01-07 00:00:00-05:00  299.84  300.9000  297.4800  298.27   23877417   \n",
       "2020-01-08 00:00:00-05:00  297.16  304.4399  297.1560  303.15   29547763   \n",
       "...                           ...       ...       ...     ...        ...   \n",
       "2020-12-24 00:00:00-05:00  131.32  133.4600  131.1000  131.99   51675667   \n",
       "2020-12-28 00:00:00-05:00  133.99  137.3400  133.5100  136.73  116008068   \n",
       "2020-12-29 00:00:00-05:00  138.05  138.7890  134.3409  134.93  114407189   \n",
       "2020-12-30 00:00:00-05:00  135.58  135.9900  133.4000  133.72   87788124   \n",
       "2020-12-31 00:00:00-05:00  134.08  134.7400  131.7200  132.58   86901528   \n",
       "\n",
       "                              AMT                                       ...  \\\n",
       "                             open      high       low   close   volume  ...   \n",
       "time                                                                    ...   \n",
       "2020-01-02 00:00:00-05:00  229.68  231.1499  228.0051  228.50  1205047  ...   \n",
       "2020-01-03 00:00:00-05:00  227.56  229.8300  227.0000  228.63  1293710  ...   \n",
       "2020-01-06 00:00:00-05:00  228.48  230.0000  227.8922  228.51  1077776  ...   \n",
       "2020-01-07 00:00:00-05:00  227.13  227.5700  221.6200  223.68  1136756  ...   \n",
       "2020-01-08 00:00:00-05:00  223.48  226.4850  222.5200  225.56   971756  ...   \n",
       "...                           ...       ...       ...     ...      ...  ...   \n",
       "2020-12-24 00:00:00-05:00  216.44  219.3900  216.1900  218.64   581627  ...   \n",
       "2020-12-28 00:00:00-05:00  218.87  221.4500  217.4300  221.04  1078952  ...   \n",
       "2020-12-29 00:00:00-05:00  222.21  223.4200  220.4200  220.48  1028791  ...   \n",
       "2020-12-30 00:00:00-05:00  220.51  221.5300  219.3500  220.52  1144758  ...   \n",
       "2020-12-31 00:00:00-05:00  219.76  224.6650  219.6000  224.30  1297773  ...   \n",
       "\n",
       "                              VOO                                        VUG  \\\n",
       "                             open    high       low   close   volume    open   \n",
       "time                                                                           \n",
       "2020-01-02 00:00:00-05:00  297.29  298.45  296.3400  298.44  3098524  183.57   \n",
       "2020-01-03 00:00:00-05:00  295.22  297.36  295.0400  296.25  2956475  182.50   \n",
       "2020-01-06 00:00:00-05:00  294.42  297.42  294.3500  297.36  2645636  182.33   \n",
       "2020-01-07 00:00:00-05:00  296.82  297.27  296.0611  296.52  1820121  184.69   \n",
       "2020-01-08 00:00:00-05:00  296.71  299.31  296.4700  298.06  3454470  184.72   \n",
       "...                           ...     ...       ...     ...      ...     ...   \n",
       "2020-12-24 00:00:00-05:00  338.37  339.18  337.7700  339.17  1362634  250.56   \n",
       "2020-12-28 00:00:00-05:00  341.74  342.46  341.0900  342.08  2679636  253.39   \n",
       "2020-12-29 00:00:00-05:00  343.63  343.77  340.8700  341.45  2425900  254.87   \n",
       "2020-12-30 00:00:00-05:00  342.28  342.91  341.5650  341.86  1745448  254.00   \n",
       "2020-12-31 00:00:00-05:00  341.82  344.37  341.2300  343.62  2589798  253.09   \n",
       "\n",
       "                                                                  \n",
       "                               high       low     close   volume  \n",
       "time                                                              \n",
       "2020-01-02 00:00:00-05:00  184.7600  183.0900  184.7600  1055649  \n",
       "2020-01-03 00:00:00-05:00  184.4389  182.3700  183.6100   903194  \n",
       "2020-01-06 00:00:00-05:00  184.7800  182.1700  184.7300   777690  \n",
       "2020-01-07 00:00:00-05:00  185.2300  184.2150  184.6035   909187  \n",
       "2020-01-08 00:00:00-05:00  186.8500  184.5000  186.0300   641597  \n",
       "...                             ...       ...       ...      ...  \n",
       "2020-12-24 00:00:00-05:00  251.6600  250.3700  251.1400   354140  \n",
       "2020-12-28 00:00:00-05:00  254.0100  251.4800  253.4800   694612  \n",
       "2020-12-29 00:00:00-05:00  255.1900  252.3917  252.9100   794116  \n",
       "2020-12-30 00:00:00-05:00  254.3000  252.5600  252.8200   730689  \n",
       "2020-12-31 00:00:00-05:00  253.7600  251.7315  253.3000   670115  \n",
       "\n",
       "[253 rows x 50 columns]"
      ]
     },
     "metadata": {},
     "execution_count": 8
    }
   ],
   "metadata": {}
  },
  {
   "cell_type": "markdown",
   "source": [
    "## Calculate Closing Prices and Daily Prices/Plots"
   ],
   "metadata": {}
  },
  {
   "cell_type": "code",
   "execution_count": 9,
   "source": [
    "# Create a new empty DF that that holds only the closing prices of each stock\r\n",
    "diversified_closing_prices_df = pd.DataFrame()"
   ],
   "outputs": [],
   "metadata": {}
  },
  {
   "cell_type": "markdown",
   "source": [
    "### For Loop to Access Closing Prices Only"
   ],
   "metadata": {}
  },
  {
   "cell_type": "code",
   "execution_count": 10,
   "source": [
    "# Using a for loop, for every ticker in the tickers list, select only the close price for each ticker in the prices_df DF\r\n",
    "for ticker in tickers:\r\n",
    "  diversified_closing_prices_df[ticker] = diversified_prices_df[ticker][\"close\"]\r\n",
    "\r\n",
    "diversified_closing_prices_df"
   ],
   "outputs": [
    {
     "output_type": "execute_result",
     "data": {
      "text/html": [
       "<div>\n",
       "<style scoped>\n",
       "    .dataframe tbody tr th:only-of-type {\n",
       "        vertical-align: middle;\n",
       "    }\n",
       "\n",
       "    .dataframe tbody tr th {\n",
       "        vertical-align: top;\n",
       "    }\n",
       "\n",
       "    .dataframe thead th {\n",
       "        text-align: right;\n",
       "    }\n",
       "</style>\n",
       "<table border=\"1\" class=\"dataframe\">\n",
       "  <thead>\n",
       "    <tr style=\"text-align: right;\">\n",
       "      <th></th>\n",
       "      <th>VOO</th>\n",
       "      <th>MSFT</th>\n",
       "      <th>AAPL</th>\n",
       "      <th>BND</th>\n",
       "      <th>AMT</th>\n",
       "      <th>VUG</th>\n",
       "      <th>TSLA</th>\n",
       "      <th>AMZN</th>\n",
       "      <th>EDV</th>\n",
       "      <th>PLD</th>\n",
       "    </tr>\n",
       "    <tr>\n",
       "      <th>time</th>\n",
       "      <th></th>\n",
       "      <th></th>\n",
       "      <th></th>\n",
       "      <th></th>\n",
       "      <th></th>\n",
       "      <th></th>\n",
       "      <th></th>\n",
       "      <th></th>\n",
       "      <th></th>\n",
       "      <th></th>\n",
       "    </tr>\n",
       "  </thead>\n",
       "  <tbody>\n",
       "    <tr>\n",
       "      <th>2020-01-02 00:00:00-05:00</th>\n",
       "      <td>298.44</td>\n",
       "      <td>160.73</td>\n",
       "      <td>300.58</td>\n",
       "      <td>83.980</td>\n",
       "      <td>228.50</td>\n",
       "      <td>184.7600</td>\n",
       "      <td>430.2400</td>\n",
       "      <td>1897.71</td>\n",
       "      <td>131.69</td>\n",
       "      <td>88.42</td>\n",
       "    </tr>\n",
       "    <tr>\n",
       "      <th>2020-01-03 00:00:00-05:00</th>\n",
       "      <td>296.25</td>\n",
       "      <td>158.59</td>\n",
       "      <td>297.38</td>\n",
       "      <td>84.260</td>\n",
       "      <td>228.63</td>\n",
       "      <td>183.6100</td>\n",
       "      <td>442.7500</td>\n",
       "      <td>1874.93</td>\n",
       "      <td>134.27</td>\n",
       "      <td>89.41</td>\n",
       "    </tr>\n",
       "    <tr>\n",
       "      <th>2020-01-06 00:00:00-05:00</th>\n",
       "      <td>297.36</td>\n",
       "      <td>159.02</td>\n",
       "      <td>299.78</td>\n",
       "      <td>84.160</td>\n",
       "      <td>228.51</td>\n",
       "      <td>184.7300</td>\n",
       "      <td>451.4001</td>\n",
       "      <td>1903.33</td>\n",
       "      <td>133.56</td>\n",
       "      <td>89.05</td>\n",
       "    </tr>\n",
       "    <tr>\n",
       "      <th>2020-01-07 00:00:00-05:00</th>\n",
       "      <td>296.52</td>\n",
       "      <td>157.60</td>\n",
       "      <td>298.27</td>\n",
       "      <td>84.070</td>\n",
       "      <td>223.68</td>\n",
       "      <td>184.6035</td>\n",
       "      <td>469.1700</td>\n",
       "      <td>1906.86</td>\n",
       "      <td>132.65</td>\n",
       "      <td>88.48</td>\n",
       "    </tr>\n",
       "    <tr>\n",
       "      <th>2020-01-08 00:00:00-05:00</th>\n",
       "      <td>298.06</td>\n",
       "      <td>160.14</td>\n",
       "      <td>303.15</td>\n",
       "      <td>83.970</td>\n",
       "      <td>225.56</td>\n",
       "      <td>186.0300</td>\n",
       "      <td>492.0900</td>\n",
       "      <td>1892.09</td>\n",
       "      <td>131.63</td>\n",
       "      <td>88.97</td>\n",
       "    </tr>\n",
       "    <tr>\n",
       "      <th>...</th>\n",
       "      <td>...</td>\n",
       "      <td>...</td>\n",
       "      <td>...</td>\n",
       "      <td>...</td>\n",
       "      <td>...</td>\n",
       "      <td>...</td>\n",
       "      <td>...</td>\n",
       "      <td>...</td>\n",
       "      <td>...</td>\n",
       "      <td>...</td>\n",
       "    </tr>\n",
       "    <tr>\n",
       "      <th>2020-12-24 00:00:00-05:00</th>\n",
       "      <td>339.17</td>\n",
       "      <td>222.71</td>\n",
       "      <td>131.99</td>\n",
       "      <td>88.005</td>\n",
       "      <td>218.64</td>\n",
       "      <td>251.1400</td>\n",
       "      <td>661.6600</td>\n",
       "      <td>3171.16</td>\n",
       "      <td>151.81</td>\n",
       "      <td>97.28</td>\n",
       "    </tr>\n",
       "    <tr>\n",
       "      <th>2020-12-28 00:00:00-05:00</th>\n",
       "      <td>342.08</td>\n",
       "      <td>224.96</td>\n",
       "      <td>136.73</td>\n",
       "      <td>87.980</td>\n",
       "      <td>221.04</td>\n",
       "      <td>253.4800</td>\n",
       "      <td>663.7700</td>\n",
       "      <td>3283.96</td>\n",
       "      <td>152.00</td>\n",
       "      <td>98.23</td>\n",
       "    </tr>\n",
       "    <tr>\n",
       "      <th>2020-12-29 00:00:00-05:00</th>\n",
       "      <td>341.45</td>\n",
       "      <td>224.29</td>\n",
       "      <td>134.93</td>\n",
       "      <td>88.020</td>\n",
       "      <td>220.48</td>\n",
       "      <td>252.9100</td>\n",
       "      <td>665.9800</td>\n",
       "      <td>3320.71</td>\n",
       "      <td>151.81</td>\n",
       "      <td>97.78</td>\n",
       "    </tr>\n",
       "    <tr>\n",
       "      <th>2020-12-30 00:00:00-05:00</th>\n",
       "      <td>341.86</td>\n",
       "      <td>221.68</td>\n",
       "      <td>133.72</td>\n",
       "      <td>88.060</td>\n",
       "      <td>220.52</td>\n",
       "      <td>252.8200</td>\n",
       "      <td>694.7100</td>\n",
       "      <td>3285.85</td>\n",
       "      <td>152.13</td>\n",
       "      <td>98.78</td>\n",
       "    </tr>\n",
       "    <tr>\n",
       "      <th>2020-12-31 00:00:00-05:00</th>\n",
       "      <td>343.62</td>\n",
       "      <td>222.37</td>\n",
       "      <td>132.58</td>\n",
       "      <td>88.165</td>\n",
       "      <td>224.30</td>\n",
       "      <td>253.3000</td>\n",
       "      <td>705.2100</td>\n",
       "      <td>3256.41</td>\n",
       "      <td>152.33</td>\n",
       "      <td>99.65</td>\n",
       "    </tr>\n",
       "  </tbody>\n",
       "</table>\n",
       "<p>253 rows × 10 columns</p>\n",
       "</div>"
      ],
      "text/plain": [
       "                              VOO    MSFT    AAPL     BND     AMT       VUG  \\\n",
       "time                                                                          \n",
       "2020-01-02 00:00:00-05:00  298.44  160.73  300.58  83.980  228.50  184.7600   \n",
       "2020-01-03 00:00:00-05:00  296.25  158.59  297.38  84.260  228.63  183.6100   \n",
       "2020-01-06 00:00:00-05:00  297.36  159.02  299.78  84.160  228.51  184.7300   \n",
       "2020-01-07 00:00:00-05:00  296.52  157.60  298.27  84.070  223.68  184.6035   \n",
       "2020-01-08 00:00:00-05:00  298.06  160.14  303.15  83.970  225.56  186.0300   \n",
       "...                           ...     ...     ...     ...     ...       ...   \n",
       "2020-12-24 00:00:00-05:00  339.17  222.71  131.99  88.005  218.64  251.1400   \n",
       "2020-12-28 00:00:00-05:00  342.08  224.96  136.73  87.980  221.04  253.4800   \n",
       "2020-12-29 00:00:00-05:00  341.45  224.29  134.93  88.020  220.48  252.9100   \n",
       "2020-12-30 00:00:00-05:00  341.86  221.68  133.72  88.060  220.52  252.8200   \n",
       "2020-12-31 00:00:00-05:00  343.62  222.37  132.58  88.165  224.30  253.3000   \n",
       "\n",
       "                               TSLA     AMZN     EDV    PLD  \n",
       "time                                                         \n",
       "2020-01-02 00:00:00-05:00  430.2400  1897.71  131.69  88.42  \n",
       "2020-01-03 00:00:00-05:00  442.7500  1874.93  134.27  89.41  \n",
       "2020-01-06 00:00:00-05:00  451.4001  1903.33  133.56  89.05  \n",
       "2020-01-07 00:00:00-05:00  469.1700  1906.86  132.65  88.48  \n",
       "2020-01-08 00:00:00-05:00  492.0900  1892.09  131.63  88.97  \n",
       "...                             ...      ...     ...    ...  \n",
       "2020-12-24 00:00:00-05:00  661.6600  3171.16  151.81  97.28  \n",
       "2020-12-28 00:00:00-05:00  663.7700  3283.96  152.00  98.23  \n",
       "2020-12-29 00:00:00-05:00  665.9800  3320.71  151.81  97.78  \n",
       "2020-12-30 00:00:00-05:00  694.7100  3285.85  152.13  98.78  \n",
       "2020-12-31 00:00:00-05:00  705.2100  3256.41  152.33  99.65  \n",
       "\n",
       "[253 rows x 10 columns]"
      ]
     },
     "metadata": {},
     "execution_count": 10
    }
   ],
   "metadata": {}
  },
  {
   "cell_type": "markdown",
   "source": [
    "### Calculate the Daily Returns Per Stock in our Stock Portfolio"
   ],
   "metadata": {}
  },
  {
   "cell_type": "code",
   "execution_count": 11,
   "source": [
    "# Calculate the daily returns for every stock in the Diversified Portfolio\r\n",
    "per_diversified_daily_returns = diversified_closing_prices_df.pct_change().dropna()\r\n",
    "per_diversified_daily_returns"
   ],
   "outputs": [
    {
     "output_type": "execute_result",
     "data": {
      "text/html": [
       "<div>\n",
       "<style scoped>\n",
       "    .dataframe tbody tr th:only-of-type {\n",
       "        vertical-align: middle;\n",
       "    }\n",
       "\n",
       "    .dataframe tbody tr th {\n",
       "        vertical-align: top;\n",
       "    }\n",
       "\n",
       "    .dataframe thead th {\n",
       "        text-align: right;\n",
       "    }\n",
       "</style>\n",
       "<table border=\"1\" class=\"dataframe\">\n",
       "  <thead>\n",
       "    <tr style=\"text-align: right;\">\n",
       "      <th></th>\n",
       "      <th>VOO</th>\n",
       "      <th>MSFT</th>\n",
       "      <th>AAPL</th>\n",
       "      <th>BND</th>\n",
       "      <th>AMT</th>\n",
       "      <th>VUG</th>\n",
       "      <th>TSLA</th>\n",
       "      <th>AMZN</th>\n",
       "      <th>EDV</th>\n",
       "      <th>PLD</th>\n",
       "    </tr>\n",
       "    <tr>\n",
       "      <th>time</th>\n",
       "      <th></th>\n",
       "      <th></th>\n",
       "      <th></th>\n",
       "      <th></th>\n",
       "      <th></th>\n",
       "      <th></th>\n",
       "      <th></th>\n",
       "      <th></th>\n",
       "      <th></th>\n",
       "      <th></th>\n",
       "    </tr>\n",
       "  </thead>\n",
       "  <tbody>\n",
       "    <tr>\n",
       "      <th>2020-01-03 00:00:00-05:00</th>\n",
       "      <td>-0.007338</td>\n",
       "      <td>-0.013314</td>\n",
       "      <td>-0.010646</td>\n",
       "      <td>0.003334</td>\n",
       "      <td>0.000569</td>\n",
       "      <td>-0.006224</td>\n",
       "      <td>0.029077</td>\n",
       "      <td>-0.012004</td>\n",
       "      <td>0.019591</td>\n",
       "      <td>0.011197</td>\n",
       "    </tr>\n",
       "    <tr>\n",
       "      <th>2020-01-06 00:00:00-05:00</th>\n",
       "      <td>0.003747</td>\n",
       "      <td>0.002711</td>\n",
       "      <td>0.008070</td>\n",
       "      <td>-0.001187</td>\n",
       "      <td>-0.000525</td>\n",
       "      <td>0.006100</td>\n",
       "      <td>0.019537</td>\n",
       "      <td>0.015147</td>\n",
       "      <td>-0.005288</td>\n",
       "      <td>-0.004026</td>\n",
       "    </tr>\n",
       "    <tr>\n",
       "      <th>2020-01-07 00:00:00-05:00</th>\n",
       "      <td>-0.002825</td>\n",
       "      <td>-0.008930</td>\n",
       "      <td>-0.005037</td>\n",
       "      <td>-0.001069</td>\n",
       "      <td>-0.021137</td>\n",
       "      <td>-0.000685</td>\n",
       "      <td>0.039366</td>\n",
       "      <td>0.001855</td>\n",
       "      <td>-0.006813</td>\n",
       "      <td>-0.006401</td>\n",
       "    </tr>\n",
       "    <tr>\n",
       "      <th>2020-01-08 00:00:00-05:00</th>\n",
       "      <td>0.005194</td>\n",
       "      <td>0.016117</td>\n",
       "      <td>0.016361</td>\n",
       "      <td>-0.001189</td>\n",
       "      <td>0.008405</td>\n",
       "      <td>0.007727</td>\n",
       "      <td>0.048852</td>\n",
       "      <td>-0.007746</td>\n",
       "      <td>-0.007689</td>\n",
       "      <td>0.005538</td>\n",
       "    </tr>\n",
       "    <tr>\n",
       "      <th>2020-01-09 00:00:00-05:00</th>\n",
       "      <td>0.006911</td>\n",
       "      <td>0.012177</td>\n",
       "      <td>0.021639</td>\n",
       "      <td>0.001191</td>\n",
       "      <td>0.003946</td>\n",
       "      <td>0.009246</td>\n",
       "      <td>-0.021541</td>\n",
       "      <td>0.004709</td>\n",
       "      <td>0.002431</td>\n",
       "      <td>-0.000225</td>\n",
       "    </tr>\n",
       "    <tr>\n",
       "      <th>...</th>\n",
       "      <td>...</td>\n",
       "      <td>...</td>\n",
       "      <td>...</td>\n",
       "      <td>...</td>\n",
       "      <td>...</td>\n",
       "      <td>...</td>\n",
       "      <td>...</td>\n",
       "      <td>...</td>\n",
       "      <td>...</td>\n",
       "      <td>...</td>\n",
       "    </tr>\n",
       "    <tr>\n",
       "      <th>2020-12-24 00:00:00-05:00</th>\n",
       "      <td>0.003788</td>\n",
       "      <td>0.007646</td>\n",
       "      <td>0.007865</td>\n",
       "      <td>0.001536</td>\n",
       "      <td>0.004918</td>\n",
       "      <td>0.002475</td>\n",
       "      <td>0.024273</td>\n",
       "      <td>-0.004886</td>\n",
       "      <td>0.003636</td>\n",
       "      <td>0.011332</td>\n",
       "    </tr>\n",
       "    <tr>\n",
       "      <th>2020-12-28 00:00:00-05:00</th>\n",
       "      <td>0.008580</td>\n",
       "      <td>0.010103</td>\n",
       "      <td>0.035912</td>\n",
       "      <td>-0.000284</td>\n",
       "      <td>0.010977</td>\n",
       "      <td>0.009318</td>\n",
       "      <td>0.003189</td>\n",
       "      <td>0.035571</td>\n",
       "      <td>0.001252</td>\n",
       "      <td>0.009766</td>\n",
       "    </tr>\n",
       "    <tr>\n",
       "      <th>2020-12-29 00:00:00-05:00</th>\n",
       "      <td>-0.001842</td>\n",
       "      <td>-0.002978</td>\n",
       "      <td>-0.013165</td>\n",
       "      <td>0.000455</td>\n",
       "      <td>-0.002533</td>\n",
       "      <td>-0.002249</td>\n",
       "      <td>0.003329</td>\n",
       "      <td>0.011191</td>\n",
       "      <td>-0.001250</td>\n",
       "      <td>-0.004581</td>\n",
       "    </tr>\n",
       "    <tr>\n",
       "      <th>2020-12-30 00:00:00-05:00</th>\n",
       "      <td>0.001201</td>\n",
       "      <td>-0.011637</td>\n",
       "      <td>-0.008968</td>\n",
       "      <td>0.000454</td>\n",
       "      <td>0.000181</td>\n",
       "      <td>-0.000356</td>\n",
       "      <td>0.043139</td>\n",
       "      <td>-0.010498</td>\n",
       "      <td>0.002108</td>\n",
       "      <td>0.010227</td>\n",
       "    </tr>\n",
       "    <tr>\n",
       "      <th>2020-12-31 00:00:00-05:00</th>\n",
       "      <td>0.005148</td>\n",
       "      <td>0.003113</td>\n",
       "      <td>-0.008525</td>\n",
       "      <td>0.001192</td>\n",
       "      <td>0.017141</td>\n",
       "      <td>0.001899</td>\n",
       "      <td>0.015114</td>\n",
       "      <td>-0.008960</td>\n",
       "      <td>0.001315</td>\n",
       "      <td>0.008807</td>\n",
       "    </tr>\n",
       "  </tbody>\n",
       "</table>\n",
       "<p>252 rows × 10 columns</p>\n",
       "</div>"
      ],
      "text/plain": [
       "                                VOO      MSFT      AAPL       BND       AMT  \\\n",
       "time                                                                          \n",
       "2020-01-03 00:00:00-05:00 -0.007338 -0.013314 -0.010646  0.003334  0.000569   \n",
       "2020-01-06 00:00:00-05:00  0.003747  0.002711  0.008070 -0.001187 -0.000525   \n",
       "2020-01-07 00:00:00-05:00 -0.002825 -0.008930 -0.005037 -0.001069 -0.021137   \n",
       "2020-01-08 00:00:00-05:00  0.005194  0.016117  0.016361 -0.001189  0.008405   \n",
       "2020-01-09 00:00:00-05:00  0.006911  0.012177  0.021639  0.001191  0.003946   \n",
       "...                             ...       ...       ...       ...       ...   \n",
       "2020-12-24 00:00:00-05:00  0.003788  0.007646  0.007865  0.001536  0.004918   \n",
       "2020-12-28 00:00:00-05:00  0.008580  0.010103  0.035912 -0.000284  0.010977   \n",
       "2020-12-29 00:00:00-05:00 -0.001842 -0.002978 -0.013165  0.000455 -0.002533   \n",
       "2020-12-30 00:00:00-05:00  0.001201 -0.011637 -0.008968  0.000454  0.000181   \n",
       "2020-12-31 00:00:00-05:00  0.005148  0.003113 -0.008525  0.001192  0.017141   \n",
       "\n",
       "                                VUG      TSLA      AMZN       EDV       PLD  \n",
       "time                                                                         \n",
       "2020-01-03 00:00:00-05:00 -0.006224  0.029077 -0.012004  0.019591  0.011197  \n",
       "2020-01-06 00:00:00-05:00  0.006100  0.019537  0.015147 -0.005288 -0.004026  \n",
       "2020-01-07 00:00:00-05:00 -0.000685  0.039366  0.001855 -0.006813 -0.006401  \n",
       "2020-01-08 00:00:00-05:00  0.007727  0.048852 -0.007746 -0.007689  0.005538  \n",
       "2020-01-09 00:00:00-05:00  0.009246 -0.021541  0.004709  0.002431 -0.000225  \n",
       "...                             ...       ...       ...       ...       ...  \n",
       "2020-12-24 00:00:00-05:00  0.002475  0.024273 -0.004886  0.003636  0.011332  \n",
       "2020-12-28 00:00:00-05:00  0.009318  0.003189  0.035571  0.001252  0.009766  \n",
       "2020-12-29 00:00:00-05:00 -0.002249  0.003329  0.011191 -0.001250 -0.004581  \n",
       "2020-12-30 00:00:00-05:00 -0.000356  0.043139 -0.010498  0.002108  0.010227  \n",
       "2020-12-31 00:00:00-05:00  0.001899  0.015114 -0.008960  0.001315  0.008807  \n",
       "\n",
       "[252 rows x 10 columns]"
      ]
     },
     "metadata": {},
     "execution_count": 11
    }
   ],
   "metadata": {}
  },
  {
   "cell_type": "markdown",
   "source": [
    "### Calculate Aggregate Daily Returns for Portfolio"
   ],
   "metadata": {}
  },
  {
   "cell_type": "code",
   "execution_count": 12,
   "source": [
    "# Calculate the daily returns for of the Stock Portfolio\r\n",
    "diversified_daily_returns_df = diversified_closing_prices_df.sum(axis=1).pct_change().dropna()\r\n",
    "diversified_daily_returns_df"
   ],
   "outputs": [
    {
     "output_type": "execute_result",
     "data": {
      "text/plain": [
       "time\n",
       "2020-01-03 00:00:00-05:00   -0.003934\n",
       "2020-01-06 00:00:00-05:00    0.010770\n",
       "2020-01-07 00:00:00-05:00    0.002872\n",
       "2020-01-08 00:00:00-05:00    0.005150\n",
       "2020-01-09 00:00:00-05:00    0.003079\n",
       "                               ...   \n",
       "2020-12-24 00:00:00-05:00    0.001422\n",
       "2020-12-28 00:00:00-05:00    0.024499\n",
       "2020-12-29 00:00:00-05:00    0.006246\n",
       "2020-12-30 00:00:00-05:00   -0.001497\n",
       "2020-12-31 00:00:00-05:00   -0.002221\n",
       "Length: 252, dtype: float64"
      ]
     },
     "metadata": {},
     "execution_count": 12
    }
   ],
   "metadata": {}
  },
  {
   "cell_type": "markdown",
   "source": [
    "### Plot the Aggregated Daily Returns"
   ],
   "metadata": {}
  },
  {
   "cell_type": "code",
   "execution_count": 13,
   "source": [
    "# Plot daily returns for the stocks portfolio\r\n",
    "diversified_daily_returns_df.plot(figsize=(15,10), title=\"Daily Returns - Diversified Portfolio (Jan. 2020 - Jan. 2021)\")"
   ],
   "outputs": [
    {
     "output_type": "execute_result",
     "data": {
      "text/plain": [
       "<AxesSubplot:title={'center':'Daily Returns - Diversified Portfolio (Jan. 2020 - Jan. 2021)'}, xlabel='time'>"
      ]
     },
     "metadata": {},
     "execution_count": 13
    },
    {
     "output_type": "display_data",
     "data": {
      "image/png": "[encoded data removed]",
      "text/plain": [
       "<Figure size 1080x720 with 1 Axes>"
      ]
     },
     "metadata": {
      "needs_background": "light"
     }
    }
   ],
   "metadata": {}
  },
  {
   "cell_type": "markdown",
   "source": [
    "## Calculate the Cumulative Returns of the Portfolio"
   ],
   "metadata": {}
  },
  {
   "cell_type": "code",
   "execution_count": 14,
   "source": [
    "# Calculate Cumulative Returns for Diversified Portfolio\r\n",
    "diversified_cumulative_returns_df = (1 + diversified_daily_returns_df).cumprod() - 1\r\n",
    "diversified_cumulative_returns_df"
   ],
   "outputs": [
    {
     "output_type": "execute_result",
     "data": {
      "text/plain": [
       "time\n",
       "2020-01-03 00:00:00-05:00   -0.003934\n",
       "2020-01-06 00:00:00-05:00    0.006794\n",
       "2020-01-07 00:00:00-05:00    0.009685\n",
       "2020-01-08 00:00:00-05:00    0.014885\n",
       "2020-01-09 00:00:00-05:00    0.018010\n",
       "                               ...   \n",
       "2020-12-24 00:00:00-05:00    0.401707\n",
       "2020-12-28 00:00:00-05:00    0.436047\n",
       "2020-12-29 00:00:00-05:00    0.445016\n",
       "2020-12-30 00:00:00-05:00    0.442854\n",
       "2020-12-31 00:00:00-05:00    0.439649\n",
       "Length: 252, dtype: float64"
      ]
     },
     "metadata": {},
     "execution_count": 14
    }
   ],
   "metadata": {}
  },
  {
   "cell_type": "markdown",
   "source": [
    "### Plot Cumulative Returns for Portfolio"
   ],
   "metadata": {}
  },
  {
   "cell_type": "code",
   "execution_count": 15,
   "source": [
    "# Plot Cumulative Returns for Diversified Portfolio\r\n",
    "diversified_cumulative_returns_df.plot(figsize=(15,10), title=\"Cumulative Returns - Diversified Portfolio (Jan. 2020 - Jan. 2021)\")"
   ],
   "outputs": [
    {
     "output_type": "execute_result",
     "data": {
      "text/plain": [
       "<AxesSubplot:title={'center':'Cumulative Returns - Diversified Portfolio (Jan. 2020 - Jan. 2021)'}, xlabel='time'>"
      ]
     },
     "metadata": {},
     "execution_count": 15
    },
    {
     "output_type": "display_data",
     "data": {
      "image/png": "[encoded data removed]",
      "text/plain": [
       "<Figure size 1080x720 with 1 Axes>"
      ]
     },
     "metadata": {
      "needs_background": "light"
     }
    }
   ],
   "metadata": {}
  },
  {
   "cell_type": "markdown",
   "source": [
    "## Set Up and Run Monte Carlo Simulation for 10 Years"
   ],
   "metadata": {}
  },
  {
   "cell_type": "code",
   "execution_count": null,
   "source": [
    "# Set up Monte Carlo Simulation for a 10 year time period with a $10,000 initial investment\r\n",
    "MC_diversified_ten_year = MCSimulation(\r\n",
    "  portfolio_data=diversified_prices_df,\r\n",
    "  num_simulation=1000,\r\n",
    "  num_trading_days=252 * 10\r\n",
    ")\r\n",
    "\r\n",
    "MC_diversified_ten_year.portfolio_data.head()"
   ],
   "outputs": [],
   "metadata": {}
  },
  {
   "cell_type": "markdown",
   "source": [
    "### Run the MC Simulation for 10 Years"
   ],
   "metadata": {}
  },
  {
   "cell_type": "code",
   "execution_count": null,
   "source": [
    "# Run the Monte Carlo simulation to forecast 10 years cumulative returns\r\n",
    "MC_diversified_ten_year.calc_cumulative_return()"
   ],
   "outputs": [],
   "metadata": {}
  },
  {
   "cell_type": "markdown",
   "source": [
    "### Plot the MC 10 Year Simulation Visualization"
   ],
   "metadata": {}
  },
  {
   "cell_type": "code",
   "execution_count": null,
   "source": [
    "# Visualize the 10-year Monte Carlo simulation by creating an\r\n",
    "# overlay line plot for the diversified portfolio\r\n",
    "MC_diversified_ten_year.plot_simulation()"
   ],
   "outputs": [],
   "metadata": {}
  },
  {
   "cell_type": "markdown",
   "source": [
    "### Plot the MC 10 Year Simulation Distribution Visualization "
   ],
   "metadata": {}
  },
  {
   "cell_type": "code",
   "execution_count": null,
   "source": [
    "# Visualize the probability distribution of the 10-year Monte Carlo simulation \r\n",
    "# by plotting a histogram\r\n",
    "MC_diversified_ten_year.plot_distribution()"
   ],
   "outputs": [],
   "metadata": {}
  },
  {
   "cell_type": "markdown",
   "source": [
    "### Generate MC 10 Year Simulation Summary Statistics"
   ],
   "metadata": {}
  },
  {
   "cell_type": "code",
   "execution_count": null,
   "source": [
    "# Generate summary statistics from the 10-year Monte Carlo simulation results\r\n",
    "# Save the results as a variable\r\n",
    "MC_diversified_ten_year_summary_statistics = MC_diversified_ten_year.summarize_cumulative_return()\r\n",
    "\r\n",
    "# Review the 30-year Monte Carlo summary statistics\r\n",
    "print(MC_diversified_ten_year_summary_statistics)"
   ],
   "outputs": [],
   "metadata": {}
  },
  {
   "cell_type": "markdown",
   "source": [
    "### Calculate the Confidence Intervals to the 95% for the 10 year Simulation on a $10,000 initial investment"
   ],
   "metadata": {}
  },
  {
   "cell_type": "code",
   "execution_count": null,
   "source": [
    "# Calculate the 10-year confidence interval lower and upper projections for a $10,000 initial investment\r\n",
    "diversified_ten_year_lower_ci = round(MC_diversified_ten_year_summary_statistics[8]*10000, 2)\r\n",
    "diversified_ten_year_upper_ci = round(MC_diversified_ten_year_summary_statistics[9]*10000, 2)\r\n",
    "\r\n",
    "print(f\"With a 95% confidence interval, an initial investment of $10,000 in our Stocks Portfolio for 5 years, will be in the range of ${diversified_ten_year_lower_ci} and ${diversified_ten_year_upper_ci}\")"
   ],
   "outputs": [],
   "metadata": {}
  },
  {
   "cell_type": "markdown",
   "source": [
    "## Set Up and Run Monte Carlo Simulation for 30 Years"
   ],
   "metadata": {}
  },
  {
   "cell_type": "code",
   "execution_count": null,
   "source": [
    "# Set up Monte Carlo Simulation for a 30 year time period with a $10,000 initial investment in our Diversified Portfolio\r\n",
    "MC_diversified_thirty_year = MCSimulation(\r\n",
    "  portfolio_data=diversified_prices_df,\r\n",
    "  num_simulation=1000,\r\n",
    "  num_trading_days=252 * 30\r\n",
    ")\r\n",
    "\r\n",
    "MC_diversified_thirty_year.portfolio_data.head()"
   ],
   "outputs": [],
   "metadata": {}
  },
  {
   "cell_type": "markdown",
   "source": [
    "### Run the MC Simulation for 30 Years"
   ],
   "metadata": {}
  },
  {
   "cell_type": "code",
   "execution_count": null,
   "source": [
    "# Run the Monte Carlo simulation to forecast 30 years cumulative returns for our Diversified Portfolio\r\n",
    "MC_diversified_thirty_year.calc_cumulative_return()"
   ],
   "outputs": [],
   "metadata": {}
  },
  {
   "cell_type": "markdown",
   "source": [
    "### Plot the MC 30 Year Simulation Visualization"
   ],
   "metadata": {}
  },
  {
   "cell_type": "code",
   "execution_count": null,
   "source": [
    "# Visualize the 30-year Monte Carlo simulation by creating an\r\n",
    "# overlay line plot\r\n",
    "MC_diversified_thirty_year.plot_simulation()"
   ],
   "outputs": [],
   "metadata": {}
  },
  {
   "cell_type": "markdown",
   "source": [
    "### Plot the MC 30 Year Simulation Distribution Visualization"
   ],
   "metadata": {}
  },
  {
   "cell_type": "code",
   "execution_count": null,
   "source": [
    "# Visualize the probability distribution of the 30-year Monte Carlo simulation \r\n",
    "# by plotting a histogram\r\n",
    "MC_diversified_thirty_year.plot_distribution()"
   ],
   "outputs": [],
   "metadata": {}
  },
  {
   "cell_type": "markdown",
   "source": [
    "### Generate MC 30 Year Simulation Summary Statistics"
   ],
   "metadata": {}
  },
  {
   "cell_type": "code",
   "execution_count": null,
   "source": [
    "# Generate summary statistics from the 30-year Monte Carlo simulation results\r\n",
    "# Save the results as a variable\r\n",
    "MC_diversified_thirty_year_summary_statistics = MC_diversified_thirty_year.summarize_cumulative_return()\r\n",
    "\r\n",
    "# Review the 30-year Monte Carlo summary statistics\r\n",
    "print(MC_diversified_thirty_year_summary_statistics)"
   ],
   "outputs": [],
   "metadata": {}
  },
  {
   "cell_type": "markdown",
   "source": [
    "### Calculate the Confidence Intervals to the 95% for the 30 year Simulation on a $10,000 initial investment"
   ],
   "metadata": {}
  },
  {
   "cell_type": "code",
   "execution_count": null,
   "source": [
    "# Calculate the 10-year confidence interval lower and upper projections for a $10,000 initial investment\r\n",
    "diversified_thirty_year_lower_ci = round(MC_diversified_thirty_year_summary_statistics[8]*10000, 2)\r\n",
    "diversified_thirty_year_upper_ci = round(MC_diversified_thirty_year_summary_statistics[9]*10000, 2)\r\n",
    "\r\n",
    "print(f\"With a 95% confidence interval, an initial investment of $10,000 in our Stocks Portfolio for 5 years, will be in the range of ${diversified_thirty_year_lower_ci} and ${diversified_thirty_year_upper_ci}\")"
   ],
   "outputs": [],
   "metadata": {}
  },
  {
   "cell_type": "markdown",
   "source": [
    "## Calculate the Standard Deviation & Annualized Standard Deviation for Our Stock Portfolio"
   ],
   "metadata": {}
  },
  {
   "cell_type": "code",
   "execution_count": null,
   "source": [
    "# Calculate Standard Deviation for our Stock Portfolio\r\n",
    "diversified_standard_deviation = per_diversified_daily_returns.std()\r\n",
    "diversified_standard_deviation = diversified_standard_deviation.sort_values()\r\n",
    "diversified_standard_deviation"
   ],
   "outputs": [],
   "metadata": {}
  },
  {
   "cell_type": "markdown",
   "source": [
    "### Calculate Annualized Standard Deviation"
   ],
   "metadata": {}
  },
  {
   "cell_type": "code",
   "execution_count": null,
   "source": [
    "# Calculate Annualized Standard Deviation for our Stock Portfolio\r\n",
    "diversified_annualized_standard_deviation = diversified_standard_deviation * np.sqrt(252)\r\n",
    "diversified_annualized_standard_deviation = diversified_annualized_standard_deviation.sort_values()\r\n",
    "diversified_annualized_standard_deviation"
   ],
   "outputs": [],
   "metadata": {}
  },
  {
   "cell_type": "markdown",
   "source": [
    "## Calculate the Sharpe Ratio for our Stock Portfolio"
   ],
   "metadata": {}
  },
  {
   "cell_type": "markdown",
   "source": [
    "### Calculate the Annualized Returns"
   ],
   "metadata": {}
  },
  {
   "cell_type": "code",
   "execution_count": null,
   "source": [
    "# Calculate the Annualized Returns for our Stock Portfolio \r\n",
    "diversified_annualized_returns = per_diversified_daily_returns.mean() * 252\r\n",
    "diversified_annualized_returns = diversified_annualized_returns.sort_values()\r\n",
    "diversified_annualized_returns"
   ],
   "outputs": [],
   "metadata": {}
  },
  {
   "cell_type": "markdown",
   "source": [
    "### Calculate the Sharpe Ratio"
   ],
   "metadata": {}
  },
  {
   "cell_type": "code",
   "execution_count": null,
   "source": [
    "# Calculate the Sharpe Ratio for Our Stock Portfolio\r\n",
    "diversified_portfolio_sharpe_ratio = diversified_annualized_returns / diversified_annualized_standard_deviation\r\n",
    "diversified_portfolio_sharpe_ratio = diversified_portfolio_sharpe_ratio.sort_values()\r\n",
    "diversified_portfolio_sharpe_ratio"
   ],
   "outputs": [],
   "metadata": {}
  },
  {
   "cell_type": "markdown",
   "source": [
    "### Calculate the Overall Sharpe Ratio for our Diversified Portfolio"
   ],
   "metadata": {}
  },
  {
   "cell_type": "code",
   "execution_count": null,
   "source": [
    "# Calculate the Average Sharpe Ratio for our Diversified Portfolio\r\n",
    "diversified_portfolio_average_sharpe_ratio = diversified_portfolio_sharpe_ratio.mean()\r\n",
    "print(f\"{diversified_portfolio_average_sharpe_ratio: .3f}\")"
   ],
   "outputs": [],
   "metadata": {}
  }
 ],
 "metadata": {
  "orig_nbformat": 4,
  "language_info": {
   "name": "python",
   "version": "3.7.10",
   "mimetype": "text/x-python",
   "codemirror_mode": {
    "name": "ipython",
    "version": 3
   },
   "pygments_lexer": "ipython3",
   "nbconvert_exporter": "python",
   "file_extension": ".py"
  },
  "kernelspec": {
   "name": "python3",
   "display_name": "Python 3.7.10 64-bit ('dev': conda)"
  },
  "interpreter": {
   "hash": "ad9fb37fa15c2fac4885b853501abc8587965d08b8586f67468c92fe4e3567d7"
  }
 },
 "nbformat": 4,
 "nbformat_minor": 2
}