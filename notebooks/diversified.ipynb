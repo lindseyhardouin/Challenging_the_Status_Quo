{
 "cells": [
  {
   "cell_type": "markdown",
   "source": [
    "# Diversified Portfolio Notebook"
   ],
   "metadata": {}
  },
  {
   "cell_type": "markdown",
   "source": [
    "## Set Up and Execute Alapaca SDK Request"
   ],
   "metadata": {}
  },
  {
   "cell_type": "markdown",
   "source": [
    "### Importing the Required Libraries"
   ],
   "metadata": {}
  },
  {
   "cell_type": "code",
   "execution_count": 1,
   "source": [
    "# Import Required Libraries\r\n",
    "\r\n",
    "import os\r\n",
    "import requests\r\n",
    "import pandas as pd\r\n",
    "from dotenv import load_dotenv\r\n",
    "import alpaca_trade_api as tradeapi\r\n",
    "from MCForecastTools import MCSimulation\r\n",
    "\r\n",
    "%matplotlib inline"
   ],
   "outputs": [],
   "metadata": {}
  },
  {
   "cell_type": "markdown",
   "source": [
    "### Loading the .env file"
   ],
   "metadata": {}
  },
  {
   "cell_type": "code",
   "execution_count": 2,
   "source": [
    "# Make sure dotenv is loaded\r\n",
    "load_dotenv()"
   ],
   "outputs": [
    {
     "output_type": "execute_result",
     "data": {
      "text/plain": [
       "True"
      ]
     },
     "metadata": {},
     "execution_count": 2
    }
   ],
   "metadata": {}
  },
  {
   "cell_type": "markdown",
   "source": [
    "### Alpaca API and Secret Key Variables"
   ],
   "metadata": {}
  },
  {
   "cell_type": "code",
   "execution_count": 3,
   "source": [
    "# Create Alpaca key variables to call from .env() file\r\n",
    "alpaca_api_key = os.getenv(\"ALPACA_API_KEY\")\r\n",
    "alpaca_secret_key = os.getenv(\"ALPACA_SECRET_KEY\")\r\n",
    "\r\n",
    "display(type(alpaca_api_key))\r\n",
    "display(type(alpaca_secret_key))"
   ],
   "outputs": [
    {
     "output_type": "display_data",
     "data": {
      "text/plain": [
       "str"
      ]
     },
     "metadata": {}
    },
    {
     "output_type": "display_data",
     "data": {
      "text/plain": [
       "str"
      ]
     },
     "metadata": {}
    }
   ],
   "metadata": {}
  },
  {
   "cell_type": "markdown",
   "source": [
    "### Create the ALpaca REST Object"
   ],
   "metadata": {}
  },
  {
   "cell_type": "code",
   "execution_count": 4,
   "source": [
    "# Create our Alpaca REST object\r\n",
    "alpaca = tradeapi.REST(\r\n",
    "  alpaca_api_key,\r\n",
    "  alpaca_secret_key,\r\n",
    "  api_version=\"v2\"\r\n",
    ")\r\n",
    "\r\n",
    "alpaca"
   ],
   "outputs": [
    {
     "output_type": "execute_result",
     "data": {
      "text/plain": [
       "<alpaca_trade_api.rest.REST at 0x16eca5a8ec8>"
      ]
     },
     "metadata": {},
     "execution_count": 4
    }
   ],
   "metadata": {}
  },
  {
   "cell_type": "markdown",
   "source": [
    "### Set the Start and End Dates"
   ],
   "metadata": {}
  },
  {
   "cell_type": "code",
   "execution_count": 5,
   "source": [
    "# Set the start and end dates for the information we want to pull from Alpaca\r\n",
    "start_date = pd.Timestamp(\"2020-01-02\", tz=\"America/New_York\").isoformat()\r\n",
    "end_date = pd.Timestamp(\"2021-11-02\", tz=\"America/New_York\").isoformat()"
   ],
   "outputs": [],
   "metadata": {}
  },
  {
   "cell_type": "markdown",
   "source": [
    "### Set the Tickers for Alpaca to Fetch"
   ],
   "metadata": {}
  },
  {
   "cell_type": "code",
   "execution_count": 6,
   "source": [
    "# Set the list of tickers we want the Alpaca request to fetch\r\n",
    "tickers = [\"VOO\", \"MSFT\", \"AAPL\", \"BND\", \"AMT\", \"VUG\", \"TSLA\", \"AMZN\", \"EDV\", \"PLD\"]"
   ],
   "outputs": [],
   "metadata": {}
  },
  {
   "cell_type": "markdown",
   "source": [
    "### Set the Timeframe for the Alpaca Request"
   ],
   "metadata": {}
  },
  {
   "cell_type": "code",
   "execution_count": 7,
   "source": [
    "# Set the timeframe of collection. We just need the a daily price point\r\n",
    "timeframe = \"1D\""
   ],
   "outputs": [],
   "metadata": {}
  },
  {
   "cell_type": "markdown",
   "source": [
    "### Create the Request for Alpaca Using get_barset()"
   ],
   "metadata": {}
  },
  {
   "cell_type": "code",
   "execution_count": 8,
   "source": [
    "# Create the request of the data to fetch via the Alpaca SDK\r\n",
    "diversified_prices_df = alpaca.get_barset(\r\n",
    "  tickers,\r\n",
    "  timeframe,\r\n",
    "  limit=1000,\r\n",
    "  start=start_date,\r\n",
    "  end=end_date\r\n",
    ").df\r\n",
    "\r\n",
    "diversified_prices_df"
   ],
   "outputs": [
    {
     "output_type": "execute_result",
     "data": {
      "text/html": [
       "<div>\n",
       "<style scoped>\n",
       "    .dataframe tbody tr th:only-of-type {\n",
       "        vertical-align: middle;\n",
       "    }\n",
       "\n",
       "    .dataframe tbody tr th {\n",
       "        vertical-align: top;\n",
       "    }\n",
       "\n",
       "    .dataframe thead tr th {\n",
       "        text-align: left;\n",
       "    }\n",
       "\n",
       "    .dataframe thead tr:last-of-type th {\n",
       "        text-align: right;\n",
       "    }\n",
       "</style>\n",
       "<table border=\"1\" class=\"dataframe\">\n",
       "  <thead>\n",
       "    <tr>\n",
       "      <th></th>\n",
       "      <th colspan=\"5\" halign=\"left\">AAPL</th>\n",
       "      <th colspan=\"5\" halign=\"left\">AMT</th>\n",
       "      <th>...</th>\n",
       "      <th colspan=\"5\" halign=\"left\">VOO</th>\n",
       "      <th colspan=\"5\" halign=\"left\">VUG</th>\n",
       "    </tr>\n",
       "    <tr>\n",
       "      <th></th>\n",
       "      <th>open</th>\n",
       "      <th>high</th>\n",
       "      <th>low</th>\n",
       "      <th>close</th>\n",
       "      <th>volume</th>\n",
       "      <th>open</th>\n",
       "      <th>high</th>\n",
       "      <th>low</th>\n",
       "      <th>close</th>\n",
       "      <th>volume</th>\n",
       "      <th>...</th>\n",
       "      <th>open</th>\n",
       "      <th>high</th>\n",
       "      <th>low</th>\n",
       "      <th>close</th>\n",
       "      <th>volume</th>\n",
       "      <th>open</th>\n",
       "      <th>high</th>\n",
       "      <th>low</th>\n",
       "      <th>close</th>\n",
       "      <th>volume</th>\n",
       "    </tr>\n",
       "    <tr>\n",
       "      <th>time</th>\n",
       "      <th></th>\n",
       "      <th></th>\n",
       "      <th></th>\n",
       "      <th></th>\n",
       "      <th></th>\n",
       "      <th></th>\n",
       "      <th></th>\n",
       "      <th></th>\n",
       "      <th></th>\n",
       "      <th></th>\n",
       "      <th></th>\n",
       "      <th></th>\n",
       "      <th></th>\n",
       "      <th></th>\n",
       "      <th></th>\n",
       "      <th></th>\n",
       "      <th></th>\n",
       "      <th></th>\n",
       "      <th></th>\n",
       "      <th></th>\n",
       "      <th></th>\n",
       "    </tr>\n",
       "  </thead>\n",
       "  <tbody>\n",
       "    <tr>\n",
       "      <th>2020-01-02 00:00:00-05:00</th>\n",
       "      <td>296.240</td>\n",
       "      <td>300.6000</td>\n",
       "      <td>295.1900</td>\n",
       "      <td>300.5800</td>\n",
       "      <td>30589026</td>\n",
       "      <td>229.68</td>\n",
       "      <td>231.1499</td>\n",
       "      <td>228.0051</td>\n",
       "      <td>228.50</td>\n",
       "      <td>1205047</td>\n",
       "      <td>...</td>\n",
       "      <td>297.29</td>\n",
       "      <td>298.450</td>\n",
       "      <td>296.3400</td>\n",
       "      <td>298.440</td>\n",
       "      <td>3098524</td>\n",
       "      <td>183.57</td>\n",
       "      <td>184.7600</td>\n",
       "      <td>183.0900</td>\n",
       "      <td>184.7600</td>\n",
       "      <td>1055649.0</td>\n",
       "    </tr>\n",
       "    <tr>\n",
       "      <th>2020-01-03 00:00:00-05:00</th>\n",
       "      <td>297.150</td>\n",
       "      <td>300.5800</td>\n",
       "      <td>296.5000</td>\n",
       "      <td>297.3800</td>\n",
       "      <td>31609363</td>\n",
       "      <td>227.56</td>\n",
       "      <td>229.8300</td>\n",
       "      <td>227.0000</td>\n",
       "      <td>228.63</td>\n",
       "      <td>1293710</td>\n",
       "      <td>...</td>\n",
       "      <td>295.22</td>\n",
       "      <td>297.360</td>\n",
       "      <td>295.0400</td>\n",
       "      <td>296.250</td>\n",
       "      <td>2956475</td>\n",
       "      <td>182.50</td>\n",
       "      <td>184.4389</td>\n",
       "      <td>182.3700</td>\n",
       "      <td>183.6100</td>\n",
       "      <td>903194.0</td>\n",
       "    </tr>\n",
       "    <tr>\n",
       "      <th>2020-01-06 00:00:00-05:00</th>\n",
       "      <td>293.790</td>\n",
       "      <td>299.9600</td>\n",
       "      <td>292.7500</td>\n",
       "      <td>299.7800</td>\n",
       "      <td>27487207</td>\n",
       "      <td>228.48</td>\n",
       "      <td>230.0000</td>\n",
       "      <td>227.8922</td>\n",
       "      <td>228.51</td>\n",
       "      <td>1077776</td>\n",
       "      <td>...</td>\n",
       "      <td>294.42</td>\n",
       "      <td>297.420</td>\n",
       "      <td>294.3500</td>\n",
       "      <td>297.360</td>\n",
       "      <td>2645636</td>\n",
       "      <td>182.33</td>\n",
       "      <td>184.7800</td>\n",
       "      <td>182.1700</td>\n",
       "      <td>184.7300</td>\n",
       "      <td>777690.0</td>\n",
       "    </tr>\n",
       "    <tr>\n",
       "      <th>2020-01-07 00:00:00-05:00</th>\n",
       "      <td>299.840</td>\n",
       "      <td>300.9000</td>\n",
       "      <td>297.4800</td>\n",
       "      <td>298.2700</td>\n",
       "      <td>24353387</td>\n",
       "      <td>227.13</td>\n",
       "      <td>227.5700</td>\n",
       "      <td>221.6200</td>\n",
       "      <td>223.68</td>\n",
       "      <td>1159574</td>\n",
       "      <td>...</td>\n",
       "      <td>296.82</td>\n",
       "      <td>297.270</td>\n",
       "      <td>296.0611</td>\n",
       "      <td>296.520</td>\n",
       "      <td>1854570</td>\n",
       "      <td>184.69</td>\n",
       "      <td>185.2300</td>\n",
       "      <td>184.2150</td>\n",
       "      <td>184.6035</td>\n",
       "      <td>911559.0</td>\n",
       "    </tr>\n",
       "    <tr>\n",
       "      <th>2020-01-08 00:00:00-05:00</th>\n",
       "      <td>297.160</td>\n",
       "      <td>304.4399</td>\n",
       "      <td>297.1560</td>\n",
       "      <td>303.1500</td>\n",
       "      <td>28984028</td>\n",
       "      <td>223.48</td>\n",
       "      <td>226.4850</td>\n",
       "      <td>222.7900</td>\n",
       "      <td>225.56</td>\n",
       "      <td>963541</td>\n",
       "      <td>...</td>\n",
       "      <td>296.71</td>\n",
       "      <td>299.310</td>\n",
       "      <td>296.5000</td>\n",
       "      <td>298.060</td>\n",
       "      <td>3358222</td>\n",
       "      <td>184.72</td>\n",
       "      <td>186.8500</td>\n",
       "      <td>184.5400</td>\n",
       "      <td>186.0300</td>\n",
       "      <td>633410.0</td>\n",
       "    </tr>\n",
       "    <tr>\n",
       "      <th>...</th>\n",
       "      <td>...</td>\n",
       "      <td>...</td>\n",
       "      <td>...</td>\n",
       "      <td>...</td>\n",
       "      <td>...</td>\n",
       "      <td>...</td>\n",
       "      <td>...</td>\n",
       "      <td>...</td>\n",
       "      <td>...</td>\n",
       "      <td>...</td>\n",
       "      <td>...</td>\n",
       "      <td>...</td>\n",
       "      <td>...</td>\n",
       "      <td>...</td>\n",
       "      <td>...</td>\n",
       "      <td>...</td>\n",
       "      <td>...</td>\n",
       "      <td>...</td>\n",
       "      <td>...</td>\n",
       "      <td>...</td>\n",
       "      <td>...</td>\n",
       "    </tr>\n",
       "    <tr>\n",
       "      <th>2021-10-27 00:00:00-04:00</th>\n",
       "      <td>149.380</td>\n",
       "      <td>149.7300</td>\n",
       "      <td>148.4900</td>\n",
       "      <td>148.8500</td>\n",
       "      <td>43201783</td>\n",
       "      <td>288.22</td>\n",
       "      <td>291.1700</td>\n",
       "      <td>285.3100</td>\n",
       "      <td>285.38</td>\n",
       "      <td>1075895</td>\n",
       "      <td>...</td>\n",
       "      <td>419.66</td>\n",
       "      <td>420.290</td>\n",
       "      <td>417.2800</td>\n",
       "      <td>417.290</td>\n",
       "      <td>2689475</td>\n",
       "      <td>310.15</td>\n",
       "      <td>312.2920</td>\n",
       "      <td>309.5439</td>\n",
       "      <td>309.5700</td>\n",
       "      <td>577363.0</td>\n",
       "    </tr>\n",
       "    <tr>\n",
       "      <th>2021-10-28 00:00:00-04:00</th>\n",
       "      <td>149.860</td>\n",
       "      <td>153.1650</td>\n",
       "      <td>149.7200</td>\n",
       "      <td>152.4766</td>\n",
       "      <td>77772052</td>\n",
       "      <td>285.50</td>\n",
       "      <td>289.9900</td>\n",
       "      <td>282.8500</td>\n",
       "      <td>286.04</td>\n",
       "      <td>1162672</td>\n",
       "      <td>...</td>\n",
       "      <td>418.78</td>\n",
       "      <td>421.440</td>\n",
       "      <td>418.7500</td>\n",
       "      <td>421.315</td>\n",
       "      <td>3139789</td>\n",
       "      <td>310.99</td>\n",
       "      <td>312.7800</td>\n",
       "      <td>310.4500</td>\n",
       "      <td>312.6800</td>\n",
       "      <td>793656.0</td>\n",
       "    </tr>\n",
       "    <tr>\n",
       "      <th>2021-10-29 00:00:00-04:00</th>\n",
       "      <td>147.190</td>\n",
       "      <td>149.9400</td>\n",
       "      <td>146.4128</td>\n",
       "      <td>149.8000</td>\n",
       "      <td>104258290</td>\n",
       "      <td>284.23</td>\n",
       "      <td>284.9300</td>\n",
       "      <td>279.6400</td>\n",
       "      <td>281.71</td>\n",
       "      <td>1510135</td>\n",
       "      <td>...</td>\n",
       "      <td>419.15</td>\n",
       "      <td>422.515</td>\n",
       "      <td>418.8700</td>\n",
       "      <td>422.140</td>\n",
       "      <td>3983364</td>\n",
       "      <td>310.17</td>\n",
       "      <td>314.3850</td>\n",
       "      <td>309.8100</td>\n",
       "      <td>314.1900</td>\n",
       "      <td>537940.0</td>\n",
       "    </tr>\n",
       "    <tr>\n",
       "      <th>2021-11-01 00:00:00-04:00</th>\n",
       "      <td>148.985</td>\n",
       "      <td>149.7000</td>\n",
       "      <td>147.8000</td>\n",
       "      <td>148.9900</td>\n",
       "      <td>57758481</td>\n",
       "      <td>282.83</td>\n",
       "      <td>283.1600</td>\n",
       "      <td>276.4100</td>\n",
       "      <td>282.12</td>\n",
       "      <td>1197575</td>\n",
       "      <td>...</td>\n",
       "      <td>423.19</td>\n",
       "      <td>423.570</td>\n",
       "      <td>421.2800</td>\n",
       "      <td>423.010</td>\n",
       "      <td>3544932</td>\n",
       "      <td>314.71</td>\n",
       "      <td>314.8500</td>\n",
       "      <td>312.6800</td>\n",
       "      <td>314.3700</td>\n",
       "      <td>577782.0</td>\n",
       "    </tr>\n",
       "    <tr>\n",
       "      <th>2021-11-02 00:00:00-04:00</th>\n",
       "      <td>148.670</td>\n",
       "      <td>151.5700</td>\n",
       "      <td>148.6500</td>\n",
       "      <td>150.0000</td>\n",
       "      <td>61741508</td>\n",
       "      <td>282.81</td>\n",
       "      <td>285.2900</td>\n",
       "      <td>279.5100</td>\n",
       "      <td>282.65</td>\n",
       "      <td>1300858</td>\n",
       "      <td>...</td>\n",
       "      <td>423.15</td>\n",
       "      <td>424.960</td>\n",
       "      <td>423.0100</td>\n",
       "      <td>424.650</td>\n",
       "      <td>2754466</td>\n",
       "      <td>314.16</td>\n",
       "      <td>315.6700</td>\n",
       "      <td>314.0100</td>\n",
       "      <td>315.2500</td>\n",
       "      <td>640526.0</td>\n",
       "    </tr>\n",
       "  </tbody>\n",
       "</table>\n",
       "<p>464 rows × 50 columns</p>\n",
       "</div>"
      ],
      "text/plain": [
       "                              AAPL                                           \\\n",
       "                              open      high       low     close     volume   \n",
       "time                                                                          \n",
       "2020-01-02 00:00:00-05:00  296.240  300.6000  295.1900  300.5800   30589026   \n",
       "2020-01-03 00:00:00-05:00  297.150  300.5800  296.5000  297.3800   31609363   \n",
       "2020-01-06 00:00:00-05:00  293.790  299.9600  292.7500  299.7800   27487207   \n",
       "2020-01-07 00:00:00-05:00  299.840  300.9000  297.4800  298.2700   24353387   \n",
       "2020-01-08 00:00:00-05:00  297.160  304.4399  297.1560  303.1500   28984028   \n",
       "...                            ...       ...       ...       ...        ...   \n",
       "2021-10-27 00:00:00-04:00  149.380  149.7300  148.4900  148.8500   43201783   \n",
       "2021-10-28 00:00:00-04:00  149.860  153.1650  149.7200  152.4766   77772052   \n",
       "2021-10-29 00:00:00-04:00  147.190  149.9400  146.4128  149.8000  104258290   \n",
       "2021-11-01 00:00:00-04:00  148.985  149.7000  147.8000  148.9900   57758481   \n",
       "2021-11-02 00:00:00-04:00  148.670  151.5700  148.6500  150.0000   61741508   \n",
       "\n",
       "                              AMT                                       ...  \\\n",
       "                             open      high       low   close   volume  ...   \n",
       "time                                                                    ...   \n",
       "2020-01-02 00:00:00-05:00  229.68  231.1499  228.0051  228.50  1205047  ...   \n",
       "2020-01-03 00:00:00-05:00  227.56  229.8300  227.0000  228.63  1293710  ...   \n",
       "2020-01-06 00:00:00-05:00  228.48  230.0000  227.8922  228.51  1077776  ...   \n",
       "2020-01-07 00:00:00-05:00  227.13  227.5700  221.6200  223.68  1159574  ...   \n",
       "2020-01-08 00:00:00-05:00  223.48  226.4850  222.7900  225.56   963541  ...   \n",
       "...                           ...       ...       ...     ...      ...  ...   \n",
       "2021-10-27 00:00:00-04:00  288.22  291.1700  285.3100  285.38  1075895  ...   \n",
       "2021-10-28 00:00:00-04:00  285.50  289.9900  282.8500  286.04  1162672  ...   \n",
       "2021-10-29 00:00:00-04:00  284.23  284.9300  279.6400  281.71  1510135  ...   \n",
       "2021-11-01 00:00:00-04:00  282.83  283.1600  276.4100  282.12  1197575  ...   \n",
       "2021-11-02 00:00:00-04:00  282.81  285.2900  279.5100  282.65  1300858  ...   \n",
       "\n",
       "                              VOO                                       \\\n",
       "                             open     high       low    close   volume   \n",
       "time                                                                     \n",
       "2020-01-02 00:00:00-05:00  297.29  298.450  296.3400  298.440  3098524   \n",
       "2020-01-03 00:00:00-05:00  295.22  297.360  295.0400  296.250  2956475   \n",
       "2020-01-06 00:00:00-05:00  294.42  297.420  294.3500  297.360  2645636   \n",
       "2020-01-07 00:00:00-05:00  296.82  297.270  296.0611  296.520  1854570   \n",
       "2020-01-08 00:00:00-05:00  296.71  299.310  296.5000  298.060  3358222   \n",
       "...                           ...      ...       ...      ...      ...   \n",
       "2021-10-27 00:00:00-04:00  419.66  420.290  417.2800  417.290  2689475   \n",
       "2021-10-28 00:00:00-04:00  418.78  421.440  418.7500  421.315  3139789   \n",
       "2021-10-29 00:00:00-04:00  419.15  422.515  418.8700  422.140  3983364   \n",
       "2021-11-01 00:00:00-04:00  423.19  423.570  421.2800  423.010  3544932   \n",
       "2021-11-02 00:00:00-04:00  423.15  424.960  423.0100  424.650  2754466   \n",
       "\n",
       "                              VUG                                           \n",
       "                             open      high       low     close     volume  \n",
       "time                                                                        \n",
       "2020-01-02 00:00:00-05:00  183.57  184.7600  183.0900  184.7600  1055649.0  \n",
       "2020-01-03 00:00:00-05:00  182.50  184.4389  182.3700  183.6100   903194.0  \n",
       "2020-01-06 00:00:00-05:00  182.33  184.7800  182.1700  184.7300   777690.0  \n",
       "2020-01-07 00:00:00-05:00  184.69  185.2300  184.2150  184.6035   911559.0  \n",
       "2020-01-08 00:00:00-05:00  184.72  186.8500  184.5400  186.0300   633410.0  \n",
       "...                           ...       ...       ...       ...        ...  \n",
       "2021-10-27 00:00:00-04:00  310.15  312.2920  309.5439  309.5700   577363.0  \n",
       "2021-10-28 00:00:00-04:00  310.99  312.7800  310.4500  312.6800   793656.0  \n",
       "2021-10-29 00:00:00-04:00  310.17  314.3850  309.8100  314.1900   537940.0  \n",
       "2021-11-01 00:00:00-04:00  314.71  314.8500  312.6800  314.3700   577782.0  \n",
       "2021-11-02 00:00:00-04:00  314.16  315.6700  314.0100  315.2500   640526.0  \n",
       "\n",
       "[464 rows x 50 columns]"
      ]
     },
     "metadata": {},
     "execution_count": 8
    }
   ],
   "metadata": {}
  },
  {
   "cell_type": "markdown",
   "source": [
    "## Calculate Closing Prices and Daily Prices/Plots"
   ],
   "metadata": {}
  },
  {
   "cell_type": "code",
   "execution_count": 9,
   "source": [
    "# Create a new empty DF that that holds only the closing prices of each stock\r\n",
    "diversified_closing_prices_df = pd.DataFrame()"
   ],
   "outputs": [],
   "metadata": {}
  },
  {
   "cell_type": "markdown",
   "source": [
    "### For Loop to Access Closing Prices Only"
   ],
   "metadata": {}
  },
  {
   "cell_type": "code",
   "execution_count": 10,
   "source": [
    "# Using a for loop, for every ticker in the tickers list, select only the close price for each ticker in the prices_df DF\r\n",
    "for ticker in tickers:\r\n",
    "  diversified_closing_prices_df[ticker] = diversified_prices_df[ticker][\"close\"]\r\n",
    "\r\n",
    "diversified_closing_prices_df"
   ],
   "outputs": [
    {
     "output_type": "execute_result",
     "data": {
      "text/html": [
       "<div>\n",
       "<style scoped>\n",
       "    .dataframe tbody tr th:only-of-type {\n",
       "        vertical-align: middle;\n",
       "    }\n",
       "\n",
       "    .dataframe tbody tr th {\n",
       "        vertical-align: top;\n",
       "    }\n",
       "\n",
       "    .dataframe thead th {\n",
       "        text-align: right;\n",
       "    }\n",
       "</style>\n",
       "<table border=\"1\" class=\"dataframe\">\n",
       "  <thead>\n",
       "    <tr style=\"text-align: right;\">\n",
       "      <th></th>\n",
       "      <th>VOO</th>\n",
       "      <th>MSFT</th>\n",
       "      <th>AAPL</th>\n",
       "      <th>BND</th>\n",
       "      <th>AMT</th>\n",
       "      <th>VUG</th>\n",
       "      <th>TSLA</th>\n",
       "      <th>AMZN</th>\n",
       "      <th>EDV</th>\n",
       "      <th>PLD</th>\n",
       "    </tr>\n",
       "    <tr>\n",
       "      <th>time</th>\n",
       "      <th></th>\n",
       "      <th></th>\n",
       "      <th></th>\n",
       "      <th></th>\n",
       "      <th></th>\n",
       "      <th></th>\n",
       "      <th></th>\n",
       "      <th></th>\n",
       "      <th></th>\n",
       "      <th></th>\n",
       "    </tr>\n",
       "  </thead>\n",
       "  <tbody>\n",
       "    <tr>\n",
       "      <th>2020-01-02 00:00:00-05:00</th>\n",
       "      <td>298.440</td>\n",
       "      <td>160.73</td>\n",
       "      <td>300.5800</td>\n",
       "      <td>83.9800</td>\n",
       "      <td>228.50</td>\n",
       "      <td>184.7600</td>\n",
       "      <td>430.2400</td>\n",
       "      <td>1897.710</td>\n",
       "      <td>131.690</td>\n",
       "      <td>88.42</td>\n",
       "    </tr>\n",
       "    <tr>\n",
       "      <th>2020-01-03 00:00:00-05:00</th>\n",
       "      <td>296.250</td>\n",
       "      <td>158.59</td>\n",
       "      <td>297.3800</td>\n",
       "      <td>84.2600</td>\n",
       "      <td>228.63</td>\n",
       "      <td>183.6100</td>\n",
       "      <td>442.7500</td>\n",
       "      <td>1874.930</td>\n",
       "      <td>134.270</td>\n",
       "      <td>89.41</td>\n",
       "    </tr>\n",
       "    <tr>\n",
       "      <th>2020-01-06 00:00:00-05:00</th>\n",
       "      <td>297.360</td>\n",
       "      <td>159.02</td>\n",
       "      <td>299.7800</td>\n",
       "      <td>84.1600</td>\n",
       "      <td>228.51</td>\n",
       "      <td>184.7300</td>\n",
       "      <td>451.4001</td>\n",
       "      <td>1903.330</td>\n",
       "      <td>133.560</td>\n",
       "      <td>89.05</td>\n",
       "    </tr>\n",
       "    <tr>\n",
       "      <th>2020-01-07 00:00:00-05:00</th>\n",
       "      <td>296.520</td>\n",
       "      <td>157.60</td>\n",
       "      <td>298.2700</td>\n",
       "      <td>84.0700</td>\n",
       "      <td>223.68</td>\n",
       "      <td>184.6035</td>\n",
       "      <td>469.1700</td>\n",
       "      <td>1906.860</td>\n",
       "      <td>132.650</td>\n",
       "      <td>88.48</td>\n",
       "    </tr>\n",
       "    <tr>\n",
       "      <th>2020-01-08 00:00:00-05:00</th>\n",
       "      <td>298.060</td>\n",
       "      <td>160.14</td>\n",
       "      <td>303.1500</td>\n",
       "      <td>83.9700</td>\n",
       "      <td>225.56</td>\n",
       "      <td>186.0300</td>\n",
       "      <td>492.0900</td>\n",
       "      <td>1892.090</td>\n",
       "      <td>131.630</td>\n",
       "      <td>88.97</td>\n",
       "    </tr>\n",
       "    <tr>\n",
       "      <th>...</th>\n",
       "      <td>...</td>\n",
       "      <td>...</td>\n",
       "      <td>...</td>\n",
       "      <td>...</td>\n",
       "      <td>...</td>\n",
       "      <td>...</td>\n",
       "      <td>...</td>\n",
       "      <td>...</td>\n",
       "      <td>...</td>\n",
       "      <td>...</td>\n",
       "    </tr>\n",
       "    <tr>\n",
       "      <th>2021-10-27 00:00:00-04:00</th>\n",
       "      <td>417.290</td>\n",
       "      <td>323.14</td>\n",
       "      <td>148.8500</td>\n",
       "      <td>85.4800</td>\n",
       "      <td>285.38</td>\n",
       "      <td>309.5700</td>\n",
       "      <td>1038.0000</td>\n",
       "      <td>3393.325</td>\n",
       "      <td>139.975</td>\n",
       "      <td>143.86</td>\n",
       "    </tr>\n",
       "    <tr>\n",
       "      <th>2021-10-28 00:00:00-04:00</th>\n",
       "      <td>421.315</td>\n",
       "      <td>324.32</td>\n",
       "      <td>152.4766</td>\n",
       "      <td>85.3600</td>\n",
       "      <td>286.04</td>\n",
       "      <td>312.6800</td>\n",
       "      <td>1077.0900</td>\n",
       "      <td>3444.500</td>\n",
       "      <td>139.320</td>\n",
       "      <td>146.66</td>\n",
       "    </tr>\n",
       "    <tr>\n",
       "      <th>2021-10-29 00:00:00-04:00</th>\n",
       "      <td>422.140</td>\n",
       "      <td>331.64</td>\n",
       "      <td>149.8000</td>\n",
       "      <td>85.3399</td>\n",
       "      <td>281.71</td>\n",
       "      <td>314.1900</td>\n",
       "      <td>1114.1800</td>\n",
       "      <td>3372.430</td>\n",
       "      <td>139.560</td>\n",
       "      <td>144.86</td>\n",
       "    </tr>\n",
       "    <tr>\n",
       "      <th>2021-11-01 00:00:00-04:00</th>\n",
       "      <td>423.010</td>\n",
       "      <td>329.38</td>\n",
       "      <td>148.9900</td>\n",
       "      <td>85.1500</td>\n",
       "      <td>282.12</td>\n",
       "      <td>314.3700</td>\n",
       "      <td>1209.4800</td>\n",
       "      <td>3317.990</td>\n",
       "      <td>138.150</td>\n",
       "      <td>144.74</td>\n",
       "    </tr>\n",
       "    <tr>\n",
       "      <th>2021-11-02 00:00:00-04:00</th>\n",
       "      <td>424.650</td>\n",
       "      <td>333.26</td>\n",
       "      <td>150.0000</td>\n",
       "      <td>85.3350</td>\n",
       "      <td>282.65</td>\n",
       "      <td>315.2500</td>\n",
       "      <td>1171.8500</td>\n",
       "      <td>3313.170</td>\n",
       "      <td>139.050</td>\n",
       "      <td>147.01</td>\n",
       "    </tr>\n",
       "  </tbody>\n",
       "</table>\n",
       "<p>464 rows × 10 columns</p>\n",
       "</div>"
      ],
      "text/plain": [
       "                               VOO    MSFT      AAPL      BND     AMT  \\\n",
       "time                                                                    \n",
       "2020-01-02 00:00:00-05:00  298.440  160.73  300.5800  83.9800  228.50   \n",
       "2020-01-03 00:00:00-05:00  296.250  158.59  297.3800  84.2600  228.63   \n",
       "2020-01-06 00:00:00-05:00  297.360  159.02  299.7800  84.1600  228.51   \n",
       "2020-01-07 00:00:00-05:00  296.520  157.60  298.2700  84.0700  223.68   \n",
       "2020-01-08 00:00:00-05:00  298.060  160.14  303.1500  83.9700  225.56   \n",
       "...                            ...     ...       ...      ...     ...   \n",
       "2021-10-27 00:00:00-04:00  417.290  323.14  148.8500  85.4800  285.38   \n",
       "2021-10-28 00:00:00-04:00  421.315  324.32  152.4766  85.3600  286.04   \n",
       "2021-10-29 00:00:00-04:00  422.140  331.64  149.8000  85.3399  281.71   \n",
       "2021-11-01 00:00:00-04:00  423.010  329.38  148.9900  85.1500  282.12   \n",
       "2021-11-02 00:00:00-04:00  424.650  333.26  150.0000  85.3350  282.65   \n",
       "\n",
       "                                VUG       TSLA      AMZN      EDV     PLD  \n",
       "time                                                                       \n",
       "2020-01-02 00:00:00-05:00  184.7600   430.2400  1897.710  131.690   88.42  \n",
       "2020-01-03 00:00:00-05:00  183.6100   442.7500  1874.930  134.270   89.41  \n",
       "2020-01-06 00:00:00-05:00  184.7300   451.4001  1903.330  133.560   89.05  \n",
       "2020-01-07 00:00:00-05:00  184.6035   469.1700  1906.860  132.650   88.48  \n",
       "2020-01-08 00:00:00-05:00  186.0300   492.0900  1892.090  131.630   88.97  \n",
       "...                             ...        ...       ...      ...     ...  \n",
       "2021-10-27 00:00:00-04:00  309.5700  1038.0000  3393.325  139.975  143.86  \n",
       "2021-10-28 00:00:00-04:00  312.6800  1077.0900  3444.500  139.320  146.66  \n",
       "2021-10-29 00:00:00-04:00  314.1900  1114.1800  3372.430  139.560  144.86  \n",
       "2021-11-01 00:00:00-04:00  314.3700  1209.4800  3317.990  138.150  144.74  \n",
       "2021-11-02 00:00:00-04:00  315.2500  1171.8500  3313.170  139.050  147.01  \n",
       "\n",
       "[464 rows x 10 columns]"
      ]
     },
     "metadata": {},
     "execution_count": 10
    }
   ],
   "metadata": {}
  },
  {
   "cell_type": "markdown",
   "source": [
    "### Calculate Aggregate Daily Returns for Portfolio"
   ],
   "metadata": {}
  },
  {
   "cell_type": "code",
   "execution_count": 11,
   "source": [
    "# Calculate the daily returns for of the Stock Portfolio\r\n",
    "diversified_daily_returns_df = diversified_closing_prices_df.sum(axis=1).pct_change().dropna()\r\n",
    "diversified_daily_returns_df"
   ],
   "outputs": [
    {
     "output_type": "execute_result",
     "data": {
      "text/plain": [
       "time\n",
       "2020-01-03 00:00:00-05:00   -0.003934\n",
       "2020-01-06 00:00:00-05:00    0.010770\n",
       "2020-01-07 00:00:00-05:00    0.002872\n",
       "2020-01-08 00:00:00-05:00    0.005150\n",
       "2020-01-09 00:00:00-05:00    0.003079\n",
       "                               ...   \n",
       "2021-10-27 00:00:00-04:00    0.007766\n",
       "2021-10-28 00:00:00-04:00    0.016690\n",
       "2021-10-29 00:00:00-04:00   -0.005307\n",
       "2021-11-01 00:00:00-04:00    0.005905\n",
       "2021-11-02 00:00:00-04:00   -0.004873\n",
       "Length: 463, dtype: float64"
      ]
     },
     "metadata": {},
     "execution_count": 11
    }
   ],
   "metadata": {}
  },
  {
   "cell_type": "markdown",
   "source": [
    "### Plot the Aggregated Daily Returns"
   ],
   "metadata": {}
  },
  {
   "cell_type": "code",
   "execution_count": 12,
   "source": [
    "# Plot daily returns for the stocks portfolio\r\n",
    "diversified_daily_returns_df.plot(figsize=(15,10), title=\"Daily Returns - Diversified Portfolio (Jan. 2020 - Nov. 2021)\")"
   ],
   "outputs": [
    {
     "output_type": "execute_result",
     "data": {
      "text/plain": [
       "<AxesSubplot:title={'center':'Daily Returns - Diversified Portfolio (Jan. 2020 - Nov. 2021)'}, xlabel='time'>"
      ]
     },
     "metadata": {},
     "execution_count": 12
    },
    {
     "output_type": "display_data",
     "data": {
      "image/png": "[encoded data removed]",
      "text/plain": [
       "<Figure size 1080x720 with 1 Axes>"
      ]
     },
     "metadata": {
      "needs_background": "light"
     }
    }
   ],
   "metadata": {}
  },
  {
   "cell_type": "markdown",
   "source": [
    "## Set Up and Run Monte Carlo Simulation for 10 Years"
   ],
   "metadata": {}
  },
  {
   "cell_type": "code",
   "execution_count": null,
   "source": [
    "# Set up Monte Carlo Simulation for the Diversified Portfoliofor a 5 year time period with a $10,000 initial investment\r\n",
    "MC_diversified_five_year = MCSimulation(\r\n",
    "  portfolio_data=diversified_prices_df,\r\n",
    "  weights=[.1, .1, .1, .1, .1, .1, .1, .1, .1, .1],\r\n",
    "  num_simulation=1000,\r\n",
    "  num_trading_days=252 * 5\r\n",
    ")\r\n",
    "\r\n",
    "MC_diversified_five_year.portfolio_data.head()"
   ],
   "outputs": [],
   "metadata": {}
  },
  {
   "cell_type": "code",
   "execution_count": null,
   "source": [
    "# Run the Monte Carlo simulation to forecast 5 years cumulative returns for the Diversified Portfolio\r\n",
    "MC_diversified_five_year.calc_cumulative_return()"
   ],
   "outputs": [],
   "metadata": {}
  },
  {
   "cell_type": "code",
   "execution_count": null,
   "source": [
    "# Visualize the 5-year Monte Carlo simulation by creating an overlay line plot for the Diversified Portfolio\r\n",
    "MC_diversified_five_year.plot_simulation()"
   ],
   "outputs": [],
   "metadata": {}
  },
  {
   "cell_type": "code",
   "execution_count": null,
   "source": [
    "# Visualize the probability distribution of the 5-year Monte Carlo simulation by plotting a histogram for the Diversified Portfolio\r\n",
    "MC_diversified_five_year.plot_distribution()"
   ],
   "outputs": [],
   "metadata": {}
  },
  {
   "cell_type": "code",
   "execution_count": null,
   "source": [
    "# Generate summary statistics from the 5-year Monte Carlo simulation results for the Diversified Portfolio\r\n",
    "# Save the results as a variable\r\n",
    "MC_diversified_five_year_summary_statistics = MC_diversified_five_year.summarize_cumulative_return()\r\n",
    "\r\n",
    "# Review the 30-year Monte Carlo summary statistics\r\n",
    "print(MC_diversified_five_year_summary_statistics)"
   ],
   "outputs": [],
   "metadata": {}
  },
  {
   "cell_type": "code",
   "execution_count": null,
   "source": [
    "# Calculate the confidence index lower and upper projections for a $10,000 initial investment in the Diversified Portfolio\r\n",
    "diversified_five_year_lower_ci = round(MC_diversified_five_year_summary_statistics[8]*10000, 2)\r\n",
    "diversified_five_year_upper_ci = round(MC_diversified_five_year_summary_statistics[9]*10000, 2)\r\n",
    "\r\n",
    "print(f\"With a 95% confidence interval, an initial investment of $10,000 in our Stocks Portfolio for 5 years, will be in the range of ${diversified_five_year_lower_ci} and ${diversified_five_year_upper_ci}\")"
   ],
   "outputs": [],
   "metadata": {}
  },
  {
   "cell_type": "code",
   "execution_count": null,
   "source": [
    "# Set up Monte Carlo Simulation for a 10 year time period with a $10,000 initial investment in our Diversified Portfolio\r\n",
    "MC_diversified_ten_year = MCSimulation(\r\n",
    "  portfolio_data=diversified_prices_df,\r\n",
    "  weights=[.1, .1, .1, .1, .1, .1, .1, .1, .1, .1],\r\n",
    "  num_simulation=1000,\r\n",
    "  num_trading_days=252 * 10\r\n",
    ")\r\n",
    "\r\n",
    "MC_diversified_ten_year.portfolio_data.head()"
   ],
   "outputs": [],
   "metadata": {}
  },
  {
   "cell_type": "code",
   "execution_count": null,
   "source": [
    "# Run the Monte Carlo simulation to forecast 10 years cumulative returns for our Diversified Portfolio\r\n",
    "MC_diversified_ten_year.calc_cumulative_return()"
   ],
   "outputs": [],
   "metadata": {}
  },
  {
   "cell_type": "code",
   "execution_count": null,
   "source": [],
   "outputs": [],
   "metadata": {}
  }
 ],
 "metadata": {
  "orig_nbformat": 4,
  "language_info": {
   "name": "python",
   "version": "3.7.10",
   "mimetype": "text/x-python",
   "codemirror_mode": {
    "name": "ipython",
    "version": 3
   },
   "pygments_lexer": "ipython3",
   "nbconvert_exporter": "python",
   "file_extension": ".py"
  },
  "kernelspec": {
   "name": "python3",
   "display_name": "Python 3.7.10 64-bit ('dev': conda)"
  },
  "interpreter": {
   "hash": "ad9fb37fa15c2fac4885b853501abc8587965d08b8586f67468c92fe4e3567d7"
  }
 },
 "nbformat": 4,
 "nbformat_minor": 2
}